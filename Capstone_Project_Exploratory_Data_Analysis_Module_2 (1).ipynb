{
  "nbformat": 4,
  "nbformat_minor": 0,
  "metadata": {
    "colab": {
      "provenance": []
    },
    "kernelspec": {
      "name": "python3",
      "display_name": "Python 3"
    },
    "language_info": {
      "name": "python"
    }
  },
  "cells": [
    {
      "cell_type": "markdown",
      "source": [
        "# **Project Name -Hotel Booking Analysis**"
      ],
      "metadata": {
        "id": "S3wPZ2wXlY1k"
      }
    },
    {
      "cell_type": "markdown",
      "source": [
        "# **Problem Statement**\n",
        "\n",
        "The goal of this project is to conduct an Exploratory Data Analysis (EDA) on a hotel dataset to uncover insights and trends within the data. This analysis aims to identify key patterns in customer behavior, booking trends, seasonal variations, and revenue sources. By visualizing and interpreting the data, we aim to provide actionable recommendations for improving hotel management and customer satisfaction. Additionally, this EDA will help highlight any data quality issues that need to be addressed for more accurate decision-making. The ultimate objective is to leverage data-driven insights to enhance the overall performance of the hotel."
      ],
      "metadata": {
        "id": "tu7ScSk8lryk"
      }
    },
    {
      "cell_type": "markdown",
      "source": [
        "# **Business Context**\n",
        "\n",
        "Have you ever wondered when the best time of year to book a hotel room is? Or the optimal length of stay in order to get the best daily rate? What if you wanted to predict whether or not a hotel was likely to receive a disproportionately high number of special requests? This hotel booking dataset can help you explore those questions! This data set contains booking information for a city hotel and a resort hotel, and includes information such as when the booking was made, length of stay, the number of adults, children, and/or babies, and the number of available parking spaces, among other things. All personally identifying information has been removed from the data. Explore and analyse the data to discover important factors that govern the bookings"
      ],
      "metadata": {
        "id": "N7_UJ5xjl1Y4"
      }
    },
    {
      "cell_type": "code",
      "source": [
        "import pandas as pd\n",
        "import numpy as np\n",
        "import matplotlib.pyplot as plt\n",
        "import seaborn as sns"
      ],
      "metadata": {
        "id": "UiQ7MJjjl1F6"
      },
      "execution_count": null,
      "outputs": []
    },
    {
      "cell_type": "code",
      "execution_count": null,
      "metadata": {
        "id": "Tp3uDgNilRA2"
      },
      "outputs": [],
      "source": [
        "data=pd.read_csv('Hotel Bookings.csv')"
      ]
    },
    {
      "cell_type": "code",
      "source": [
        "data.head()"
      ],
      "metadata": {
        "id": "Ae3HHodTqMF6",
        "colab": {
          "base_uri": "https://localhost:8080/",
          "height": 342
        },
        "outputId": "a97d882d-53d4-478c-f6f6-b735b7e77a46"
      },
      "execution_count": null,
      "outputs": [
        {
          "output_type": "execute_result",
          "data": {
            "text/plain": [
              "          hotel  is_canceled  lead_time  arrival_date_year arrival_date_month  \\\n",
              "0  Resort Hotel            0        342               2015               July   \n",
              "1  Resort Hotel            0        737               2015               July   \n",
              "2  Resort Hotel            0          7               2015               July   \n",
              "3  Resort Hotel            0         13               2015               July   \n",
              "4  Resort Hotel            0         14               2015               July   \n",
              "\n",
              "   arrival_date_week_number  arrival_date_day_of_month  \\\n",
              "0                        27                          1   \n",
              "1                        27                          1   \n",
              "2                        27                          1   \n",
              "3                        27                          1   \n",
              "4                        27                          1   \n",
              "\n",
              "   stays_in_weekend_nights  stays_in_week_nights  adults  ...  deposit_type  \\\n",
              "0                        0                     0       2  ...    No Deposit   \n",
              "1                        0                     0       2  ...    No Deposit   \n",
              "2                        0                     1       1  ...    No Deposit   \n",
              "3                        0                     1       1  ...    No Deposit   \n",
              "4                        0                     2       2  ...    No Deposit   \n",
              "\n",
              "   agent company days_in_waiting_list customer_type   adr  \\\n",
              "0    NaN     NaN                    0     Transient   0.0   \n",
              "1    NaN     NaN                    0     Transient   0.0   \n",
              "2    NaN     NaN                    0     Transient  75.0   \n",
              "3  304.0     NaN                    0     Transient  75.0   \n",
              "4  240.0     NaN                    0     Transient  98.0   \n",
              "\n",
              "   required_car_parking_spaces  total_of_special_requests  reservation_status  \\\n",
              "0                            0                          0           Check-Out   \n",
              "1                            0                          0           Check-Out   \n",
              "2                            0                          0           Check-Out   \n",
              "3                            0                          0           Check-Out   \n",
              "4                            0                          1           Check-Out   \n",
              "\n",
              "  reservation_status_date  \n",
              "0              2015-07-01  \n",
              "1              2015-07-01  \n",
              "2              2015-07-02  \n",
              "3              2015-07-02  \n",
              "4              2015-07-03  \n",
              "\n",
              "[5 rows x 32 columns]"
            ],
            "text/html": [
              "\n",
              "  <div id=\"df-8abc8e83-cb2d-43eb-a96f-c36972498a04\" class=\"colab-df-container\">\n",
              "    <div>\n",
              "<style scoped>\n",
              "    .dataframe tbody tr th:only-of-type {\n",
              "        vertical-align: middle;\n",
              "    }\n",
              "\n",
              "    .dataframe tbody tr th {\n",
              "        vertical-align: top;\n",
              "    }\n",
              "\n",
              "    .dataframe thead th {\n",
              "        text-align: right;\n",
              "    }\n",
              "</style>\n",
              "<table border=\"1\" class=\"dataframe\">\n",
              "  <thead>\n",
              "    <tr style=\"text-align: right;\">\n",
              "      <th></th>\n",
              "      <th>hotel</th>\n",
              "      <th>is_canceled</th>\n",
              "      <th>lead_time</th>\n",
              "      <th>arrival_date_year</th>\n",
              "      <th>arrival_date_month</th>\n",
              "      <th>arrival_date_week_number</th>\n",
              "      <th>arrival_date_day_of_month</th>\n",
              "      <th>stays_in_weekend_nights</th>\n",
              "      <th>stays_in_week_nights</th>\n",
              "      <th>adults</th>\n",
              "      <th>...</th>\n",
              "      <th>deposit_type</th>\n",
              "      <th>agent</th>\n",
              "      <th>company</th>\n",
              "      <th>days_in_waiting_list</th>\n",
              "      <th>customer_type</th>\n",
              "      <th>adr</th>\n",
              "      <th>required_car_parking_spaces</th>\n",
              "      <th>total_of_special_requests</th>\n",
              "      <th>reservation_status</th>\n",
              "      <th>reservation_status_date</th>\n",
              "    </tr>\n",
              "  </thead>\n",
              "  <tbody>\n",
              "    <tr>\n",
              "      <th>0</th>\n",
              "      <td>Resort Hotel</td>\n",
              "      <td>0</td>\n",
              "      <td>342</td>\n",
              "      <td>2015</td>\n",
              "      <td>July</td>\n",
              "      <td>27</td>\n",
              "      <td>1</td>\n",
              "      <td>0</td>\n",
              "      <td>0</td>\n",
              "      <td>2</td>\n",
              "      <td>...</td>\n",
              "      <td>No Deposit</td>\n",
              "      <td>NaN</td>\n",
              "      <td>NaN</td>\n",
              "      <td>0</td>\n",
              "      <td>Transient</td>\n",
              "      <td>0.0</td>\n",
              "      <td>0</td>\n",
              "      <td>0</td>\n",
              "      <td>Check-Out</td>\n",
              "      <td>2015-07-01</td>\n",
              "    </tr>\n",
              "    <tr>\n",
              "      <th>1</th>\n",
              "      <td>Resort Hotel</td>\n",
              "      <td>0</td>\n",
              "      <td>737</td>\n",
              "      <td>2015</td>\n",
              "      <td>July</td>\n",
              "      <td>27</td>\n",
              "      <td>1</td>\n",
              "      <td>0</td>\n",
              "      <td>0</td>\n",
              "      <td>2</td>\n",
              "      <td>...</td>\n",
              "      <td>No Deposit</td>\n",
              "      <td>NaN</td>\n",
              "      <td>NaN</td>\n",
              "      <td>0</td>\n",
              "      <td>Transient</td>\n",
              "      <td>0.0</td>\n",
              "      <td>0</td>\n",
              "      <td>0</td>\n",
              "      <td>Check-Out</td>\n",
              "      <td>2015-07-01</td>\n",
              "    </tr>\n",
              "    <tr>\n",
              "      <th>2</th>\n",
              "      <td>Resort Hotel</td>\n",
              "      <td>0</td>\n",
              "      <td>7</td>\n",
              "      <td>2015</td>\n",
              "      <td>July</td>\n",
              "      <td>27</td>\n",
              "      <td>1</td>\n",
              "      <td>0</td>\n",
              "      <td>1</td>\n",
              "      <td>1</td>\n",
              "      <td>...</td>\n",
              "      <td>No Deposit</td>\n",
              "      <td>NaN</td>\n",
              "      <td>NaN</td>\n",
              "      <td>0</td>\n",
              "      <td>Transient</td>\n",
              "      <td>75.0</td>\n",
              "      <td>0</td>\n",
              "      <td>0</td>\n",
              "      <td>Check-Out</td>\n",
              "      <td>2015-07-02</td>\n",
              "    </tr>\n",
              "    <tr>\n",
              "      <th>3</th>\n",
              "      <td>Resort Hotel</td>\n",
              "      <td>0</td>\n",
              "      <td>13</td>\n",
              "      <td>2015</td>\n",
              "      <td>July</td>\n",
              "      <td>27</td>\n",
              "      <td>1</td>\n",
              "      <td>0</td>\n",
              "      <td>1</td>\n",
              "      <td>1</td>\n",
              "      <td>...</td>\n",
              "      <td>No Deposit</td>\n",
              "      <td>304.0</td>\n",
              "      <td>NaN</td>\n",
              "      <td>0</td>\n",
              "      <td>Transient</td>\n",
              "      <td>75.0</td>\n",
              "      <td>0</td>\n",
              "      <td>0</td>\n",
              "      <td>Check-Out</td>\n",
              "      <td>2015-07-02</td>\n",
              "    </tr>\n",
              "    <tr>\n",
              "      <th>4</th>\n",
              "      <td>Resort Hotel</td>\n",
              "      <td>0</td>\n",
              "      <td>14</td>\n",
              "      <td>2015</td>\n",
              "      <td>July</td>\n",
              "      <td>27</td>\n",
              "      <td>1</td>\n",
              "      <td>0</td>\n",
              "      <td>2</td>\n",
              "      <td>2</td>\n",
              "      <td>...</td>\n",
              "      <td>No Deposit</td>\n",
              "      <td>240.0</td>\n",
              "      <td>NaN</td>\n",
              "      <td>0</td>\n",
              "      <td>Transient</td>\n",
              "      <td>98.0</td>\n",
              "      <td>0</td>\n",
              "      <td>1</td>\n",
              "      <td>Check-Out</td>\n",
              "      <td>2015-07-03</td>\n",
              "    </tr>\n",
              "  </tbody>\n",
              "</table>\n",
              "<p>5 rows × 32 columns</p>\n",
              "</div>\n",
              "    <div class=\"colab-df-buttons\">\n",
              "\n",
              "  <div class=\"colab-df-container\">\n",
              "    <button class=\"colab-df-convert\" onclick=\"convertToInteractive('df-8abc8e83-cb2d-43eb-a96f-c36972498a04')\"\n",
              "            title=\"Convert this dataframe to an interactive table.\"\n",
              "            style=\"display:none;\">\n",
              "\n",
              "  <svg xmlns=\"http://www.w3.org/2000/svg\" height=\"24px\" viewBox=\"0 -960 960 960\">\n",
              "    <path d=\"M120-120v-720h720v720H120Zm60-500h600v-160H180v160Zm220 220h160v-160H400v160Zm0 220h160v-160H400v160ZM180-400h160v-160H180v160Zm440 0h160v-160H620v160ZM180-180h160v-160H180v160Zm440 0h160v-160H620v160Z\"/>\n",
              "  </svg>\n",
              "    </button>\n",
              "\n",
              "  <style>\n",
              "    .colab-df-container {\n",
              "      display:flex;\n",
              "      gap: 12px;\n",
              "    }\n",
              "\n",
              "    .colab-df-convert {\n",
              "      background-color: #E8F0FE;\n",
              "      border: none;\n",
              "      border-radius: 50%;\n",
              "      cursor: pointer;\n",
              "      display: none;\n",
              "      fill: #1967D2;\n",
              "      height: 32px;\n",
              "      padding: 0 0 0 0;\n",
              "      width: 32px;\n",
              "    }\n",
              "\n",
              "    .colab-df-convert:hover {\n",
              "      background-color: #E2EBFA;\n",
              "      box-shadow: 0px 1px 2px rgba(60, 64, 67, 0.3), 0px 1px 3px 1px rgba(60, 64, 67, 0.15);\n",
              "      fill: #174EA6;\n",
              "    }\n",
              "\n",
              "    .colab-df-buttons div {\n",
              "      margin-bottom: 4px;\n",
              "    }\n",
              "\n",
              "    [theme=dark] .colab-df-convert {\n",
              "      background-color: #3B4455;\n",
              "      fill: #D2E3FC;\n",
              "    }\n",
              "\n",
              "    [theme=dark] .colab-df-convert:hover {\n",
              "      background-color: #434B5C;\n",
              "      box-shadow: 0px 1px 3px 1px rgba(0, 0, 0, 0.15);\n",
              "      filter: drop-shadow(0px 1px 2px rgba(0, 0, 0, 0.3));\n",
              "      fill: #FFFFFF;\n",
              "    }\n",
              "  </style>\n",
              "\n",
              "    <script>\n",
              "      const buttonEl =\n",
              "        document.querySelector('#df-8abc8e83-cb2d-43eb-a96f-c36972498a04 button.colab-df-convert');\n",
              "      buttonEl.style.display =\n",
              "        google.colab.kernel.accessAllowed ? 'block' : 'none';\n",
              "\n",
              "      async function convertToInteractive(key) {\n",
              "        const element = document.querySelector('#df-8abc8e83-cb2d-43eb-a96f-c36972498a04');\n",
              "        const dataTable =\n",
              "          await google.colab.kernel.invokeFunction('convertToInteractive',\n",
              "                                                    [key], {});\n",
              "        if (!dataTable) return;\n",
              "\n",
              "        const docLinkHtml = 'Like what you see? Visit the ' +\n",
              "          '<a target=\"_blank\" href=https://colab.research.google.com/notebooks/data_table.ipynb>data table notebook</a>'\n",
              "          + ' to learn more about interactive tables.';\n",
              "        element.innerHTML = '';\n",
              "        dataTable['output_type'] = 'display_data';\n",
              "        await google.colab.output.renderOutput(dataTable, element);\n",
              "        const docLink = document.createElement('div');\n",
              "        docLink.innerHTML = docLinkHtml;\n",
              "        element.appendChild(docLink);\n",
              "      }\n",
              "    </script>\n",
              "  </div>\n",
              "\n",
              "\n",
              "<div id=\"df-49efcd21-8beb-4f51-8a09-124ffa655ea2\">\n",
              "  <button class=\"colab-df-quickchart\" onclick=\"quickchart('df-49efcd21-8beb-4f51-8a09-124ffa655ea2')\"\n",
              "            title=\"Suggest charts\"\n",
              "            style=\"display:none;\">\n",
              "\n",
              "<svg xmlns=\"http://www.w3.org/2000/svg\" height=\"24px\"viewBox=\"0 0 24 24\"\n",
              "     width=\"24px\">\n",
              "    <g>\n",
              "        <path d=\"M19 3H5c-1.1 0-2 .9-2 2v14c0 1.1.9 2 2 2h14c1.1 0 2-.9 2-2V5c0-1.1-.9-2-2-2zM9 17H7v-7h2v7zm4 0h-2V7h2v10zm4 0h-2v-4h2v4z\"/>\n",
              "    </g>\n",
              "</svg>\n",
              "  </button>\n",
              "\n",
              "<style>\n",
              "  .colab-df-quickchart {\n",
              "      --bg-color: #E8F0FE;\n",
              "      --fill-color: #1967D2;\n",
              "      --hover-bg-color: #E2EBFA;\n",
              "      --hover-fill-color: #174EA6;\n",
              "      --disabled-fill-color: #AAA;\n",
              "      --disabled-bg-color: #DDD;\n",
              "  }\n",
              "\n",
              "  [theme=dark] .colab-df-quickchart {\n",
              "      --bg-color: #3B4455;\n",
              "      --fill-color: #D2E3FC;\n",
              "      --hover-bg-color: #434B5C;\n",
              "      --hover-fill-color: #FFFFFF;\n",
              "      --disabled-bg-color: #3B4455;\n",
              "      --disabled-fill-color: #666;\n",
              "  }\n",
              "\n",
              "  .colab-df-quickchart {\n",
              "    background-color: var(--bg-color);\n",
              "    border: none;\n",
              "    border-radius: 50%;\n",
              "    cursor: pointer;\n",
              "    display: none;\n",
              "    fill: var(--fill-color);\n",
              "    height: 32px;\n",
              "    padding: 0;\n",
              "    width: 32px;\n",
              "  }\n",
              "\n",
              "  .colab-df-quickchart:hover {\n",
              "    background-color: var(--hover-bg-color);\n",
              "    box-shadow: 0 1px 2px rgba(60, 64, 67, 0.3), 0 1px 3px 1px rgba(60, 64, 67, 0.15);\n",
              "    fill: var(--button-hover-fill-color);\n",
              "  }\n",
              "\n",
              "  .colab-df-quickchart-complete:disabled,\n",
              "  .colab-df-quickchart-complete:disabled:hover {\n",
              "    background-color: var(--disabled-bg-color);\n",
              "    fill: var(--disabled-fill-color);\n",
              "    box-shadow: none;\n",
              "  }\n",
              "\n",
              "  .colab-df-spinner {\n",
              "    border: 2px solid var(--fill-color);\n",
              "    border-color: transparent;\n",
              "    border-bottom-color: var(--fill-color);\n",
              "    animation:\n",
              "      spin 1s steps(1) infinite;\n",
              "  }\n",
              "\n",
              "  @keyframes spin {\n",
              "    0% {\n",
              "      border-color: transparent;\n",
              "      border-bottom-color: var(--fill-color);\n",
              "      border-left-color: var(--fill-color);\n",
              "    }\n",
              "    20% {\n",
              "      border-color: transparent;\n",
              "      border-left-color: var(--fill-color);\n",
              "      border-top-color: var(--fill-color);\n",
              "    }\n",
              "    30% {\n",
              "      border-color: transparent;\n",
              "      border-left-color: var(--fill-color);\n",
              "      border-top-color: var(--fill-color);\n",
              "      border-right-color: var(--fill-color);\n",
              "    }\n",
              "    40% {\n",
              "      border-color: transparent;\n",
              "      border-right-color: var(--fill-color);\n",
              "      border-top-color: var(--fill-color);\n",
              "    }\n",
              "    60% {\n",
              "      border-color: transparent;\n",
              "      border-right-color: var(--fill-color);\n",
              "    }\n",
              "    80% {\n",
              "      border-color: transparent;\n",
              "      border-right-color: var(--fill-color);\n",
              "      border-bottom-color: var(--fill-color);\n",
              "    }\n",
              "    90% {\n",
              "      border-color: transparent;\n",
              "      border-bottom-color: var(--fill-color);\n",
              "    }\n",
              "  }\n",
              "</style>\n",
              "\n",
              "  <script>\n",
              "    async function quickchart(key) {\n",
              "      const quickchartButtonEl =\n",
              "        document.querySelector('#' + key + ' button');\n",
              "      quickchartButtonEl.disabled = true;  // To prevent multiple clicks.\n",
              "      quickchartButtonEl.classList.add('colab-df-spinner');\n",
              "      try {\n",
              "        const charts = await google.colab.kernel.invokeFunction(\n",
              "            'suggestCharts', [key], {});\n",
              "      } catch (error) {\n",
              "        console.error('Error during call to suggestCharts:', error);\n",
              "      }\n",
              "      quickchartButtonEl.classList.remove('colab-df-spinner');\n",
              "      quickchartButtonEl.classList.add('colab-df-quickchart-complete');\n",
              "    }\n",
              "    (() => {\n",
              "      let quickchartButtonEl =\n",
              "        document.querySelector('#df-49efcd21-8beb-4f51-8a09-124ffa655ea2 button');\n",
              "      quickchartButtonEl.style.display =\n",
              "        google.colab.kernel.accessAllowed ? 'block' : 'none';\n",
              "    })();\n",
              "  </script>\n",
              "</div>\n",
              "\n",
              "    </div>\n",
              "  </div>\n"
            ],
            "application/vnd.google.colaboratory.intrinsic+json": {
              "type": "dataframe",
              "variable_name": "data"
            }
          },
          "metadata": {},
          "execution_count": 52
        }
      ]
    },
    {
      "cell_type": "code",
      "source": [
        "data.columns,len(data.columns)"
      ],
      "metadata": {
        "id": "H0NQWv07qOdl",
        "colab": {
          "base_uri": "https://localhost:8080/"
        },
        "outputId": "5912049e-d64c-4d4d-e7f4-50c73a235b46"
      },
      "execution_count": null,
      "outputs": [
        {
          "output_type": "execute_result",
          "data": {
            "text/plain": [
              "(Index(['hotel', 'is_canceled', 'lead_time', 'arrival_date_year',\n",
              "        'arrival_date_month', 'arrival_date_week_number',\n",
              "        'arrival_date_day_of_month', 'stays_in_weekend_nights',\n",
              "        'stays_in_week_nights', 'adults', 'children', 'babies', 'meal',\n",
              "        'country', 'market_segment', 'distribution_channel',\n",
              "        'is_repeated_guest', 'previous_cancellations',\n",
              "        'previous_bookings_not_canceled', 'reserved_room_type',\n",
              "        'assigned_room_type', 'booking_changes', 'deposit_type', 'agent',\n",
              "        'company', 'days_in_waiting_list', 'customer_type', 'adr',\n",
              "        'required_car_parking_spaces', 'total_of_special_requests',\n",
              "        'reservation_status', 'reservation_status_date'],\n",
              "       dtype='object'),\n",
              " 32)"
            ]
          },
          "metadata": {},
          "execution_count": 53
        }
      ]
    },
    {
      "cell_type": "code",
      "source": [
        "data.shape"
      ],
      "metadata": {
        "id": "UYDZfBlQqUwk",
        "colab": {
          "base_uri": "https://localhost:8080/"
        },
        "outputId": "f9f199de-35c5-43c9-ee80-99a9d5499b9d"
      },
      "execution_count": null,
      "outputs": [
        {
          "output_type": "execute_result",
          "data": {
            "text/plain": [
              "(119390, 32)"
            ]
          },
          "metadata": {},
          "execution_count": 54
        }
      ]
    },
    {
      "cell_type": "markdown",
      "source": [
        "Checking the information of the data columns"
      ],
      "metadata": {
        "id": "6f2SdvmNrhLV"
      }
    },
    {
      "cell_type": "code",
      "source": [
        "data.info()"
      ],
      "metadata": {
        "id": "-afpS_DJqlKG",
        "colab": {
          "base_uri": "https://localhost:8080/"
        },
        "outputId": "389cb656-28fa-4874-ff89-c566ea54e5f5"
      },
      "execution_count": null,
      "outputs": [
        {
          "output_type": "stream",
          "name": "stdout",
          "text": [
            "<class 'pandas.core.frame.DataFrame'>\n",
            "RangeIndex: 119390 entries, 0 to 119389\n",
            "Data columns (total 32 columns):\n",
            " #   Column                          Non-Null Count   Dtype  \n",
            "---  ------                          --------------   -----  \n",
            " 0   hotel                           119390 non-null  object \n",
            " 1   is_canceled                     119390 non-null  int64  \n",
            " 2   lead_time                       119390 non-null  int64  \n",
            " 3   arrival_date_year               119390 non-null  int64  \n",
            " 4   arrival_date_month              119390 non-null  object \n",
            " 5   arrival_date_week_number        119390 non-null  int64  \n",
            " 6   arrival_date_day_of_month       119390 non-null  int64  \n",
            " 7   stays_in_weekend_nights         119390 non-null  int64  \n",
            " 8   stays_in_week_nights            119390 non-null  int64  \n",
            " 9   adults                          119390 non-null  int64  \n",
            " 10  children                        119386 non-null  float64\n",
            " 11  babies                          119390 non-null  int64  \n",
            " 12  meal                            119390 non-null  object \n",
            " 13  country                         118902 non-null  object \n",
            " 14  market_segment                  119390 non-null  object \n",
            " 15  distribution_channel            119390 non-null  object \n",
            " 16  is_repeated_guest               119390 non-null  int64  \n",
            " 17  previous_cancellations          119390 non-null  int64  \n",
            " 18  previous_bookings_not_canceled  119390 non-null  int64  \n",
            " 19  reserved_room_type              119390 non-null  object \n",
            " 20  assigned_room_type              119390 non-null  object \n",
            " 21  booking_changes                 119390 non-null  int64  \n",
            " 22  deposit_type                    119390 non-null  object \n",
            " 23  agent                           103050 non-null  float64\n",
            " 24  company                         6797 non-null    float64\n",
            " 25  days_in_waiting_list            119390 non-null  int64  \n",
            " 26  customer_type                   119390 non-null  object \n",
            " 27  adr                             119390 non-null  float64\n",
            " 28  required_car_parking_spaces     119390 non-null  int64  \n",
            " 29  total_of_special_requests       119390 non-null  int64  \n",
            " 30  reservation_status              119390 non-null  object \n",
            " 31  reservation_status_date         119390 non-null  object \n",
            "dtypes: float64(4), int64(16), object(12)\n",
            "memory usage: 29.1+ MB\n"
          ]
        }
      ]
    },
    {
      "cell_type": "code",
      "source": [
        "data['hotel'].unique()"
      ],
      "metadata": {
        "id": "usYVQ9cJto2q",
        "colab": {
          "base_uri": "https://localhost:8080/"
        },
        "outputId": "4dc9a5c1-07cf-48f0-8f75-7de1cd42abc1"
      },
      "execution_count": null,
      "outputs": [
        {
          "output_type": "execute_result",
          "data": {
            "text/plain": [
              "array(['Resort Hotel', 'City Hotel'], dtype=object)"
            ]
          },
          "metadata": {},
          "execution_count": 56
        }
      ]
    },
    {
      "cell_type": "code",
      "source": [
        "data['children'].head(3)"
      ],
      "metadata": {
        "id": "Ay0v36J7qsbw",
        "colab": {
          "base_uri": "https://localhost:8080/"
        },
        "outputId": "9bfe7a98-4ef2-4856-faae-9f066377ffef"
      },
      "execution_count": null,
      "outputs": [
        {
          "output_type": "execute_result",
          "data": {
            "text/plain": [
              "0    0.0\n",
              "1    0.0\n",
              "2    0.0\n",
              "Name: children, dtype: float64"
            ]
          },
          "metadata": {},
          "execution_count": 57
        }
      ]
    },
    {
      "cell_type": "code",
      "source": [
        "data.children.unique()"
      ],
      "metadata": {
        "id": "6yASqCxqrATv",
        "colab": {
          "base_uri": "https://localhost:8080/"
        },
        "outputId": "6969674f-2354-4e4b-9942-e0ec1fecfb21"
      },
      "execution_count": null,
      "outputs": [
        {
          "output_type": "execute_result",
          "data": {
            "text/plain": [
              "array([ 0.,  1.,  2., 10.,  3., nan])"
            ]
          },
          "metadata": {},
          "execution_count": 58
        }
      ]
    },
    {
      "cell_type": "code",
      "source": [
        "data['arrival_date_month'].head(3)"
      ],
      "metadata": {
        "id": "snnlZJPSrWe9",
        "colab": {
          "base_uri": "https://localhost:8080/"
        },
        "outputId": "fe3ada78-8c50-4d30-e7e7-c327bd2a2aa7"
      },
      "execution_count": null,
      "outputs": [
        {
          "output_type": "execute_result",
          "data": {
            "text/plain": [
              "0    July\n",
              "1    July\n",
              "2    July\n",
              "Name: arrival_date_month, dtype: object"
            ]
          },
          "metadata": {},
          "execution_count": 59
        }
      ]
    },
    {
      "cell_type": "code",
      "source": [
        "data['arrival_date_month'].unique()"
      ],
      "metadata": {
        "id": "Kyzay-gwruSJ",
        "colab": {
          "base_uri": "https://localhost:8080/"
        },
        "outputId": "c91cab67-6aef-4579-84ea-a956111c09b3"
      },
      "execution_count": null,
      "outputs": [
        {
          "output_type": "execute_result",
          "data": {
            "text/plain": [
              "array(['July', 'August', 'September', 'October', 'November', 'December',\n",
              "       'January', 'February', 'March', 'April', 'May', 'June'],\n",
              "      dtype=object)"
            ]
          },
          "metadata": {},
          "execution_count": 60
        }
      ]
    },
    {
      "cell_type": "code",
      "source": [
        "data['meal'].unique()"
      ],
      "metadata": {
        "id": "PncSP6Tvt6KE",
        "colab": {
          "base_uri": "https://localhost:8080/"
        },
        "outputId": "2a5d04ba-6453-498c-96c3-ac67cbe2c291"
      },
      "execution_count": null,
      "outputs": [
        {
          "output_type": "execute_result",
          "data": {
            "text/plain": [
              "array(['BB', 'FB', 'HB', 'SC', 'Undefined'], dtype=object)"
            ]
          },
          "metadata": {},
          "execution_count": 61
        }
      ]
    },
    {
      "cell_type": "code",
      "source": [
        "def check_what_in_column(column):\n",
        "  print(column,\"-->\",data[column].unique())"
      ],
      "metadata": {
        "id": "9ojxcLEit6Gs"
      },
      "execution_count": null,
      "outputs": []
    },
    {
      "cell_type": "code",
      "source": [
        "columns=data.columns\n",
        "column_series=pd.Series(columns)"
      ],
      "metadata": {
        "id": "eNgn9Jt9t6D4"
      },
      "execution_count": null,
      "outputs": []
    },
    {
      "cell_type": "code",
      "source": [
        "for i in columns:\n",
        "  check_what_in_column(i)"
      ],
      "metadata": {
        "id": "oqsFVk88t5-Y",
        "colab": {
          "base_uri": "https://localhost:8080/"
        },
        "outputId": "c82aa9d2-d475-4545-e48a-81409012566d"
      },
      "execution_count": null,
      "outputs": [
        {
          "output_type": "stream",
          "name": "stdout",
          "text": [
            "hotel --> ['Resort Hotel' 'City Hotel']\n",
            "is_canceled --> [0 1]\n",
            "lead_time --> [342 737   7  13  14   0   9  85  75  23  35  68  18  37  12  72 127  78\n",
            "  48  60  77  99 118  95  96  69  45  40  15  36  43  70  16 107  47 113\n",
            "  90  50  93  76   3   1  10   5  17  51  71  63  62 101   2  81 368 364\n",
            " 324  79  21 109 102   4  98  92  26  73 115  86  52  29  30  33  32   8\n",
            " 100  44  80  97  64  39  34  27  82  94 110 111  84  66 104  28 258 112\n",
            "  65  67  55  88  54 292  83 105 280 394  24 103 366 249  22  91  11 108\n",
            " 106  31  87  41 304 117  59  53  58 116  42 321  38  56  49 317   6  57\n",
            "  19  25 315 123  46  89  61 312 299 130  74 298 119  20 286 136 129 124\n",
            " 327 131 460 140 114 139 122 137 126 120 128 135 150 143 151 132 125 157\n",
            " 147 138 156 164 346 159 160 161 333 381 149 154 297 163 314 155 323 340\n",
            " 356 142 328 144 336 248 302 175 344 382 146 170 166 338 167 310 148 165\n",
            " 172 171 145 121 178 305 173 152 354 347 158 185 349 183 352 177 200 192\n",
            " 361 207 174 330 134 350 334 283 153 197 133 241 193 235 194 261 260 216\n",
            " 169 209 238 215 141 189 187 223 284 214 202 211 168 230 203 188 232 709\n",
            " 219 162 196 190 259 228 176 250 201 186 199 180 206 205 224 222 182 210\n",
            " 275 212 229 218 208 191 181 179 246 255 226 288 253 252 262 236 256 234\n",
            " 254 468 213 237 198 195 239 263 265 274 217 220 307 221 233 257 227 276\n",
            " 225 264 311 277 204 290 266 270 294 319 282 251 322 291 269 240 271 184\n",
            " 231 268 247 273 300 301 267 244 306 293 309 272 242 295 285 243 308 398\n",
            " 303 245 424 279 331 281 339 434 357 325 329 278 332 343 345 360 348 367\n",
            " 353 373 374 406 400 326 379 399 316 341 320 385 355 363 358 296 422 390\n",
            " 335 370 376 375 397 289 542 403 383 384 359 393 337 362 365 435 386 378\n",
            " 313 351 287 471 462 411 450 318 372 371 454 532 445 389 388 407 443 437\n",
            " 451 391 405 412 419 420 426 433 440 429 418 447 461 605 457 475 464 482\n",
            " 626 489 496 503 510 517 524 531 538 545 552 559 566 573 580 587 594 601\n",
            " 608 615 622 629 396 410 395 423 408 409 448 465 387 414 476 479 467 490\n",
            " 493 478 504 507 458 518 521 377 444 380 463]\n",
            "arrival_date_year --> [2015 2016 2017]\n",
            "arrival_date_month --> ['July' 'August' 'September' 'October' 'November' 'December' 'January'\n",
            " 'February' 'March' 'April' 'May' 'June']\n",
            "arrival_date_week_number --> [27 28 29 30 31 32 33 34 35 36 37 38 39 40 41 42 43 44 45 46 47 48 49 50\n",
            " 51 52 53  1  2  3  4  5  6  7  8  9 10 11 12 13 14 15 16 17 18 19 20 21\n",
            " 22 23 24 25 26]\n",
            "arrival_date_day_of_month --> [ 1  2  3  4  5  6  7  8  9 10 11 12 13 14 15 16 17 18 19 20 21 22 23 24\n",
            " 25 26 27 28 29 30 31]\n",
            "stays_in_weekend_nights --> [ 0  1  2  4  3  6 13  8  5  7 12  9 16 18 19 10 14]\n",
            "stays_in_week_nights --> [ 0  1  2  3  4  5 10 11  8  6  7 15  9 12 33 20 14 16 21 13 30 19 24 40\n",
            " 22 42 50 25 17 32 26 18 34 35 41]\n",
            "adults --> [ 2  1  3  4 40 26 50 27 55  0 20  6  5 10]\n",
            "children --> [ 0.  1.  2. 10.  3. nan]\n",
            "babies --> [ 0  1  2 10  9]\n",
            "meal --> ['BB' 'FB' 'HB' 'SC' 'Undefined']\n",
            "country --> ['PRT' 'GBR' 'USA' 'ESP' 'IRL' 'FRA' nan 'ROU' 'NOR' 'OMN' 'ARG' 'POL'\n",
            " 'DEU' 'BEL' 'CHE' 'CN' 'GRC' 'ITA' 'NLD' 'DNK' 'RUS' 'SWE' 'AUS' 'EST'\n",
            " 'CZE' 'BRA' 'FIN' 'MOZ' 'BWA' 'LUX' 'SVN' 'ALB' 'IND' 'CHN' 'MEX' 'MAR'\n",
            " 'UKR' 'SMR' 'LVA' 'PRI' 'SRB' 'CHL' 'AUT' 'BLR' 'LTU' 'TUR' 'ZAF' 'AGO'\n",
            " 'ISR' 'CYM' 'ZMB' 'CPV' 'ZWE' 'DZA' 'KOR' 'CRI' 'HUN' 'ARE' 'TUN' 'JAM'\n",
            " 'HRV' 'HKG' 'IRN' 'GEO' 'AND' 'GIB' 'URY' 'JEY' 'CAF' 'CYP' 'COL' 'GGY'\n",
            " 'KWT' 'NGA' 'MDV' 'VEN' 'SVK' 'FJI' 'KAZ' 'PAK' 'IDN' 'LBN' 'PHL' 'SEN'\n",
            " 'SYC' 'AZE' 'BHR' 'NZL' 'THA' 'DOM' 'MKD' 'MYS' 'ARM' 'JPN' 'LKA' 'CUB'\n",
            " 'CMR' 'BIH' 'MUS' 'COM' 'SUR' 'UGA' 'BGR' 'CIV' 'JOR' 'SYR' 'SGP' 'BDI'\n",
            " 'SAU' 'VNM' 'PLW' 'QAT' 'EGY' 'PER' 'MLT' 'MWI' 'ECU' 'MDG' 'ISL' 'UZB'\n",
            " 'NPL' 'BHS' 'MAC' 'TGO' 'TWN' 'DJI' 'STP' 'KNA' 'ETH' 'IRQ' 'HND' 'RWA'\n",
            " 'KHM' 'MCO' 'BGD' 'IMN' 'TJK' 'NIC' 'BEN' 'VGB' 'TZA' 'GAB' 'GHA' 'TMP'\n",
            " 'GLP' 'KEN' 'LIE' 'GNB' 'MNE' 'UMI' 'MYT' 'FRO' 'MMR' 'PAN' 'BFA' 'LBY'\n",
            " 'MLI' 'NAM' 'BOL' 'PRY' 'BRB' 'ABW' 'AIA' 'SLV' 'DMA' 'PYF' 'GUY' 'LCA'\n",
            " 'ATA' 'GTM' 'ASM' 'MRT' 'NCL' 'KIR' 'SDN' 'ATF' 'SLE' 'LAO']\n",
            "market_segment --> ['Direct' 'Corporate' 'Online TA' 'Offline TA/TO' 'Complementary' 'Groups'\n",
            " 'Undefined' 'Aviation']\n",
            "distribution_channel --> ['Direct' 'Corporate' 'TA/TO' 'Undefined' 'GDS']\n",
            "is_repeated_guest --> [0 1]\n",
            "previous_cancellations --> [ 0  1  2  3 26 25 14  4 24 19  5 21  6 13 11]\n",
            "previous_bookings_not_canceled --> [ 0  1  2  3  4  5  6  7  8  9 10 11 12 13 14 15 16 17 18 20 21 22 23 24\n",
            " 25 27 28 29 30 19 26 31 32 33 34 35 36 37 38 39 40 41 42 43 44 45 46 47\n",
            " 48 49 50 51 52 53 54 55 56 57 58 59 60 61 62 63 64 65 66 67 68 69 70 71\n",
            " 72]\n",
            "reserved_room_type --> ['C' 'A' 'D' 'E' 'G' 'F' 'H' 'L' 'P' 'B']\n",
            "assigned_room_type --> ['C' 'A' 'D' 'E' 'G' 'F' 'I' 'B' 'H' 'P' 'L' 'K']\n",
            "booking_changes --> [ 3  4  0  1  2  5 17  6  8  7 10 16  9 13 12 20 14 15 11 21 18]\n",
            "deposit_type --> ['No Deposit' 'Refundable' 'Non Refund']\n",
            "agent --> [ nan 304. 240. 303.  15. 241.   8. 250. 115.   5. 175. 134. 156. 243.\n",
            " 242.   3. 105.  40. 147. 306. 184.  96.   2. 127.  95. 146.   9. 177.\n",
            "   6. 143. 244. 149. 167. 300. 171. 305.  67. 196. 152. 142. 261. 104.\n",
            "  36.  26.  29. 258. 110.  71. 181.  88. 251. 275.  69. 248. 208. 256.\n",
            " 314. 126. 281. 273. 253. 185. 330. 334. 328. 326. 321. 324. 313.  38.\n",
            " 155.  68. 335. 308. 332.  94. 348. 310. 339. 375.  66. 327. 387. 298.\n",
            "  91. 245. 385. 257. 393. 168. 405. 249. 315.  75. 128. 307.  11. 436.\n",
            "   1. 201. 183. 223. 368. 336. 291. 464. 411. 481.  10. 154. 468. 410.\n",
            " 390. 440. 495. 492. 493. 434.  57. 531. 420. 483. 526. 472. 429.  16.\n",
            " 446.  34.  78. 139. 252. 270.  47. 114. 301. 193. 182. 135. 350. 195.\n",
            " 352. 355. 159. 363. 384. 360. 331. 367.  64. 406. 163. 414. 333. 427.\n",
            " 431. 430. 426. 438. 433. 418. 441. 282. 432.  72. 450. 180. 454. 455.\n",
            "  59. 451. 254. 358. 469. 165. 467. 510. 337. 476. 502. 527. 479. 508.\n",
            " 535. 302. 497. 187.  13.   7.  27.  14.  22.  17.  28.  42.  20.  19.\n",
            "  45.  37.  61.  39.  21.  24.  41.  50.  30.  54.  52.  12.  44.  31.\n",
            "  83.  32.  63.  60.  55.  56.  89.  87. 118.  86.  85. 210. 214. 129.\n",
            " 179. 138. 174. 170. 153.  93. 151. 119.  35. 173.  58.  53. 133.  79.\n",
            " 235. 192. 191. 236. 162. 215. 157. 287. 132. 234.  98.  77. 103. 107.\n",
            " 262. 220. 121. 205. 378.  23. 296. 290. 229.  33. 286. 276. 425. 484.\n",
            " 323. 403. 219. 394. 509. 111. 423.   4.  70.  82.  81.  74.  92.  99.\n",
            "  90. 112. 117. 106. 148. 158. 144. 211. 213. 216. 232. 150. 267. 227.\n",
            " 247. 278. 280. 285. 289. 269. 295. 265. 288. 122. 294. 325. 341. 344.\n",
            " 346. 359. 283. 364. 370. 371.  25. 141. 391. 397. 416. 404. 299. 197.\n",
            "  73. 354. 444. 408. 461. 388. 453. 459. 474. 475. 480. 449.]\n",
            "company --> [ nan 110. 113. 270. 178. 240. 154. 144. 307. 268.  59. 204. 312. 318.\n",
            "  94. 174. 274. 195. 223. 317. 281. 118.  53. 286.  12.  47. 324. 342.\n",
            " 373. 371. 383.  86.  82. 218.  88.  31. 397. 392. 405. 331. 367.  20.\n",
            "  83. 416.  51. 395. 102.  34.  84. 360. 394. 457. 382. 461. 478. 386.\n",
            " 112. 486. 421.   9. 308. 135. 224. 504. 269. 356. 498. 390. 513. 203.\n",
            " 263. 477. 521. 169. 515. 445. 337. 251. 428. 292. 388. 130. 250. 355.\n",
            " 254. 543. 531. 528.  62. 120.  42.  81. 116. 530. 103.  39.  16.  92.\n",
            "  61. 501. 165. 291. 290.  43. 325. 192. 108. 200. 465. 287. 297. 490.\n",
            " 482. 207. 282. 437. 225. 329. 272.  28.  77. 338.  72. 246. 319. 146.\n",
            " 159. 380. 323. 511. 407. 278.  80. 403. 399.  14. 137. 343. 346. 347.\n",
            " 349. 289. 351. 353.  54.  99. 358. 361. 362. 366. 372. 365. 277. 109.\n",
            " 377. 379.  22. 378. 330. 364. 401. 232. 255. 384. 167. 212. 514. 391.\n",
            " 400. 376. 402. 396. 302. 398.   6. 370. 369. 409. 168. 104. 408. 413.\n",
            " 148.  10. 333. 419. 415. 424. 425. 423. 422. 435. 439. 442. 448. 443.\n",
            " 454. 444.  52. 459. 458. 456. 460. 447. 470. 466. 484. 184. 485.  32.\n",
            " 487. 491. 494. 193. 516. 496. 499.  29.  78. 520. 507. 506. 512. 126.\n",
            "  64. 242. 518. 523. 539. 534. 436. 525. 541.  40. 455. 410.  45.  38.\n",
            "  49.  48.  67.  68.  65.  91.  37.   8. 179. 209. 219. 221. 227. 153.\n",
            " 186. 253. 202. 216. 275. 233. 280. 309. 321.  93. 316.  85. 107. 350.\n",
            " 279. 334. 348. 150.  73. 385. 418. 197. 450. 452. 115.  46.  76.  96.\n",
            " 100. 105. 101. 122.  11. 139. 142. 127. 143. 140. 149. 163. 160. 180.\n",
            " 238. 183. 222. 185. 217. 215. 213. 237. 230. 234.  35. 245. 158. 258.\n",
            " 259. 260. 411. 257. 271.  18. 106. 210. 273.  71. 284. 301. 305. 293.\n",
            " 264. 311. 304. 313. 288. 320. 314. 332. 341. 352. 243. 368. 393. 132.\n",
            " 220. 412. 420. 426. 417. 429. 433. 446. 357. 479. 483. 489. 229. 481.\n",
            " 497. 451. 492.]\n",
            "days_in_waiting_list --> [  0  50  47  65 122  75 101 150 125  14  60  34 100  22 121  61  39   5\n",
            "   1   8 107  43  52   2  11 142 116  13  44  97  83   4 113  18  20 185\n",
            "  93 109   6  37 105 154  64  99  38  48  33  77  21  80  59  40  58  89\n",
            "  53  49  69  87  91  57 111  79  98  85  63  15   3  41 224  31  56 187\n",
            " 176  71  55  96 236 259 207 215 160 120  30  32  27  62  24 108 147 379\n",
            "  70  35 178 330 223 174 162 391  68 193  10  76  16  28   9 165  17  25\n",
            "  46   7  84 175 183  23 117  12  54  26  73  45  19  42  72  81  92  74\n",
            " 167  36]\n",
            "customer_type --> ['Transient' 'Contract' 'Transient-Party' 'Group']\n",
            "adr --> [  0.    75.    98.   ... 266.75 209.25 157.71]\n",
            "required_car_parking_spaces --> [0 1 2 8 3]\n",
            "total_of_special_requests --> [0 1 3 2 4 5]\n",
            "reservation_status --> ['Check-Out' 'Canceled' 'No-Show']\n",
            "reservation_status_date --> ['2015-07-01' '2015-07-02' '2015-07-03' '2015-05-06' '2015-04-22'\n",
            " '2015-06-23' '2015-07-05' '2015-07-06' '2015-07-07' '2015-07-08'\n",
            " '2015-05-11' '2015-07-15' '2015-07-16' '2015-05-29' '2015-05-19'\n",
            " '2015-06-19' '2015-05-23' '2015-05-18' '2015-07-09' '2015-06-02'\n",
            " '2015-07-13' '2015-07-04' '2015-06-29' '2015-06-16' '2015-06-18'\n",
            " '2015-06-12' '2015-06-09' '2015-05-26' '2015-07-11' '2015-07-12'\n",
            " '2015-07-17' '2015-04-15' '2015-05-13' '2015-07-10' '2015-05-20'\n",
            " '2015-05-12' '2015-07-14' '2015-06-17' '2015-05-01' '2015-03-30'\n",
            " '2015-07-19' '2015-06-03' '2015-06-26' '2015-05-14' '2015-07-20'\n",
            " '2015-05-07' '2015-05-28' '2015-04-13' '2015-03-25' '2015-07-21'\n",
            " '2015-06-27' '2015-07-18' '2015-07-23' '2015-06-08' '2015-06-22'\n",
            " '2015-06-24' '2015-03-05' '2015-06-01' '2015-04-24' '2015-07-22'\n",
            " '2015-05-27' '2015-04-06' '2015-04-11' '2015-07-25' '2015-07-28'\n",
            " '2015-07-29' '2015-06-25' '2015-07-24' '2015-06-05' '2015-06-30'\n",
            " '2015-06-13' '2015-06-11' '2015-07-30' '2015-07-27' '2015-04-29'\n",
            " '2015-06-04' '2015-07-26' '2015-08-01' '2015-08-02' '2015-06-15'\n",
            " '2015-04-23' '2015-07-31' '2015-05-25' '2015-08-03' '2015-04-17'\n",
            " '2015-08-04' '2015-08-06' '2015-05-15' '2015-05-09' '2015-03-17'\n",
            " '2015-05-22' '2015-08-07' '2015-04-04' '2015-08-05' '2015-08-08'\n",
            " '2015-08-10' '2015-05-04' '2015-06-06' '2015-08-09' '2015-08-15'\n",
            " '2015-08-11' '2015-03-28' '2015-08-14' '2015-08-12' '2015-08-16'\n",
            " '2015-05-16' '2015-08-21' '2015-08-13' '2015-08-17' '2015-04-20'\n",
            " '2015-08-18' '2015-08-23' '2015-08-22' '2015-08-19' '2015-08-20'\n",
            " '2015-08-29' '2015-03-31' '2015-05-30' '2015-08-25' '2015-04-14'\n",
            " '2015-08-24' '2015-03-24' '2015-05-21' '2015-08-28' '2015-08-26'\n",
            " '2015-08-27' '2015-08-30' '2015-08-31' '2015-09-06' '2015-09-03'\n",
            " '2015-09-04' '2015-09-02' '2015-09-01' '2015-09-05' '2015-06-20'\n",
            " '2015-09-07' '2015-09-10' '2015-09-11' '2015-09-08' '2015-09-09'\n",
            " '2015-09-13' '2015-09-15' '2015-04-10' '2015-01-02' '2014-11-18'\n",
            " '2015-09-12' '2015-09-17' '2015-09-14' '2015-04-07' '2015-09-19'\n",
            " '2015-09-16' '2015-09-20' '2015-01-18' '2015-10-23' '2015-01-22'\n",
            " '2015-01-01' '2015-09-22' '2015-09-24' '2015-09-18' '2015-09-21'\n",
            " '2015-09-30' '2015-09-25' '2015-09-27' '2015-09-28' '2015-10-12'\n",
            " '2015-09-29' '2015-09-23' '2015-10-01' '2015-09-26' '2015-04-18'\n",
            " '2015-10-02' '2015-10-04' '2015-10-08' '2015-10-03' '2015-10-07'\n",
            " '2015-10-09' '2015-10-11' '2015-10-05' '2015-10-06' '2015-10-10'\n",
            " '2015-10-14' '2015-10-15' '2015-10-18' '2015-10-13' '2015-10-20'\n",
            " '2015-10-19' '2015-10-31' '2015-10-16' '2015-10-21' '2015-10-22'\n",
            " '2015-10-17' '2015-10-24' '2015-10-25' '2015-10-28' '2015-10-27'\n",
            " '2015-10-26' '2015-10-30' '2015-11-05' '2015-10-29' '2015-11-03'\n",
            " '2015-11-07' '2015-11-04' '2015-11-01' '2015-11-02' '2015-11-17'\n",
            " '2015-11-06' '2015-11-10' '2015-11-08' '2015-11-09' '2015-11-15'\n",
            " '2015-11-16' '2015-11-11' '2015-11-12' '2015-11-14' '2015-11-13'\n",
            " '2015-11-18' '2015-11-22' '2015-11-19' '2015-11-21' '2015-11-20'\n",
            " '2015-11-24' '2015-11-25' '2015-11-23' '2015-11-28' '2015-11-26'\n",
            " '2015-11-27' '2015-11-29' '2015-12-04' '2015-12-01' '2015-12-06'\n",
            " '2015-12-08' '2015-12-02' '2015-12-03' '2015-12-31' '2015-12-05'\n",
            " '2015-12-10' '2015-12-17' '2015-11-30' '2015-12-12' '2015-12-07'\n",
            " '2016-01-05' '2015-12-11' '2015-12-13' '2015-12-15' '2015-12-16'\n",
            " '2015-12-19' '2015-12-18' '2015-12-26' '2015-12-27' '2015-12-22'\n",
            " '2015-12-23' '2015-12-24' '2015-12-29' '2015-12-28' '2015-12-20'\n",
            " '2015-12-30' '2016-01-02' '2016-01-01' '2015-12-25' '2016-01-03'\n",
            " '2016-01-04' '2016-01-11' '2016-01-07' '2015-12-21' '2016-01-09'\n",
            " '2016-01-10' '2016-01-08' '2016-01-06' '2016-01-12' '2016-01-13'\n",
            " '2016-01-23' '2016-02-09' '2016-01-15' '2016-01-16' '2016-01-17'\n",
            " '2016-01-19' '2016-01-18' '2016-01-21' '2016-01-24' '2016-01-22'\n",
            " '2016-01-29' '2016-01-27' '2016-01-25' '2016-03-08' '2016-01-26'\n",
            " '2016-01-20' '2016-01-30' '2016-02-01' '2016-02-02' '2016-02-08'\n",
            " '2016-02-07' '2016-01-28' '2016-02-05' '2016-02-03' '2016-02-13'\n",
            " '2016-02-10' '2016-02-04' '2016-02-12' '2016-02-11' '2016-02-16'\n",
            " '2016-02-14' '2016-02-15' '2016-02-20' '2016-02-06' '2016-01-14'\n",
            " '2016-02-17' '2016-02-21' '2016-02-24' '2016-02-25' '2016-02-19'\n",
            " '2016-02-18' '2016-02-26' '2016-02-23' '2016-03-05' '2016-02-22'\n",
            " '2016-02-27' '2016-03-03' '2016-03-24' '2016-03-04' '2016-02-29'\n",
            " '2016-03-01' '2016-03-02' '2016-03-30' '2016-03-07' '2016-03-14'\n",
            " '2016-03-21' '2016-03-09' '2016-03-12' '2016-03-22' '2016-03-10'\n",
            " '2016-03-11' '2016-03-20' '2016-03-15' '2016-03-17' '2016-03-16'\n",
            " '2016-03-19' '2016-03-27' '2016-03-18' '2016-03-26' '2016-03-31'\n",
            " '2016-03-28' '2016-03-29' '2016-04-01' '2016-03-23' '2016-04-02'\n",
            " '2016-03-25' '2016-03-13' '2016-04-04' '2016-04-03' '2016-04-05'\n",
            " '2016-04-08' '2016-04-06' '2016-04-09' '2016-04-12' '2016-04-16'\n",
            " '2016-04-17' '2016-04-27' '2016-04-14' '2016-04-18' '2016-04-21'\n",
            " '2016-04-19' '2016-04-20' '2016-04-10' '2016-04-13' '2016-04-11'\n",
            " '2016-04-07' '2016-04-15' '2016-04-22' '2016-04-23' '2016-04-26'\n",
            " '2016-04-28' '2016-04-24' '2016-04-25' '2016-04-29' '2016-04-30'\n",
            " '2016-05-01' '2016-05-10' '2016-05-02' '2016-05-07' '2016-05-08'\n",
            " '2016-05-12' '2016-05-04' '2016-05-06' '2016-05-03' '2016-05-09'\n",
            " '2016-05-05' '2016-05-13' '2016-05-14' '2016-05-18' '2016-05-19'\n",
            " '2016-05-15' '2016-05-16' '2016-05-11' '2016-05-21' '2016-05-22'\n",
            " '2016-05-20' '2016-05-24' '2016-05-25' '2016-05-26' '2016-05-23'\n",
            " '2016-05-27' '2016-05-17' '2016-05-29' '2016-05-28' '2016-05-30'\n",
            " '2016-05-31' '2016-06-01' '2016-06-03' '2016-06-08' '2016-06-02'\n",
            " '2016-06-05' '2016-06-06' '2016-06-13' '2016-06-07' '2016-06-10'\n",
            " '2016-06-11' '2016-06-16' '2016-06-12' '2016-06-14' '2016-06-17'\n",
            " '2016-06-04' '2016-06-18' '2016-06-21' '2016-06-09' '2016-06-24'\n",
            " '2016-06-20' '2016-06-25' '2016-06-22' '2016-06-26' '2016-06-23'\n",
            " '2016-07-01' '2016-06-15' '2016-06-28' '2016-07-02' '2016-06-19'\n",
            " '2016-06-27' '2016-07-04' '2016-06-30' '2016-07-05' '2016-07-08'\n",
            " '2016-07-09' '2016-07-07' '2016-07-12' '2016-06-29' '2016-07-10'\n",
            " '2016-07-15' '2016-07-03' '2016-07-16' '2016-07-14' '2016-07-18'\n",
            " '2016-07-13' '2016-07-06' '2016-07-20' '2016-07-21' '2016-07-23'\n",
            " '2016-07-19' '2016-07-11' '2016-07-28' '2016-07-17' '2016-07-25'\n",
            " '2016-07-22' '2016-07-29' '2016-08-03' '2016-08-02' '2016-08-04'\n",
            " '2016-08-08' '2016-08-10' '2016-08-01' '2016-08-06' '2016-03-06'\n",
            " '2016-08-05' '2016-07-26' '2016-08-07' '2016-07-30' '2016-07-24'\n",
            " '2016-08-12' '2016-07-27' '2016-08-13' '2016-08-18' '2016-08-16'\n",
            " '2016-08-15' '2016-08-17' '2016-08-11' '2016-07-31' '2016-08-19'\n",
            " '2016-09-01' '2016-08-23' '2016-08-26' '2016-08-20' '2016-08-21'\n",
            " '2016-09-04' '2016-08-22' '2016-08-27' '2016-08-25' '2016-08-09'\n",
            " '2016-09-05' '2016-08-24' '2016-09-10' '2016-08-29' '2016-09-09'\n",
            " '2016-08-30' '2016-09-13' '2016-08-31' '2016-09-14' '2016-09-12'\n",
            " '2016-09-15' '2016-08-14' '2016-09-02' '2016-09-08' '2016-09-19'\n",
            " '2016-09-16' '2016-09-07' '2016-09-21' '2016-09-06' '2016-09-22'\n",
            " '2016-09-17' '2016-09-20' '2016-09-03' '2016-09-26' '2016-09-23'\n",
            " '2016-09-18' '2016-09-29' '2016-10-02' '2016-10-01' '2016-09-27'\n",
            " '2016-09-25' '2016-10-05' '2016-09-11' '2016-09-30' '2016-10-09'\n",
            " '2016-10-03' '2016-10-06' '2016-10-11' '2016-09-24' '2016-10-13'\n",
            " '2016-09-28' '2016-10-08' '2016-10-07' '2016-10-16' '2016-08-28'\n",
            " '2016-10-17' '2016-10-18' '2016-10-10' '2016-10-04' '2016-10-15'\n",
            " '2016-10-19' '2016-10-21' '2016-10-12' '2016-10-24' '2016-10-26'\n",
            " '2016-10-23' '2016-10-20' '2016-10-25' '2016-10-27' '2016-10-28'\n",
            " '2016-10-30' '2016-10-29' '2016-11-01' '2016-11-04' '2016-10-14'\n",
            " '2016-11-07' '2016-11-03' '2016-11-10' '2016-11-14' '2016-11-02'\n",
            " '2016-10-31' '2016-11-11' '2016-11-08' '2016-11-05' '2016-11-25'\n",
            " '2016-11-09' '2016-11-20' '2016-11-21' '2016-10-22' '2016-11-22'\n",
            " '2016-11-16' '2016-11-23' '2016-11-17' '2016-11-06' '2016-11-15'\n",
            " '2016-11-13' '2016-11-12' '2016-11-27' '2016-11-19' '2016-11-30'\n",
            " '2016-11-18' '2016-12-02' '2016-12-04' '2016-11-29' '2016-12-07'\n",
            " '2016-11-28' '2016-12-03' '2016-12-06' '2016-11-24' '2016-12-08'\n",
            " '2016-12-05' '2016-12-10' '2016-12-13' '2016-12-14' '2016-12-16'\n",
            " '2016-12-15' '2016-12-17' '2016-12-19' '2016-12-21' '2016-12-20'\n",
            " '2016-12-22' '2016-12-23' '2016-12-24' '2016-12-01' '2016-12-27'\n",
            " '2016-12-29' '2016-12-30' '2016-12-12' '2017-01-02' '2016-12-11'\n",
            " '2017-01-03' '2017-01-04' '2017-01-01' '2016-12-26' '2017-01-06'\n",
            " '2016-12-28' '2016-12-18' '2017-01-10' '2017-01-11' '2017-01-07'\n",
            " '2017-01-12' '2017-01-16' '2017-01-14' '2017-01-13' '2017-01-05'\n",
            " '2017-01-17' '2017-01-20' '2016-12-09' '2017-01-26' '2016-12-31'\n",
            " '2017-01-23' '2017-01-27' '2017-01-28' '2017-01-19' '2017-01-25'\n",
            " '2017-01-24' '2017-01-29' '2017-01-18' '2016-12-25' '2017-01-15'\n",
            " '2017-01-21' '2017-02-01' '2017-02-02' '2017-01-31' '2017-02-03'\n",
            " '2017-02-04' '2017-02-06' '2017-02-07' '2017-02-08' '2017-01-30'\n",
            " '2017-02-09' '2017-01-09' '2017-02-11' '2017-02-10' '2017-02-12'\n",
            " '2017-02-13' '2017-02-14' '2017-02-16' '2017-02-17' '2017-02-18'\n",
            " '2017-02-19' '2017-02-20' '2017-02-15' '2017-02-21' '2017-02-22'\n",
            " '2017-02-26' '2017-02-23' '2017-02-24' '2017-02-25' '2017-02-28'\n",
            " '2017-03-05' '2017-02-27' '2017-03-03' '2017-03-06' '2017-03-02'\n",
            " '2017-03-08' '2017-03-09' '2017-03-10' '2017-03-07' '2017-03-12'\n",
            " '2017-03-13' '2017-03-14' '2017-03-01' '2017-03-18' '2017-03-17'\n",
            " '2017-03-24' '2017-03-22' '2017-03-26' '2017-03-27' '2017-03-11'\n",
            " '2017-03-28' '2017-03-29' '2017-03-30' '2017-03-31' '2017-03-19'\n",
            " '2017-01-22' '2017-04-02' '2017-03-20' '2017-04-03' '2017-01-08'\n",
            " '2017-03-23' '2017-04-05' '2017-02-05' '2017-04-04' '2017-03-15'\n",
            " '2017-04-07' '2017-03-25' '2017-04-08' '2017-04-06' '2017-03-21'\n",
            " '2017-04-10' '2017-04-01' '2017-04-11' '2017-04-13' '2017-04-15'\n",
            " '2017-04-12' '2017-03-04' '2017-04-19' '2017-04-22' '2017-04-20'\n",
            " '2017-05-02' '2017-04-09' '2017-04-23' '2017-04-24' '2017-04-16'\n",
            " '2017-04-28' '2017-04-18' '2017-04-26' '2017-04-25' '2017-04-17'\n",
            " '2017-04-21' '2017-05-03' '2017-05-04' '2017-03-16' '2017-05-05'\n",
            " '2017-04-29' '2017-04-14' '2017-05-08' '2017-04-27' '2017-05-11'\n",
            " '2017-05-01' '2017-05-10' '2017-05-13' '2017-05-06' '2017-05-14'\n",
            " '2017-05-16' '2017-04-30' '2017-05-15' '2017-05-07' '2017-05-09'\n",
            " '2017-05-17' '2017-05-21' '2017-05-12' '2017-05-22' '2017-05-24'\n",
            " '2017-05-23' '2017-05-25' '2017-05-26' '2017-05-28' '2017-05-27'\n",
            " '2017-05-29' '2017-05-19' '2017-05-31' '2017-05-20' '2017-06-01'\n",
            " '2017-05-30' '2017-06-02' '2016-11-26' '2017-06-04' '2017-06-05'\n",
            " '2017-06-06' '2017-06-07' '2017-05-18' '2017-06-09' '2017-06-10'\n",
            " '2017-06-11' '2017-06-12' '2017-06-14' '2017-06-08' '2017-06-16'\n",
            " '2017-06-13' '2017-06-03' '2017-06-24' '2017-06-20' '2017-06-19'\n",
            " '2017-06-21' '2017-06-26' '2017-06-27' '2017-06-22' '2017-06-28'\n",
            " '2017-06-15' '2017-06-29' '2017-06-30' '2017-06-18' '2017-07-04'\n",
            " '2017-07-08' '2017-07-05' '2017-07-03' '2017-07-07' '2017-07-01'\n",
            " '2017-07-06' '2017-07-11' '2017-07-12' '2017-06-23' '2017-07-13'\n",
            " '2017-07-02' '2017-07-10' '2017-07-14' '2017-07-15' '2017-07-16'\n",
            " '2017-07-18' '2017-07-17' '2017-07-19' '2017-07-20' '2017-07-21'\n",
            " '2017-06-25' '2017-06-17' '2017-07-24' '2017-07-26' '2017-07-09'\n",
            " '2017-07-27' '2017-07-28' '2017-07-31' '2017-07-29' '2017-07-22'\n",
            " '2017-08-02' '2017-08-01' '2017-08-03' '2017-08-04' '2017-07-25'\n",
            " '2017-07-23' '2017-08-09' '2017-08-10' '2017-07-30' '2017-08-07'\n",
            " '2017-08-13' '2017-08-05' '2017-08-14' '2017-08-08' '2017-08-16'\n",
            " '2017-08-17' '2017-08-15' '2017-08-18' '2017-08-20' '2017-08-22'\n",
            " '2017-08-06' '2017-08-25' '2017-08-26' '2017-08-23' '2017-08-11'\n",
            " '2017-08-27' '2017-08-21' '2017-08-29' '2017-08-31' '2017-08-12'\n",
            " '2017-08-19' '2016-01-31' '2017-09-01' '2017-08-28' '2015-04-03'\n",
            " '2015-01-21' '2015-01-28' '2015-01-29' '2015-01-30' '2015-02-02'\n",
            " '2015-02-05' '2015-02-06' '2015-02-09' '2015-02-10' '2015-02-11'\n",
            " '2015-02-12' '2015-02-19' '2015-02-20' '2015-02-23' '2015-02-24'\n",
            " '2015-02-25' '2015-02-26' '2015-02-27' '2015-03-03' '2015-03-04'\n",
            " '2015-03-06' '2015-03-09' '2015-03-11' '2015-03-12' '2015-03-18'\n",
            " '2015-04-02' '2015-06-14' '2015-04-08' '2015-04-16' '2015-04-25'\n",
            " '2015-04-28' '2015-05-08' '2017-09-06' '2016-02-28' '2015-12-09'\n",
            " '2015-12-14' '2017-09-09' '2017-09-02' '2017-08-24' '2017-08-30'\n",
            " '2017-09-03' '2017-09-04' '2017-09-05' '2017-09-07' '2017-09-08'\n",
            " '2017-09-10' '2017-09-12' '2017-09-14' '2015-04-30' '2015-04-21'\n",
            " '2015-04-05' '2015-03-13' '2015-05-05' '2015-03-29' '2015-06-10'\n",
            " '2015-04-27' '2014-10-17' '2015-01-20' '2015-02-17' '2015-03-10'\n",
            " '2015-03-23']\n"
          ]
        }
      ]
    },
    {
      "cell_type": "code",
      "source": [
        "data.dtypes"
      ],
      "metadata": {
        "id": "jr-lB7GSz8i2",
        "colab": {
          "base_uri": "https://localhost:8080/"
        },
        "outputId": "f7842c4b-b2cd-4ca6-862a-fd1d31ee0b88"
      },
      "execution_count": null,
      "outputs": [
        {
          "output_type": "execute_result",
          "data": {
            "text/plain": [
              "hotel                              object\n",
              "is_canceled                         int64\n",
              "lead_time                           int64\n",
              "arrival_date_year                   int64\n",
              "arrival_date_month                 object\n",
              "arrival_date_week_number            int64\n",
              "arrival_date_day_of_month           int64\n",
              "stays_in_weekend_nights             int64\n",
              "stays_in_week_nights                int64\n",
              "adults                              int64\n",
              "children                          float64\n",
              "babies                              int64\n",
              "meal                               object\n",
              "country                            object\n",
              "market_segment                     object\n",
              "distribution_channel               object\n",
              "is_repeated_guest                   int64\n",
              "previous_cancellations              int64\n",
              "previous_bookings_not_canceled      int64\n",
              "reserved_room_type                 object\n",
              "assigned_room_type                 object\n",
              "booking_changes                     int64\n",
              "deposit_type                       object\n",
              "agent                             float64\n",
              "company                           float64\n",
              "days_in_waiting_list                int64\n",
              "customer_type                      object\n",
              "adr                               float64\n",
              "required_car_parking_spaces         int64\n",
              "total_of_special_requests           int64\n",
              "reservation_status                 object\n",
              "reservation_status_date            object\n",
              "dtype: object"
            ]
          },
          "metadata": {},
          "execution_count": 65
        }
      ]
    },
    {
      "cell_type": "code",
      "source": [
        "data['reservation_status_date']=pd.to_datetime(data['reservation_status_date'])"
      ],
      "metadata": {
        "id": "8bNkSc7Tz-Rk"
      },
      "execution_count": null,
      "outputs": []
    },
    {
      "cell_type": "code",
      "source": [
        "data.dtypes"
      ],
      "metadata": {
        "id": "lzlWLMTn0Tax",
        "colab": {
          "base_uri": "https://localhost:8080/"
        },
        "outputId": "c1d5637e-a531-4e2d-c186-dd7fd6d5bba8"
      },
      "execution_count": null,
      "outputs": [
        {
          "output_type": "execute_result",
          "data": {
            "text/plain": [
              "hotel                                     object\n",
              "is_canceled                                int64\n",
              "lead_time                                  int64\n",
              "arrival_date_year                          int64\n",
              "arrival_date_month                        object\n",
              "arrival_date_week_number                   int64\n",
              "arrival_date_day_of_month                  int64\n",
              "stays_in_weekend_nights                    int64\n",
              "stays_in_week_nights                       int64\n",
              "adults                                     int64\n",
              "children                                 float64\n",
              "babies                                     int64\n",
              "meal                                      object\n",
              "country                                   object\n",
              "market_segment                            object\n",
              "distribution_channel                      object\n",
              "is_repeated_guest                          int64\n",
              "previous_cancellations                     int64\n",
              "previous_bookings_not_canceled             int64\n",
              "reserved_room_type                        object\n",
              "assigned_room_type                        object\n",
              "booking_changes                            int64\n",
              "deposit_type                              object\n",
              "agent                                    float64\n",
              "company                                  float64\n",
              "days_in_waiting_list                       int64\n",
              "customer_type                             object\n",
              "adr                                      float64\n",
              "required_car_parking_spaces                int64\n",
              "total_of_special_requests                  int64\n",
              "reservation_status                        object\n",
              "reservation_status_date           datetime64[ns]\n",
              "dtype: object"
            ]
          },
          "metadata": {},
          "execution_count": 67
        }
      ]
    },
    {
      "cell_type": "code",
      "source": [
        "data['reservation_status_date'].sample(10)"
      ],
      "metadata": {
        "id": "wOzRUEtO0WN_",
        "colab": {
          "base_uri": "https://localhost:8080/"
        },
        "outputId": "d06025eb-3ba4-4932-ddb5-857631e49b49"
      },
      "execution_count": null,
      "outputs": [
        {
          "output_type": "execute_result",
          "data": {
            "text/plain": [
              "90497    2016-06-08\n",
              "53822    2016-06-02\n",
              "19464    2015-12-28\n",
              "77567    2015-09-23\n",
              "38286    2017-07-14\n",
              "46826    2015-11-14\n",
              "75999    2015-07-06\n",
              "81610    2015-12-15\n",
              "21798    2016-03-11\n",
              "108471   2017-03-28\n",
              "Name: reservation_status_date, dtype: datetime64[ns]"
            ]
          },
          "metadata": {},
          "execution_count": 68
        }
      ]
    },
    {
      "cell_type": "code",
      "source": [
        "data.isnull().sum()"
      ],
      "metadata": {
        "id": "7e4P1v5U0cGO",
        "colab": {
          "base_uri": "https://localhost:8080/"
        },
        "outputId": "e456be76-a70b-4668-cbf5-4bc674156c51"
      },
      "execution_count": null,
      "outputs": [
        {
          "output_type": "execute_result",
          "data": {
            "text/plain": [
              "hotel                                  0\n",
              "is_canceled                            0\n",
              "lead_time                              0\n",
              "arrival_date_year                      0\n",
              "arrival_date_month                     0\n",
              "arrival_date_week_number               0\n",
              "arrival_date_day_of_month              0\n",
              "stays_in_weekend_nights                0\n",
              "stays_in_week_nights                   0\n",
              "adults                                 0\n",
              "children                               4\n",
              "babies                                 0\n",
              "meal                                   0\n",
              "country                              488\n",
              "market_segment                         0\n",
              "distribution_channel                   0\n",
              "is_repeated_guest                      0\n",
              "previous_cancellations                 0\n",
              "previous_bookings_not_canceled         0\n",
              "reserved_room_type                     0\n",
              "assigned_room_type                     0\n",
              "booking_changes                        0\n",
              "deposit_type                           0\n",
              "agent                              16340\n",
              "company                           112593\n",
              "days_in_waiting_list                   0\n",
              "customer_type                          0\n",
              "adr                                    0\n",
              "required_car_parking_spaces            0\n",
              "total_of_special_requests              0\n",
              "reservation_status                     0\n",
              "reservation_status_date                0\n",
              "dtype: int64"
            ]
          },
          "metadata": {},
          "execution_count": 69
        }
      ]
    },
    {
      "cell_type": "markdown",
      "source": [
        "we should remvove the column companey as it contains almost 95% data is null where we also have to drop rows where agent having null value because here agent are basically the perosn who refred the hotel so we can't make any imputation about it"
      ],
      "metadata": {
        "id": "HZ-5hM_41kwX"
      }
    },
    {
      "cell_type": "code",
      "source": [
        "data.drop(columns=['company'],axis=1,inplace=True)"
      ],
      "metadata": {
        "id": "qdyfAl0s0qVT"
      },
      "execution_count": null,
      "outputs": []
    },
    {
      "cell_type": "code",
      "source": [
        "data.shape"
      ],
      "metadata": {
        "id": "Hs2EhQeZ3s6l",
        "colab": {
          "base_uri": "https://localhost:8080/"
        },
        "outputId": "7152a369-a204-4516-8c5e-3b68d484010e"
      },
      "execution_count": null,
      "outputs": [
        {
          "output_type": "execute_result",
          "data": {
            "text/plain": [
              "(119390, 31)"
            ]
          },
          "metadata": {},
          "execution_count": 71
        }
      ]
    },
    {
      "cell_type": "code",
      "source": [
        "data.dropna(subset=['agent'], axis=0, inplace=True)"
      ],
      "metadata": {
        "id": "VvS_GIN55bRL"
      },
      "execution_count": null,
      "outputs": []
    },
    {
      "cell_type": "code",
      "source": [
        "data.shape"
      ],
      "metadata": {
        "id": "RTEtRtif5J9L",
        "colab": {
          "base_uri": "https://localhost:8080/"
        },
        "outputId": "8eb25ffa-cb96-4232-9841-f4d27bb2639c"
      },
      "execution_count": null,
      "outputs": [
        {
          "output_type": "execute_result",
          "data": {
            "text/plain": [
              "(103050, 31)"
            ]
          },
          "metadata": {},
          "execution_count": 73
        }
      ]
    },
    {
      "cell_type": "markdown",
      "source": [
        "If the data is much crucial and critical then we most not impute any null value but here this missing value from children column and country column are less hence we can impute it"
      ],
      "metadata": {
        "id": "ddxXyev56hQp"
      }
    },
    {
      "cell_type": "code",
      "source": [
        "data['children'].fillna(data['children'].mean(),axis=0,inplace=True)"
      ],
      "metadata": {
        "id": "XEzKXP925O74"
      },
      "execution_count": null,
      "outputs": []
    },
    {
      "cell_type": "code",
      "source": [
        "data['country'].fillna(data['country'].mode(),axis=0,inplace=True)"
      ],
      "metadata": {
        "id": "AuOgXskU6eeq"
      },
      "execution_count": null,
      "outputs": []
    },
    {
      "cell_type": "code",
      "source": [
        "data.isnull().sum()"
      ],
      "metadata": {
        "id": "8gSf6p5z7BrN",
        "colab": {
          "base_uri": "https://localhost:8080/"
        },
        "outputId": "efbe25fc-5c73-4cf7-ea2e-c0e6d1f49c89"
      },
      "execution_count": null,
      "outputs": [
        {
          "output_type": "execute_result",
          "data": {
            "text/plain": [
              "hotel                               0\n",
              "is_canceled                         0\n",
              "lead_time                           0\n",
              "arrival_date_year                   0\n",
              "arrival_date_month                  0\n",
              "arrival_date_week_number            0\n",
              "arrival_date_day_of_month           0\n",
              "stays_in_weekend_nights             0\n",
              "stays_in_week_nights                0\n",
              "adults                              0\n",
              "children                            0\n",
              "babies                              0\n",
              "meal                                0\n",
              "country                           154\n",
              "market_segment                      0\n",
              "distribution_channel                0\n",
              "is_repeated_guest                   0\n",
              "previous_cancellations              0\n",
              "previous_bookings_not_canceled      0\n",
              "reserved_room_type                  0\n",
              "assigned_room_type                  0\n",
              "booking_changes                     0\n",
              "deposit_type                        0\n",
              "agent                               0\n",
              "days_in_waiting_list                0\n",
              "customer_type                       0\n",
              "adr                                 0\n",
              "required_car_parking_spaces         0\n",
              "total_of_special_requests           0\n",
              "reservation_status                  0\n",
              "reservation_status_date             0\n",
              "dtype: int64"
            ]
          },
          "metadata": {},
          "execution_count": 76
        }
      ]
    },
    {
      "cell_type": "code",
      "source": [
        "data['country'].unique()"
      ],
      "metadata": {
        "id": "PuxEaFRM92le",
        "colab": {
          "base_uri": "https://localhost:8080/"
        },
        "outputId": "b17d529d-9bba-4a96-b4d8-4a17da9f5ebe"
      },
      "execution_count": null,
      "outputs": [
        {
          "output_type": "execute_result",
          "data": {
            "text/plain": [
              "array(['GBR', 'PRT', 'USA', 'ESP', 'IRL', 'ROU', 'NOR', 'OMN', 'ARG',\n",
              "       'POL', 'DEU', 'FRA', 'BEL', 'CHE', 'CN', 'GRC', 'ITA', 'DNK',\n",
              "       'RUS', 'SWE', 'AUS', 'EST', 'CZE', 'BRA', 'FIN', 'MOZ', 'BWA',\n",
              "       'LUX', 'NLD', 'SVN', 'ALB', 'IND', 'CHN', 'MEX', 'MAR', 'UKR',\n",
              "       'LVA', 'PRI', 'SRB', 'CHL', 'AUT', 'BLR', 'LTU', 'TUR', 'ZAF',\n",
              "       'CYM', 'ZMB', 'ZWE', 'DZA', 'KOR', 'CRI', 'HUN', 'ARE', 'TUN',\n",
              "       'JAM', 'HRV', 'HKG', 'ISR', 'IRN', 'GEO', 'AND', 'GIB', 'URY',\n",
              "       'JEY', 'CAF', 'CYP', 'COL', 'GGY', 'KWT', 'NGA', 'MDV', 'VEN', nan,\n",
              "       'SVK', 'AGO', 'FJI', 'KAZ', 'PAK', 'IDN', 'LBN', 'PHL', 'SEN',\n",
              "       'SYC', 'AZE', 'BHR', 'NZL', 'THA', 'DOM', 'MKD', 'MYS', 'ARM',\n",
              "       'JPN', 'LKA', 'CUB', 'CMR', 'MUS', 'COM', 'SUR', 'UGA', 'BGR',\n",
              "       'CIV', 'JOR', 'SYR', 'SGP', 'BDI', 'SAU', 'VNM', 'PLW', 'QAT',\n",
              "       'EGY', 'PER', 'MLT', 'MWI', 'ISL', 'ECU', 'NPL', 'CPV', 'BHS',\n",
              "       'MAC', 'TGO', 'TWN', 'DJI', 'KNA', 'ETH', 'IRQ', 'HND', 'RWA',\n",
              "       'KHM', 'MCO', 'BGD', 'UZB', 'IMN', 'TJK', 'NIC', 'BEN', 'VGB',\n",
              "       'TZA', 'GAB', 'BIH', 'GHA', 'TMP', 'GLP', 'KEN', 'LIE', 'GNB',\n",
              "       'MNE', 'UMI', 'MYT', 'FRO', 'MMR', 'PAN', 'BFA', 'LBY', 'MLI',\n",
              "       'NAM', 'BOL', 'PRY', 'BRB', 'ABW', 'AIA', 'SLV', 'DMA', 'PYF',\n",
              "       'GUY', 'LCA', 'ATA', 'GTM', 'ASM', 'MRT', 'NCL', 'KIR', 'SDN',\n",
              "       'ATF', 'SLE', 'LAO'], dtype=object)"
            ]
          },
          "metadata": {},
          "execution_count": 77
        }
      ]
    },
    {
      "cell_type": "code",
      "source": [
        "data['country']=np.where(data['country']!=\"nan\",'NULL',data['country'])"
      ],
      "metadata": {
        "id": "0Lgq2LgT-eTw"
      },
      "execution_count": null,
      "outputs": []
    },
    {
      "cell_type": "code",
      "source": [
        "data['country'].fillna(data['country'].mode(),axis=0,inplace=True)"
      ],
      "metadata": {
        "id": "BKPCndEh_DPj"
      },
      "execution_count": null,
      "outputs": []
    },
    {
      "cell_type": "markdown",
      "source": [],
      "metadata": {
        "id": "93xBxuKnA-hA"
      }
    },
    {
      "cell_type": "code",
      "source": [
        "data.isnull().sum()"
      ],
      "metadata": {
        "id": "KAyAx2Zk_cFN",
        "colab": {
          "base_uri": "https://localhost:8080/"
        },
        "outputId": "91f5305a-8753-485e-b7d0-bfca303fa530"
      },
      "execution_count": null,
      "outputs": [
        {
          "output_type": "execute_result",
          "data": {
            "text/plain": [
              "hotel                             0\n",
              "is_canceled                       0\n",
              "lead_time                         0\n",
              "arrival_date_year                 0\n",
              "arrival_date_month                0\n",
              "arrival_date_week_number          0\n",
              "arrival_date_day_of_month         0\n",
              "stays_in_weekend_nights           0\n",
              "stays_in_week_nights              0\n",
              "adults                            0\n",
              "children                          0\n",
              "babies                            0\n",
              "meal                              0\n",
              "country                           0\n",
              "market_segment                    0\n",
              "distribution_channel              0\n",
              "is_repeated_guest                 0\n",
              "previous_cancellations            0\n",
              "previous_bookings_not_canceled    0\n",
              "reserved_room_type                0\n",
              "assigned_room_type                0\n",
              "booking_changes                   0\n",
              "deposit_type                      0\n",
              "agent                             0\n",
              "days_in_waiting_list              0\n",
              "customer_type                     0\n",
              "adr                               0\n",
              "required_car_parking_spaces       0\n",
              "total_of_special_requests         0\n",
              "reservation_status                0\n",
              "reservation_status_date           0\n",
              "dtype: int64"
            ]
          },
          "metadata": {},
          "execution_count": 80
        }
      ]
    },
    {
      "cell_type": "markdown",
      "source": [
        "Up to This we are cleaned and Transformed data"
      ],
      "metadata": {
        "id": "OTCfZAlFB1sz"
      }
    },
    {
      "cell_type": "code",
      "source": [
        "data.describe()"
      ],
      "metadata": {
        "id": "ny9kJDBa_hXM",
        "colab": {
          "base_uri": "https://localhost:8080/",
          "height": 337
        },
        "outputId": "8417ce7b-759d-4fa0-9e3f-7e116ab47425"
      },
      "execution_count": null,
      "outputs": [
        {
          "output_type": "execute_result",
          "data": {
            "text/plain": [
              "         is_canceled      lead_time  arrival_date_year  \\\n",
              "count  103050.000000  103050.000000      103050.000000   \n",
              "mean        0.390044     111.672256        2016.156487   \n",
              "min         0.000000       0.000000        2015.000000   \n",
              "25%         0.000000      26.000000        2016.000000   \n",
              "50%         0.000000      79.000000        2016.000000   \n",
              "75%         1.000000     169.000000        2017.000000   \n",
              "max         1.000000     629.000000        2017.000000   \n",
              "std         0.487762     107.671497           0.706228   \n",
              "\n",
              "       arrival_date_week_number  arrival_date_day_of_month  \\\n",
              "count             103050.000000              103050.000000   \n",
              "mean                  27.339427                  15.784066   \n",
              "min                    1.000000                   1.000000   \n",
              "25%                   17.000000                   8.000000   \n",
              "50%                   28.000000                  16.000000   \n",
              "75%                   38.000000                  24.000000   \n",
              "max                   53.000000                  31.000000   \n",
              "std                   13.285191                   8.793996   \n",
              "\n",
              "       stays_in_weekend_nights  stays_in_week_nights         adults  \\\n",
              "count            103050.000000         103050.000000  103050.000000   \n",
              "mean                  0.977875              2.589355       1.899466   \n",
              "min                   0.000000              0.000000       0.000000   \n",
              "25%                   0.000000              1.000000       2.000000   \n",
              "50%                   1.000000              2.000000       2.000000   \n",
              "75%                   2.000000              3.000000       2.000000   \n",
              "max                  16.000000             41.000000      26.000000   \n",
              "std                   1.003935              1.905760       0.491053   \n",
              "\n",
              "            children         babies  is_repeated_guest  \\\n",
              "count  103050.000000  103050.000000      103050.000000   \n",
              "mean        0.111142       0.007686           0.014022   \n",
              "min         0.000000       0.000000           0.000000   \n",
              "25%         0.000000       0.000000           0.000000   \n",
              "50%         0.000000       0.000000           0.000000   \n",
              "75%         0.000000       0.000000           0.000000   \n",
              "max        10.000000      10.000000           1.000000   \n",
              "std         0.411813       0.097016           0.117583   \n",
              "\n",
              "       previous_cancellations  previous_bookings_not_canceled  \\\n",
              "count           103050.000000                   103050.000000   \n",
              "mean                 0.077215                        0.024862   \n",
              "min                  0.000000                        0.000000   \n",
              "25%                  0.000000                        0.000000   \n",
              "50%                  0.000000                        0.000000   \n",
              "75%                  0.000000                        0.000000   \n",
              "max                 26.000000                       50.000000   \n",
              "std                  0.757682                        0.436635   \n",
              "\n",
              "       booking_changes          agent  days_in_waiting_list            adr  \\\n",
              "count    103050.000000  103050.000000         103050.000000  103050.000000   \n",
              "mean          0.201698      86.693382              2.615614     104.618808   \n",
              "min           0.000000       1.000000              0.000000      -6.380000   \n",
              "25%           0.000000       9.000000              0.000000      72.800000   \n",
              "50%           0.000000      14.000000              0.000000      96.300000   \n",
              "75%           0.000000     229.000000              0.000000     127.800000   \n",
              "max          18.000000     535.000000            391.000000    5400.000000   \n",
              "std           0.624792     110.774548             18.783482      50.034464   \n",
              "\n",
              "       required_car_parking_spaces  total_of_special_requests  \\\n",
              "count                103050.000000              103050.000000   \n",
              "mean                      0.053217                   0.605376   \n",
              "min                       0.000000                   0.000000   \n",
              "25%                       0.000000                   0.000000   \n",
              "50%                       0.000000                   0.000000   \n",
              "75%                       0.000000                   1.000000   \n",
              "max                       3.000000                   5.000000   \n",
              "std                       0.225717                   0.799216   \n",
              "\n",
              "             reservation_status_date  \n",
              "count                         103050  \n",
              "mean   2016-07-29 01:32:57.222707456  \n",
              "min              2014-10-17 00:00:00  \n",
              "25%              2016-01-31 00:00:00  \n",
              "50%              2016-08-03 00:00:00  \n",
              "75%              2017-02-12 00:00:00  \n",
              "max              2017-09-14 00:00:00  \n",
              "std                              NaN  "
            ],
            "text/html": [
              "\n",
              "  <div id=\"df-62b25181-aefb-422c-8bab-a66de5bb0823\" class=\"colab-df-container\">\n",
              "    <div>\n",
              "<style scoped>\n",
              "    .dataframe tbody tr th:only-of-type {\n",
              "        vertical-align: middle;\n",
              "    }\n",
              "\n",
              "    .dataframe tbody tr th {\n",
              "        vertical-align: top;\n",
              "    }\n",
              "\n",
              "    .dataframe thead th {\n",
              "        text-align: right;\n",
              "    }\n",
              "</style>\n",
              "<table border=\"1\" class=\"dataframe\">\n",
              "  <thead>\n",
              "    <tr style=\"text-align: right;\">\n",
              "      <th></th>\n",
              "      <th>is_canceled</th>\n",
              "      <th>lead_time</th>\n",
              "      <th>arrival_date_year</th>\n",
              "      <th>arrival_date_week_number</th>\n",
              "      <th>arrival_date_day_of_month</th>\n",
              "      <th>stays_in_weekend_nights</th>\n",
              "      <th>stays_in_week_nights</th>\n",
              "      <th>adults</th>\n",
              "      <th>children</th>\n",
              "      <th>babies</th>\n",
              "      <th>is_repeated_guest</th>\n",
              "      <th>previous_cancellations</th>\n",
              "      <th>previous_bookings_not_canceled</th>\n",
              "      <th>booking_changes</th>\n",
              "      <th>agent</th>\n",
              "      <th>days_in_waiting_list</th>\n",
              "      <th>adr</th>\n",
              "      <th>required_car_parking_spaces</th>\n",
              "      <th>total_of_special_requests</th>\n",
              "      <th>reservation_status_date</th>\n",
              "    </tr>\n",
              "  </thead>\n",
              "  <tbody>\n",
              "    <tr>\n",
              "      <th>count</th>\n",
              "      <td>103050.000000</td>\n",
              "      <td>103050.000000</td>\n",
              "      <td>103050.000000</td>\n",
              "      <td>103050.000000</td>\n",
              "      <td>103050.000000</td>\n",
              "      <td>103050.000000</td>\n",
              "      <td>103050.000000</td>\n",
              "      <td>103050.000000</td>\n",
              "      <td>103050.000000</td>\n",
              "      <td>103050.000000</td>\n",
              "      <td>103050.000000</td>\n",
              "      <td>103050.000000</td>\n",
              "      <td>103050.000000</td>\n",
              "      <td>103050.000000</td>\n",
              "      <td>103050.000000</td>\n",
              "      <td>103050.000000</td>\n",
              "      <td>103050.000000</td>\n",
              "      <td>103050.000000</td>\n",
              "      <td>103050.000000</td>\n",
              "      <td>103050</td>\n",
              "    </tr>\n",
              "    <tr>\n",
              "      <th>mean</th>\n",
              "      <td>0.390044</td>\n",
              "      <td>111.672256</td>\n",
              "      <td>2016.156487</td>\n",
              "      <td>27.339427</td>\n",
              "      <td>15.784066</td>\n",
              "      <td>0.977875</td>\n",
              "      <td>2.589355</td>\n",
              "      <td>1.899466</td>\n",
              "      <td>0.111142</td>\n",
              "      <td>0.007686</td>\n",
              "      <td>0.014022</td>\n",
              "      <td>0.077215</td>\n",
              "      <td>0.024862</td>\n",
              "      <td>0.201698</td>\n",
              "      <td>86.693382</td>\n",
              "      <td>2.615614</td>\n",
              "      <td>104.618808</td>\n",
              "      <td>0.053217</td>\n",
              "      <td>0.605376</td>\n",
              "      <td>2016-07-29 01:32:57.222707456</td>\n",
              "    </tr>\n",
              "    <tr>\n",
              "      <th>min</th>\n",
              "      <td>0.000000</td>\n",
              "      <td>0.000000</td>\n",
              "      <td>2015.000000</td>\n",
              "      <td>1.000000</td>\n",
              "      <td>1.000000</td>\n",
              "      <td>0.000000</td>\n",
              "      <td>0.000000</td>\n",
              "      <td>0.000000</td>\n",
              "      <td>0.000000</td>\n",
              "      <td>0.000000</td>\n",
              "      <td>0.000000</td>\n",
              "      <td>0.000000</td>\n",
              "      <td>0.000000</td>\n",
              "      <td>0.000000</td>\n",
              "      <td>1.000000</td>\n",
              "      <td>0.000000</td>\n",
              "      <td>-6.380000</td>\n",
              "      <td>0.000000</td>\n",
              "      <td>0.000000</td>\n",
              "      <td>2014-10-17 00:00:00</td>\n",
              "    </tr>\n",
              "    <tr>\n",
              "      <th>25%</th>\n",
              "      <td>0.000000</td>\n",
              "      <td>26.000000</td>\n",
              "      <td>2016.000000</td>\n",
              "      <td>17.000000</td>\n",
              "      <td>8.000000</td>\n",
              "      <td>0.000000</td>\n",
              "      <td>1.000000</td>\n",
              "      <td>2.000000</td>\n",
              "      <td>0.000000</td>\n",
              "      <td>0.000000</td>\n",
              "      <td>0.000000</td>\n",
              "      <td>0.000000</td>\n",
              "      <td>0.000000</td>\n",
              "      <td>0.000000</td>\n",
              "      <td>9.000000</td>\n",
              "      <td>0.000000</td>\n",
              "      <td>72.800000</td>\n",
              "      <td>0.000000</td>\n",
              "      <td>0.000000</td>\n",
              "      <td>2016-01-31 00:00:00</td>\n",
              "    </tr>\n",
              "    <tr>\n",
              "      <th>50%</th>\n",
              "      <td>0.000000</td>\n",
              "      <td>79.000000</td>\n",
              "      <td>2016.000000</td>\n",
              "      <td>28.000000</td>\n",
              "      <td>16.000000</td>\n",
              "      <td>1.000000</td>\n",
              "      <td>2.000000</td>\n",
              "      <td>2.000000</td>\n",
              "      <td>0.000000</td>\n",
              "      <td>0.000000</td>\n",
              "      <td>0.000000</td>\n",
              "      <td>0.000000</td>\n",
              "      <td>0.000000</td>\n",
              "      <td>0.000000</td>\n",
              "      <td>14.000000</td>\n",
              "      <td>0.000000</td>\n",
              "      <td>96.300000</td>\n",
              "      <td>0.000000</td>\n",
              "      <td>0.000000</td>\n",
              "      <td>2016-08-03 00:00:00</td>\n",
              "    </tr>\n",
              "    <tr>\n",
              "      <th>75%</th>\n",
              "      <td>1.000000</td>\n",
              "      <td>169.000000</td>\n",
              "      <td>2017.000000</td>\n",
              "      <td>38.000000</td>\n",
              "      <td>24.000000</td>\n",
              "      <td>2.000000</td>\n",
              "      <td>3.000000</td>\n",
              "      <td>2.000000</td>\n",
              "      <td>0.000000</td>\n",
              "      <td>0.000000</td>\n",
              "      <td>0.000000</td>\n",
              "      <td>0.000000</td>\n",
              "      <td>0.000000</td>\n",
              "      <td>0.000000</td>\n",
              "      <td>229.000000</td>\n",
              "      <td>0.000000</td>\n",
              "      <td>127.800000</td>\n",
              "      <td>0.000000</td>\n",
              "      <td>1.000000</td>\n",
              "      <td>2017-02-12 00:00:00</td>\n",
              "    </tr>\n",
              "    <tr>\n",
              "      <th>max</th>\n",
              "      <td>1.000000</td>\n",
              "      <td>629.000000</td>\n",
              "      <td>2017.000000</td>\n",
              "      <td>53.000000</td>\n",
              "      <td>31.000000</td>\n",
              "      <td>16.000000</td>\n",
              "      <td>41.000000</td>\n",
              "      <td>26.000000</td>\n",
              "      <td>10.000000</td>\n",
              "      <td>10.000000</td>\n",
              "      <td>1.000000</td>\n",
              "      <td>26.000000</td>\n",
              "      <td>50.000000</td>\n",
              "      <td>18.000000</td>\n",
              "      <td>535.000000</td>\n",
              "      <td>391.000000</td>\n",
              "      <td>5400.000000</td>\n",
              "      <td>3.000000</td>\n",
              "      <td>5.000000</td>\n",
              "      <td>2017-09-14 00:00:00</td>\n",
              "    </tr>\n",
              "    <tr>\n",
              "      <th>std</th>\n",
              "      <td>0.487762</td>\n",
              "      <td>107.671497</td>\n",
              "      <td>0.706228</td>\n",
              "      <td>13.285191</td>\n",
              "      <td>8.793996</td>\n",
              "      <td>1.003935</td>\n",
              "      <td>1.905760</td>\n",
              "      <td>0.491053</td>\n",
              "      <td>0.411813</td>\n",
              "      <td>0.097016</td>\n",
              "      <td>0.117583</td>\n",
              "      <td>0.757682</td>\n",
              "      <td>0.436635</td>\n",
              "      <td>0.624792</td>\n",
              "      <td>110.774548</td>\n",
              "      <td>18.783482</td>\n",
              "      <td>50.034464</td>\n",
              "      <td>0.225717</td>\n",
              "      <td>0.799216</td>\n",
              "      <td>NaN</td>\n",
              "    </tr>\n",
              "  </tbody>\n",
              "</table>\n",
              "</div>\n",
              "    <div class=\"colab-df-buttons\">\n",
              "\n",
              "  <div class=\"colab-df-container\">\n",
              "    <button class=\"colab-df-convert\" onclick=\"convertToInteractive('df-62b25181-aefb-422c-8bab-a66de5bb0823')\"\n",
              "            title=\"Convert this dataframe to an interactive table.\"\n",
              "            style=\"display:none;\">\n",
              "\n",
              "  <svg xmlns=\"http://www.w3.org/2000/svg\" height=\"24px\" viewBox=\"0 -960 960 960\">\n",
              "    <path d=\"M120-120v-720h720v720H120Zm60-500h600v-160H180v160Zm220 220h160v-160H400v160Zm0 220h160v-160H400v160ZM180-400h160v-160H180v160Zm440 0h160v-160H620v160ZM180-180h160v-160H180v160Zm440 0h160v-160H620v160Z\"/>\n",
              "  </svg>\n",
              "    </button>\n",
              "\n",
              "  <style>\n",
              "    .colab-df-container {\n",
              "      display:flex;\n",
              "      gap: 12px;\n",
              "    }\n",
              "\n",
              "    .colab-df-convert {\n",
              "      background-color: #E8F0FE;\n",
              "      border: none;\n",
              "      border-radius: 50%;\n",
              "      cursor: pointer;\n",
              "      display: none;\n",
              "      fill: #1967D2;\n",
              "      height: 32px;\n",
              "      padding: 0 0 0 0;\n",
              "      width: 32px;\n",
              "    }\n",
              "\n",
              "    .colab-df-convert:hover {\n",
              "      background-color: #E2EBFA;\n",
              "      box-shadow: 0px 1px 2px rgba(60, 64, 67, 0.3), 0px 1px 3px 1px rgba(60, 64, 67, 0.15);\n",
              "      fill: #174EA6;\n",
              "    }\n",
              "\n",
              "    .colab-df-buttons div {\n",
              "      margin-bottom: 4px;\n",
              "    }\n",
              "\n",
              "    [theme=dark] .colab-df-convert {\n",
              "      background-color: #3B4455;\n",
              "      fill: #D2E3FC;\n",
              "    }\n",
              "\n",
              "    [theme=dark] .colab-df-convert:hover {\n",
              "      background-color: #434B5C;\n",
              "      box-shadow: 0px 1px 3px 1px rgba(0, 0, 0, 0.15);\n",
              "      filter: drop-shadow(0px 1px 2px rgba(0, 0, 0, 0.3));\n",
              "      fill: #FFFFFF;\n",
              "    }\n",
              "  </style>\n",
              "\n",
              "    <script>\n",
              "      const buttonEl =\n",
              "        document.querySelector('#df-62b25181-aefb-422c-8bab-a66de5bb0823 button.colab-df-convert');\n",
              "      buttonEl.style.display =\n",
              "        google.colab.kernel.accessAllowed ? 'block' : 'none';\n",
              "\n",
              "      async function convertToInteractive(key) {\n",
              "        const element = document.querySelector('#df-62b25181-aefb-422c-8bab-a66de5bb0823');\n",
              "        const dataTable =\n",
              "          await google.colab.kernel.invokeFunction('convertToInteractive',\n",
              "                                                    [key], {});\n",
              "        if (!dataTable) return;\n",
              "\n",
              "        const docLinkHtml = 'Like what you see? Visit the ' +\n",
              "          '<a target=\"_blank\" href=https://colab.research.google.com/notebooks/data_table.ipynb>data table notebook</a>'\n",
              "          + ' to learn more about interactive tables.';\n",
              "        element.innerHTML = '';\n",
              "        dataTable['output_type'] = 'display_data';\n",
              "        await google.colab.output.renderOutput(dataTable, element);\n",
              "        const docLink = document.createElement('div');\n",
              "        docLink.innerHTML = docLinkHtml;\n",
              "        element.appendChild(docLink);\n",
              "      }\n",
              "    </script>\n",
              "  </div>\n",
              "\n",
              "\n",
              "<div id=\"df-6cd2f281-cd51-4fa7-a22b-bf330b4d0f5e\">\n",
              "  <button class=\"colab-df-quickchart\" onclick=\"quickchart('df-6cd2f281-cd51-4fa7-a22b-bf330b4d0f5e')\"\n",
              "            title=\"Suggest charts\"\n",
              "            style=\"display:none;\">\n",
              "\n",
              "<svg xmlns=\"http://www.w3.org/2000/svg\" height=\"24px\"viewBox=\"0 0 24 24\"\n",
              "     width=\"24px\">\n",
              "    <g>\n",
              "        <path d=\"M19 3H5c-1.1 0-2 .9-2 2v14c0 1.1.9 2 2 2h14c1.1 0 2-.9 2-2V5c0-1.1-.9-2-2-2zM9 17H7v-7h2v7zm4 0h-2V7h2v10zm4 0h-2v-4h2v4z\"/>\n",
              "    </g>\n",
              "</svg>\n",
              "  </button>\n",
              "\n",
              "<style>\n",
              "  .colab-df-quickchart {\n",
              "      --bg-color: #E8F0FE;\n",
              "      --fill-color: #1967D2;\n",
              "      --hover-bg-color: #E2EBFA;\n",
              "      --hover-fill-color: #174EA6;\n",
              "      --disabled-fill-color: #AAA;\n",
              "      --disabled-bg-color: #DDD;\n",
              "  }\n",
              "\n",
              "  [theme=dark] .colab-df-quickchart {\n",
              "      --bg-color: #3B4455;\n",
              "      --fill-color: #D2E3FC;\n",
              "      --hover-bg-color: #434B5C;\n",
              "      --hover-fill-color: #FFFFFF;\n",
              "      --disabled-bg-color: #3B4455;\n",
              "      --disabled-fill-color: #666;\n",
              "  }\n",
              "\n",
              "  .colab-df-quickchart {\n",
              "    background-color: var(--bg-color);\n",
              "    border: none;\n",
              "    border-radius: 50%;\n",
              "    cursor: pointer;\n",
              "    display: none;\n",
              "    fill: var(--fill-color);\n",
              "    height: 32px;\n",
              "    padding: 0;\n",
              "    width: 32px;\n",
              "  }\n",
              "\n",
              "  .colab-df-quickchart:hover {\n",
              "    background-color: var(--hover-bg-color);\n",
              "    box-shadow: 0 1px 2px rgba(60, 64, 67, 0.3), 0 1px 3px 1px rgba(60, 64, 67, 0.15);\n",
              "    fill: var(--button-hover-fill-color);\n",
              "  }\n",
              "\n",
              "  .colab-df-quickchart-complete:disabled,\n",
              "  .colab-df-quickchart-complete:disabled:hover {\n",
              "    background-color: var(--disabled-bg-color);\n",
              "    fill: var(--disabled-fill-color);\n",
              "    box-shadow: none;\n",
              "  }\n",
              "\n",
              "  .colab-df-spinner {\n",
              "    border: 2px solid var(--fill-color);\n",
              "    border-color: transparent;\n",
              "    border-bottom-color: var(--fill-color);\n",
              "    animation:\n",
              "      spin 1s steps(1) infinite;\n",
              "  }\n",
              "\n",
              "  @keyframes spin {\n",
              "    0% {\n",
              "      border-color: transparent;\n",
              "      border-bottom-color: var(--fill-color);\n",
              "      border-left-color: var(--fill-color);\n",
              "    }\n",
              "    20% {\n",
              "      border-color: transparent;\n",
              "      border-left-color: var(--fill-color);\n",
              "      border-top-color: var(--fill-color);\n",
              "    }\n",
              "    30% {\n",
              "      border-color: transparent;\n",
              "      border-left-color: var(--fill-color);\n",
              "      border-top-color: var(--fill-color);\n",
              "      border-right-color: var(--fill-color);\n",
              "    }\n",
              "    40% {\n",
              "      border-color: transparent;\n",
              "      border-right-color: var(--fill-color);\n",
              "      border-top-color: var(--fill-color);\n",
              "    }\n",
              "    60% {\n",
              "      border-color: transparent;\n",
              "      border-right-color: var(--fill-color);\n",
              "    }\n",
              "    80% {\n",
              "      border-color: transparent;\n",
              "      border-right-color: var(--fill-color);\n",
              "      border-bottom-color: var(--fill-color);\n",
              "    }\n",
              "    90% {\n",
              "      border-color: transparent;\n",
              "      border-bottom-color: var(--fill-color);\n",
              "    }\n",
              "  }\n",
              "</style>\n",
              "\n",
              "  <script>\n",
              "    async function quickchart(key) {\n",
              "      const quickchartButtonEl =\n",
              "        document.querySelector('#' + key + ' button');\n",
              "      quickchartButtonEl.disabled = true;  // To prevent multiple clicks.\n",
              "      quickchartButtonEl.classList.add('colab-df-spinner');\n",
              "      try {\n",
              "        const charts = await google.colab.kernel.invokeFunction(\n",
              "            'suggestCharts', [key], {});\n",
              "      } catch (error) {\n",
              "        console.error('Error during call to suggestCharts:', error);\n",
              "      }\n",
              "      quickchartButtonEl.classList.remove('colab-df-spinner');\n",
              "      quickchartButtonEl.classList.add('colab-df-quickchart-complete');\n",
              "    }\n",
              "    (() => {\n",
              "      let quickchartButtonEl =\n",
              "        document.querySelector('#df-6cd2f281-cd51-4fa7-a22b-bf330b4d0f5e button');\n",
              "      quickchartButtonEl.style.display =\n",
              "        google.colab.kernel.accessAllowed ? 'block' : 'none';\n",
              "    })();\n",
              "  </script>\n",
              "</div>\n",
              "\n",
              "    </div>\n",
              "  </div>\n"
            ],
            "application/vnd.google.colaboratory.intrinsic+json": {
              "type": "dataframe",
              "summary": "{\n  \"name\": \"data\",\n  \"rows\": 8,\n  \"fields\": [\n    {\n      \"column\": \"is_canceled\",\n      \"properties\": {\n        \"dtype\": \"number\",\n        \"std\": 36433.53155185965,\n        \"min\": 0.0,\n        \"max\": 103050.0,\n        \"num_unique_values\": 5,\n        \"samples\": [\n          0.39004366812227076,\n          0.4877621487812173,\n          0.0\n        ],\n        \"semantic_type\": \"\",\n        \"description\": \"\"\n      }\n    },\n    {\n      \"column\": \"lead_time\",\n      \"properties\": {\n        \"dtype\": \"number\",\n        \"std\": 36377.53041264975,\n        \"min\": 0.0,\n        \"max\": 103050.0,\n        \"num_unique_values\": 8,\n        \"samples\": [\n          111.67225618631733,\n          169.0,\n          103050.0\n        ],\n        \"semantic_type\": \"\",\n        \"description\": \"\"\n      }\n    },\n    {\n      \"column\": \"arrival_date_year\",\n      \"properties\": {\n        \"dtype\": \"number\",\n        \"std\": 35829.5845765577,\n        \"min\": 0.7062278381453111,\n        \"max\": 103050.0,\n        \"num_unique_values\": 6,\n        \"samples\": [\n          103050.0,\n          2016.156487142164,\n          0.7062278381453111\n        ],\n        \"semantic_type\": \"\",\n        \"description\": \"\"\n      }\n    },\n    {\n      \"column\": \"arrival_date_week_number\",\n      \"properties\": {\n        \"dtype\": \"number\",\n        \"std\": 36424.70892204813,\n        \"min\": 1.0,\n        \"max\": 103050.0,\n        \"num_unique_values\": 8,\n        \"samples\": [\n          27.339427462396895,\n          38.0,\n          103050.0\n        ],\n        \"semantic_type\": \"\",\n        \"description\": \"\"\n      }\n    },\n    {\n      \"column\": \"arrival_date_day_of_month\",\n      \"properties\": {\n        \"dtype\": \"number\",\n        \"std\": 36428.39613068336,\n        \"min\": 1.0,\n        \"max\": 103050.0,\n        \"num_unique_values\": 8,\n        \"samples\": [\n          15.784065987384764,\n          24.0,\n          103050.0\n        ],\n        \"semantic_type\": \"\",\n        \"description\": \"\"\n      }\n    },\n    {\n      \"column\": \"stays_in_weekend_nights\",\n      \"properties\": {\n        \"dtype\": \"number\",\n        \"std\": 36432.61755147383,\n        \"min\": 0.0,\n        \"max\": 103050.0,\n        \"num_unique_values\": 7,\n        \"samples\": [\n          103050.0,\n          0.9778748180494905,\n          16.0\n        ],\n        \"semantic_type\": \"\",\n        \"description\": \"\"\n      }\n    },\n    {\n      \"column\": \"stays_in_week_nights\",\n      \"properties\": {\n        \"dtype\": \"number\",\n        \"std\": 36431.07860542859,\n        \"min\": 0.0,\n        \"max\": 103050.0,\n        \"num_unique_values\": 8,\n        \"samples\": [\n          2.58935468219311,\n          3.0,\n          103050.0\n        ],\n        \"semantic_type\": \"\",\n        \"description\": \"\"\n      }\n    },\n    {\n      \"column\": \"adults\",\n      \"properties\": {\n        \"dtype\": \"number\",\n        \"std\": 36431.94094231475,\n        \"min\": 0.0,\n        \"max\": 103050.0,\n        \"num_unique_values\": 6,\n        \"samples\": [\n          103050.0,\n          1.8994662785055798,\n          0.49105251680840883\n        ],\n        \"semantic_type\": \"\",\n        \"description\": \"\"\n      }\n    },\n    {\n      \"column\": \"children\",\n      \"properties\": {\n        \"dtype\": \"number\",\n        \"std\": 36433.145576519,\n        \"min\": 0.0,\n        \"max\": 103050.0,\n        \"num_unique_values\": 5,\n        \"samples\": [\n          0.1111423802499806,\n          0.4118131398992561,\n          0.0\n        ],\n        \"semantic_type\": \"\",\n        \"description\": \"\"\n      }\n    },\n    {\n      \"column\": \"babies\",\n      \"properties\": {\n        \"dtype\": \"number\",\n        \"std\": 36433.16670359793,\n        \"min\": 0.0,\n        \"max\": 103050.0,\n        \"num_unique_values\": 5,\n        \"samples\": [\n          0.0076855895196506555,\n          0.09701625414689467,\n          0.0\n        ],\n        \"semantic_type\": \"\",\n        \"description\": \"\"\n      }\n    },\n    {\n      \"column\": \"is_repeated_guest\",\n      \"properties\": {\n        \"dtype\": \"number\",\n        \"std\": 36433.61974755239,\n        \"min\": 0.0,\n        \"max\": 103050.0,\n        \"num_unique_values\": 5,\n        \"samples\": [\n          0.014022319262493935,\n          0.11758328108708788,\n          0.0\n        ],\n        \"semantic_type\": \"\",\n        \"description\": \"\"\n      }\n    },\n    {\n      \"column\": \"previous_cancellations\",\n      \"properties\": {\n        \"dtype\": \"number\",\n        \"std\": 36432.32265845754,\n        \"min\": 0.0,\n        \"max\": 103050.0,\n        \"num_unique_values\": 5,\n        \"samples\": [\n          0.07721494420184377,\n          0.7576821493279626,\n          0.0\n        ],\n        \"semantic_type\": \"\",\n        \"description\": \"\"\n      }\n    },\n    {\n      \"column\": \"previous_bookings_not_canceled\",\n      \"properties\": {\n        \"dtype\": \"number\",\n        \"std\": 36431.13239894619,\n        \"min\": 0.0,\n        \"max\": 103050.0,\n        \"num_unique_values\": 5,\n        \"samples\": [\n          0.024861717612809316,\n          0.4366349970136878,\n          0.0\n        ],\n        \"semantic_type\": \"\",\n        \"description\": \"\"\n      }\n    },\n    {\n      \"column\": \"booking_changes\",\n      \"properties\": {\n        \"dtype\": \"number\",\n        \"std\": 36432.72655609331,\n        \"min\": 0.0,\n        \"max\": 103050.0,\n        \"num_unique_values\": 5,\n        \"samples\": [\n          0.20169820475497333,\n          0.6247918095095434,\n          0.0\n        ],\n        \"semantic_type\": \"\",\n        \"description\": \"\"\n      }\n    },\n    {\n      \"column\": \"agent\",\n      \"properties\": {\n        \"dtype\": \"number\",\n        \"std\": 36384.33514445704,\n        \"min\": 1.0,\n        \"max\": 103050.0,\n        \"num_unique_values\": 8,\n        \"samples\": [\n          86.69338185346919,\n          229.0,\n          103050.0\n        ],\n        \"semantic_type\": \"\",\n        \"description\": \"\"\n      }\n    },\n    {\n      \"column\": \"days_in_waiting_list\",\n      \"properties\": {\n        \"dtype\": \"number\",\n        \"std\": 36413.10054149898,\n        \"min\": 0.0,\n        \"max\": 103050.0,\n        \"num_unique_values\": 5,\n        \"samples\": [\n          2.615613779718583,\n          18.783482450568226,\n          0.0\n        ],\n        \"semantic_type\": \"\",\n        \"description\": \"\"\n      }\n    },\n    {\n      \"column\": \"adr\",\n      \"properties\": {\n        \"dtype\": \"number\",\n        \"std\": 36186.49521256647,\n        \"min\": -6.38,\n        \"max\": 103050.0,\n        \"num_unique_values\": 8,\n        \"samples\": [\n          104.61880795730228,\n          127.8,\n          103050.0\n        ],\n        \"semantic_type\": \"\",\n        \"description\": \"\"\n      }\n    },\n    {\n      \"column\": \"required_car_parking_spaces\",\n      \"properties\": {\n        \"dtype\": \"number\",\n        \"std\": 36433.51130420406,\n        \"min\": 0.0,\n        \"max\": 103050.0,\n        \"num_unique_values\": 5,\n        \"samples\": [\n          0.05321688500727802,\n          0.2257170266856706,\n          0.0\n        ],\n        \"semantic_type\": \"\",\n        \"description\": \"\"\n      }\n    },\n    {\n      \"column\": \"total_of_special_requests\",\n      \"properties\": {\n        \"dtype\": \"number\",\n        \"std\": 36433.30294983203,\n        \"min\": 0.0,\n        \"max\": 103050.0,\n        \"num_unique_values\": 6,\n        \"samples\": [\n          103050.0,\n          0.605376031052887,\n          0.7992163825031092\n        ],\n        \"semantic_type\": \"\",\n        \"description\": \"\"\n      }\n    },\n    {\n      \"column\": \"reservation_status_date\",\n      \"properties\": {\n        \"dtype\": \"date\",\n        \"min\": \"1970-01-01 00:00:00.000103050\",\n        \"max\": \"2017-09-14 00:00:00\",\n        \"num_unique_values\": 7,\n        \"samples\": [\n          \"103050\",\n          \"2016-07-29 01:32:57.222707456\",\n          \"2017-02-12 00:00:00\"\n        ],\n        \"semantic_type\": \"\",\n        \"description\": \"\"\n      }\n    }\n  ]\n}"
            }
          },
          "metadata": {},
          "execution_count": 81
        }
      ]
    },
    {
      "cell_type": "code",
      "source": [
        "data['hotel'].value_counts()"
      ],
      "metadata": {
        "id": "eXPIbYjICYqP",
        "colab": {
          "base_uri": "https://localhost:8080/"
        },
        "outputId": "881bf4f6-c3a1-4eca-f457-e983127f19b1"
      },
      "execution_count": null,
      "outputs": [
        {
          "output_type": "execute_result",
          "data": {
            "text/plain": [
              "hotel\n",
              "City Hotel      71199\n",
              "Resort Hotel    31851\n",
              "Name: count, dtype: int64"
            ]
          },
          "metadata": {},
          "execution_count": 82
        }
      ]
    },
    {
      "cell_type": "markdown",
      "source": [
        "**from this we can state there is almost 70% of data from City Hotel and 30% from Resort Hotel**"
      ],
      "metadata": {
        "id": "0sJTnTs5ClDS"
      }
    },
    {
      "cell_type": "code",
      "source": [
        "data.dtypes\n"
      ],
      "metadata": {
        "id": "wLDWjNDixsWc",
        "colab": {
          "base_uri": "https://localhost:8080/"
        },
        "outputId": "9c035656-c08b-4417-b68e-54491572cbcc"
      },
      "execution_count": null,
      "outputs": [
        {
          "output_type": "execute_result",
          "data": {
            "text/plain": [
              "hotel                                     object\n",
              "is_canceled                                int64\n",
              "lead_time                                  int64\n",
              "arrival_date_year                          int64\n",
              "arrival_date_month                        object\n",
              "arrival_date_week_number                   int64\n",
              "arrival_date_day_of_month                  int64\n",
              "stays_in_weekend_nights                    int64\n",
              "stays_in_week_nights                       int64\n",
              "adults                                     int64\n",
              "children                                 float64\n",
              "babies                                     int64\n",
              "meal                                      object\n",
              "country                                   object\n",
              "market_segment                            object\n",
              "distribution_channel                      object\n",
              "is_repeated_guest                          int64\n",
              "previous_cancellations                     int64\n",
              "previous_bookings_not_canceled             int64\n",
              "reserved_room_type                        object\n",
              "assigned_room_type                        object\n",
              "booking_changes                            int64\n",
              "deposit_type                              object\n",
              "agent                                    float64\n",
              "days_in_waiting_list                       int64\n",
              "customer_type                             object\n",
              "adr                                      float64\n",
              "required_car_parking_spaces                int64\n",
              "total_of_special_requests                  int64\n",
              "reservation_status                        object\n",
              "reservation_status_date           datetime64[ns]\n",
              "dtype: object"
            ]
          },
          "metadata": {},
          "execution_count": 83
        }
      ]
    },
    {
      "cell_type": "code",
      "source": [
        "numercal_columns=data.select_dtypes(include=['int64','float64'])\n",
        "numercal_columns.columns"
      ],
      "metadata": {
        "id": "wRSEq3AYxwFW",
        "colab": {
          "base_uri": "https://localhost:8080/"
        },
        "outputId": "0d95e829-c5e4-4158-dd52-fada5af24c7d"
      },
      "execution_count": null,
      "outputs": [
        {
          "output_type": "execute_result",
          "data": {
            "text/plain": [
              "Index(['is_canceled', 'lead_time', 'arrival_date_year',\n",
              "       'arrival_date_week_number', 'arrival_date_day_of_month',\n",
              "       'stays_in_weekend_nights', 'stays_in_week_nights', 'adults', 'children',\n",
              "       'babies', 'is_repeated_guest', 'previous_cancellations',\n",
              "       'previous_bookings_not_canceled', 'booking_changes', 'agent',\n",
              "       'days_in_waiting_list', 'adr', 'required_car_parking_spaces',\n",
              "       'total_of_special_requests'],\n",
              "      dtype='object')"
            ]
          },
          "metadata": {},
          "execution_count": 84
        }
      ]
    },
    {
      "cell_type": "code",
      "source": [
        "numercal_columns.corr()"
      ],
      "metadata": {
        "id": "c4ewrhYxF6rt",
        "colab": {
          "base_uri": "https://localhost:8080/",
          "height": 665
        },
        "outputId": "c3a0c3f9-bb77-4b43-d97d-b16a8c66cd79"
      },
      "execution_count": null,
      "outputs": [
        {
          "output_type": "execute_result",
          "data": {
            "text/plain": [
              "                                is_canceled  lead_time  arrival_date_year  \\\n",
              "is_canceled                        1.000000   0.278254           0.004315   \n",
              "lead_time                          0.278254   1.000000           0.040677   \n",
              "arrival_date_year                  0.004315   0.040677           1.000000   \n",
              "arrival_date_week_number           0.004557   0.120472          -0.530490   \n",
              "arrival_date_day_of_month         -0.005402  -0.003494           0.005605   \n",
              "stays_in_weekend_nights           -0.023240   0.048336           0.020733   \n",
              "stays_in_week_nights               0.004442   0.124929           0.032345   \n",
              "adults                             0.037876   0.073298           0.061511   \n",
              "children                           0.005409  -0.049634           0.065415   \n",
              "babies                            -0.031974  -0.021911          -0.009764   \n",
              "is_repeated_guest                 -0.029883  -0.055339          -0.022335   \n",
              "previous_cancellations             0.118146   0.100451          -0.134077   \n",
              "previous_bookings_not_canceled    -0.043391  -0.045930           0.015265   \n",
              "booking_changes                   -0.131672  -0.000303           0.036561   \n",
              "agent                             -0.083114  -0.069741           0.063457   \n",
              "days_in_waiting_list               0.052519   0.170323          -0.061588   \n",
              "adr                                0.023622  -0.111654           0.222079   \n",
              "required_car_parking_spaces       -0.188536  -0.111352          -0.012977   \n",
              "total_of_special_requests         -0.257982  -0.123112           0.121600   \n",
              "\n",
              "                                arrival_date_week_number  \\\n",
              "is_canceled                                     0.004557   \n",
              "lead_time                                       0.120472   \n",
              "arrival_date_year                              -0.530490   \n",
              "arrival_date_week_number                        1.000000   \n",
              "arrival_date_day_of_month                       0.057489   \n",
              "stays_in_weekend_nights                         0.010332   \n",
              "stays_in_week_nights                            0.013572   \n",
              "adults                                          0.003837   \n",
              "children                                       -0.000708   \n",
              "babies                                          0.007854   \n",
              "is_repeated_guest                              -0.013073   \n",
              "previous_cancellations                          0.042690   \n",
              "previous_bookings_not_canceled                 -0.025422   \n",
              "booking_changes                                 0.008506   \n",
              "agent                                          -0.031201   \n",
              "days_in_waiting_list                            0.023791   \n",
              "adr                                             0.062731   \n",
              "required_car_parking_spaces                    -0.001386   \n",
              "total_of_special_requests                       0.021503   \n",
              "\n",
              "                                arrival_date_day_of_month  \\\n",
              "is_canceled                                     -0.005402   \n",
              "lead_time                                       -0.003494   \n",
              "arrival_date_year                                0.005605   \n",
              "arrival_date_week_number                         0.057489   \n",
              "arrival_date_day_of_month                        1.000000   \n",
              "stays_in_weekend_nights                         -0.016503   \n",
              "stays_in_week_nights                            -0.031063   \n",
              "adults                                           0.001200   \n",
              "children                                         0.013563   \n",
              "babies                                          -0.002400   \n",
              "is_repeated_guest                               -0.008268   \n",
              "previous_cancellations                          -0.025005   \n",
              "previous_bookings_not_canceled                   0.001201   \n",
              "booking_changes                                  0.011458   \n",
              "agent                                            0.001487   \n",
              "days_in_waiting_list                             0.024802   \n",
              "adr                                              0.025680   \n",
              "required_car_parking_spaces                      0.004582   \n",
              "total_of_special_requests                        0.002402   \n",
              "\n",
              "                                stays_in_weekend_nights  stays_in_week_nights  \\\n",
              "is_canceled                                   -0.023240              0.004442   \n",
              "lead_time                                      0.048336              0.124929   \n",
              "arrival_date_year                              0.020733              0.032345   \n",
              "arrival_date_week_number                       0.010332              0.013572   \n",
              "arrival_date_day_of_month                     -0.016503             -0.031063   \n",
              "stays_in_weekend_nights                        1.000000              0.486529   \n",
              "stays_in_week_nights                           0.486529              1.000000   \n",
              "adults                                         0.071588              0.072459   \n",
              "children                                       0.040147              0.039955   \n",
              "babies                                         0.020078              0.021007   \n",
              "is_repeated_guest                             -0.056971             -0.057406   \n",
              "previous_cancellations                        -0.002832             -0.013370   \n",
              "previous_bookings_not_canceled                -0.028609             -0.029795   \n",
              "booking_changes                                0.054920              0.081615   \n",
              "agent                                          0.140739              0.182382   \n",
              "days_in_waiting_list                          -0.064521             -0.009302   \n",
              "adr                                            0.017026              0.036780   \n",
              "required_car_parking_spaces                   -0.011077             -0.016356   \n",
              "total_of_special_requests                      0.056061              0.050248   \n",
              "\n",
              "                                  adults  children    babies  \\\n",
              "is_canceled                     0.037876  0.005409 -0.031974   \n",
              "lead_time                       0.073298 -0.049634 -0.021911   \n",
              "arrival_date_year               0.061511  0.065415 -0.009764   \n",
              "arrival_date_week_number        0.003837 -0.000708  0.007854   \n",
              "arrival_date_day_of_month       0.001200  0.013563 -0.002400   \n",
              "stays_in_weekend_nights         0.071588  0.040147  0.020078   \n",
              "stays_in_week_nights            0.072459  0.039955  0.021007   \n",
              "adults                          1.000000  0.014657  0.013367   \n",
              "children                        0.014657  1.000000  0.016753   \n",
              "babies                          0.013367  0.016753  1.000000   \n",
              "is_repeated_guest              -0.073736 -0.018959 -0.006895   \n",
              "previous_cancellations         -0.003236 -0.025078 -0.007149   \n",
              "previous_bookings_not_canceled -0.055191 -0.010186 -0.002678   \n",
              "booking_changes                -0.051696  0.055589  0.094176   \n",
              "agent                          -0.035594  0.041066  0.036184   \n",
              "days_in_waiting_list           -0.022790 -0.036412 -0.010877   \n",
              "adr                             0.238001  0.335757  0.025655   \n",
              "required_car_parking_spaces     0.036450  0.065300  0.038931   \n",
              "total_of_special_requests       0.116924  0.068130  0.091681   \n",
              "\n",
              "                                is_repeated_guest  previous_cancellations  \\\n",
              "is_canceled                             -0.029883                0.118146   \n",
              "lead_time                               -0.055339                0.100451   \n",
              "arrival_date_year                       -0.022335               -0.134077   \n",
              "arrival_date_week_number                -0.013073                0.042690   \n",
              "arrival_date_day_of_month               -0.008268               -0.025005   \n",
              "stays_in_weekend_nights                 -0.056971               -0.002832   \n",
              "stays_in_week_nights                    -0.057406               -0.013370   \n",
              "adults                                  -0.073736               -0.003236   \n",
              "children                                -0.018959               -0.025078   \n",
              "babies                                  -0.006895               -0.007149   \n",
              "is_repeated_guest                        1.000000                0.073243   \n",
              "previous_cancellations                   0.073243                1.000000   \n",
              "previous_bookings_not_canceled           0.395997                0.093517   \n",
              "booking_changes                         -0.000588               -0.029394   \n",
              "agent                                    0.031527               -0.012488   \n",
              "days_in_waiting_list                    -0.015816                0.005440   \n",
              "adr                                     -0.092396               -0.072499   \n",
              "required_car_parking_spaces              0.028922               -0.022155   \n",
              "total_of_special_requests                0.004258               -0.061232   \n",
              "\n",
              "                                previous_bookings_not_canceled  \\\n",
              "is_canceled                                          -0.043391   \n",
              "lead_time                                            -0.045930   \n",
              "arrival_date_year                                     0.015265   \n",
              "arrival_date_week_number                             -0.025422   \n",
              "arrival_date_day_of_month                             0.001201   \n",
              "stays_in_weekend_nights                              -0.028609   \n",
              "stays_in_week_nights                                 -0.029795   \n",
              "adults                                               -0.055191   \n",
              "children                                             -0.010186   \n",
              "babies                                               -0.002678   \n",
              "is_repeated_guest                                     0.395997   \n",
              "previous_cancellations                                0.093517   \n",
              "previous_bookings_not_canceled                        1.000000   \n",
              "booking_changes                                       0.001432   \n",
              "agent                                                 0.023252   \n",
              "days_in_waiting_list                                 -0.006502   \n",
              "adr                                                  -0.041662   \n",
              "required_car_parking_spaces                           0.021037   \n",
              "total_of_special_requests                             0.017993   \n",
              "\n",
              "                                booking_changes     agent  \\\n",
              "is_canceled                           -0.131672 -0.083114   \n",
              "lead_time                             -0.000303 -0.069741   \n",
              "arrival_date_year                      0.036561  0.063457   \n",
              "arrival_date_week_number               0.008506 -0.031201   \n",
              "arrival_date_day_of_month              0.011458  0.001487   \n",
              "stays_in_weekend_nights                0.054920  0.140739   \n",
              "stays_in_week_nights                   0.081615  0.182382   \n",
              "adults                                -0.051696 -0.035594   \n",
              "children                               0.055589  0.041066   \n",
              "babies                                 0.094176  0.036184   \n",
              "is_repeated_guest                     -0.000588  0.031527   \n",
              "previous_cancellations                -0.029394 -0.012488   \n",
              "previous_bookings_not_canceled         0.001432  0.023252   \n",
              "booking_changes                        1.000000  0.067010   \n",
              "agent                                  0.067010  1.000000   \n",
              "days_in_waiting_list                  -0.009548 -0.055151   \n",
              "adr                                    0.048302 -0.024695   \n",
              "required_car_parking_spaces            0.059445  0.177353   \n",
              "total_of_special_requests              0.065536  0.034162   \n",
              "\n",
              "                                days_in_waiting_list       adr  \\\n",
              "is_canceled                                 0.052519  0.023622   \n",
              "lead_time                                   0.170323 -0.111654   \n",
              "arrival_date_year                          -0.061588  0.222079   \n",
              "arrival_date_week_number                    0.023791  0.062731   \n",
              "arrival_date_day_of_month                   0.024802  0.025680   \n",
              "stays_in_weekend_nights                    -0.064521  0.017026   \n",
              "stays_in_week_nights                       -0.009302  0.036780   \n",
              "adults                                     -0.022790  0.238001   \n",
              "children                                   -0.036412  0.335757   \n",
              "babies                                     -0.010877  0.025655   \n",
              "is_repeated_guest                          -0.015816 -0.092396   \n",
              "previous_cancellations                      0.005440 -0.072499   \n",
              "previous_bookings_not_canceled             -0.006502 -0.041662   \n",
              "booking_changes                            -0.009548  0.048302   \n",
              "agent                                      -0.055151 -0.024695   \n",
              "days_in_waiting_list                        1.000000 -0.051865   \n",
              "adr                                        -0.051865  1.000000   \n",
              "required_car_parking_spaces                -0.032806  0.083765   \n",
              "total_of_special_requests                  -0.092629  0.166990   \n",
              "\n",
              "                                required_car_parking_spaces  \\\n",
              "is_canceled                                       -0.188536   \n",
              "lead_time                                         -0.111352   \n",
              "arrival_date_year                                 -0.012977   \n",
              "arrival_date_week_number                          -0.001386   \n",
              "arrival_date_day_of_month                          0.004582   \n",
              "stays_in_weekend_nights                           -0.011077   \n",
              "stays_in_week_nights                              -0.016356   \n",
              "adults                                             0.036450   \n",
              "children                                           0.065300   \n",
              "babies                                             0.038931   \n",
              "is_repeated_guest                                  0.028922   \n",
              "previous_cancellations                            -0.022155   \n",
              "previous_bookings_not_canceled                     0.021037   \n",
              "booking_changes                                    0.059445   \n",
              "agent                                              0.177353   \n",
              "days_in_waiting_list                              -0.032806   \n",
              "adr                                                0.083765   \n",
              "required_car_parking_spaces                        1.000000   \n",
              "total_of_special_requests                          0.089249   \n",
              "\n",
              "                                total_of_special_requests  \n",
              "is_canceled                                     -0.257982  \n",
              "lead_time                                       -0.123112  \n",
              "arrival_date_year                                0.121600  \n",
              "arrival_date_week_number                         0.021503  \n",
              "arrival_date_day_of_month                        0.002402  \n",
              "stays_in_weekend_nights                          0.056061  \n",
              "stays_in_week_nights                             0.050248  \n",
              "adults                                           0.116924  \n",
              "children                                         0.068130  \n",
              "babies                                           0.091681  \n",
              "is_repeated_guest                                0.004258  \n",
              "previous_cancellations                          -0.061232  \n",
              "previous_bookings_not_canceled                   0.017993  \n",
              "booking_changes                                  0.065536  \n",
              "agent                                            0.034162  \n",
              "days_in_waiting_list                            -0.092629  \n",
              "adr                                              0.166990  \n",
              "required_car_parking_spaces                      0.089249  \n",
              "total_of_special_requests                        1.000000  "
            ],
            "text/html": [
              "\n",
              "  <div id=\"df-57c479f5-dd7f-4f45-b36f-1f30fae6f48e\" class=\"colab-df-container\">\n",
              "    <div>\n",
              "<style scoped>\n",
              "    .dataframe tbody tr th:only-of-type {\n",
              "        vertical-align: middle;\n",
              "    }\n",
              "\n",
              "    .dataframe tbody tr th {\n",
              "        vertical-align: top;\n",
              "    }\n",
              "\n",
              "    .dataframe thead th {\n",
              "        text-align: right;\n",
              "    }\n",
              "</style>\n",
              "<table border=\"1\" class=\"dataframe\">\n",
              "  <thead>\n",
              "    <tr style=\"text-align: right;\">\n",
              "      <th></th>\n",
              "      <th>is_canceled</th>\n",
              "      <th>lead_time</th>\n",
              "      <th>arrival_date_year</th>\n",
              "      <th>arrival_date_week_number</th>\n",
              "      <th>arrival_date_day_of_month</th>\n",
              "      <th>stays_in_weekend_nights</th>\n",
              "      <th>stays_in_week_nights</th>\n",
              "      <th>adults</th>\n",
              "      <th>children</th>\n",
              "      <th>babies</th>\n",
              "      <th>is_repeated_guest</th>\n",
              "      <th>previous_cancellations</th>\n",
              "      <th>previous_bookings_not_canceled</th>\n",
              "      <th>booking_changes</th>\n",
              "      <th>agent</th>\n",
              "      <th>days_in_waiting_list</th>\n",
              "      <th>adr</th>\n",
              "      <th>required_car_parking_spaces</th>\n",
              "      <th>total_of_special_requests</th>\n",
              "    </tr>\n",
              "  </thead>\n",
              "  <tbody>\n",
              "    <tr>\n",
              "      <th>is_canceled</th>\n",
              "      <td>1.000000</td>\n",
              "      <td>0.278254</td>\n",
              "      <td>0.004315</td>\n",
              "      <td>0.004557</td>\n",
              "      <td>-0.005402</td>\n",
              "      <td>-0.023240</td>\n",
              "      <td>0.004442</td>\n",
              "      <td>0.037876</td>\n",
              "      <td>0.005409</td>\n",
              "      <td>-0.031974</td>\n",
              "      <td>-0.029883</td>\n",
              "      <td>0.118146</td>\n",
              "      <td>-0.043391</td>\n",
              "      <td>-0.131672</td>\n",
              "      <td>-0.083114</td>\n",
              "      <td>0.052519</td>\n",
              "      <td>0.023622</td>\n",
              "      <td>-0.188536</td>\n",
              "      <td>-0.257982</td>\n",
              "    </tr>\n",
              "    <tr>\n",
              "      <th>lead_time</th>\n",
              "      <td>0.278254</td>\n",
              "      <td>1.000000</td>\n",
              "      <td>0.040677</td>\n",
              "      <td>0.120472</td>\n",
              "      <td>-0.003494</td>\n",
              "      <td>0.048336</td>\n",
              "      <td>0.124929</td>\n",
              "      <td>0.073298</td>\n",
              "      <td>-0.049634</td>\n",
              "      <td>-0.021911</td>\n",
              "      <td>-0.055339</td>\n",
              "      <td>0.100451</td>\n",
              "      <td>-0.045930</td>\n",
              "      <td>-0.000303</td>\n",
              "      <td>-0.069741</td>\n",
              "      <td>0.170323</td>\n",
              "      <td>-0.111654</td>\n",
              "      <td>-0.111352</td>\n",
              "      <td>-0.123112</td>\n",
              "    </tr>\n",
              "    <tr>\n",
              "      <th>arrival_date_year</th>\n",
              "      <td>0.004315</td>\n",
              "      <td>0.040677</td>\n",
              "      <td>1.000000</td>\n",
              "      <td>-0.530490</td>\n",
              "      <td>0.005605</td>\n",
              "      <td>0.020733</td>\n",
              "      <td>0.032345</td>\n",
              "      <td>0.061511</td>\n",
              "      <td>0.065415</td>\n",
              "      <td>-0.009764</td>\n",
              "      <td>-0.022335</td>\n",
              "      <td>-0.134077</td>\n",
              "      <td>0.015265</td>\n",
              "      <td>0.036561</td>\n",
              "      <td>0.063457</td>\n",
              "      <td>-0.061588</td>\n",
              "      <td>0.222079</td>\n",
              "      <td>-0.012977</td>\n",
              "      <td>0.121600</td>\n",
              "    </tr>\n",
              "    <tr>\n",
              "      <th>arrival_date_week_number</th>\n",
              "      <td>0.004557</td>\n",
              "      <td>0.120472</td>\n",
              "      <td>-0.530490</td>\n",
              "      <td>1.000000</td>\n",
              "      <td>0.057489</td>\n",
              "      <td>0.010332</td>\n",
              "      <td>0.013572</td>\n",
              "      <td>0.003837</td>\n",
              "      <td>-0.000708</td>\n",
              "      <td>0.007854</td>\n",
              "      <td>-0.013073</td>\n",
              "      <td>0.042690</td>\n",
              "      <td>-0.025422</td>\n",
              "      <td>0.008506</td>\n",
              "      <td>-0.031201</td>\n",
              "      <td>0.023791</td>\n",
              "      <td>0.062731</td>\n",
              "      <td>-0.001386</td>\n",
              "      <td>0.021503</td>\n",
              "    </tr>\n",
              "    <tr>\n",
              "      <th>arrival_date_day_of_month</th>\n",
              "      <td>-0.005402</td>\n",
              "      <td>-0.003494</td>\n",
              "      <td>0.005605</td>\n",
              "      <td>0.057489</td>\n",
              "      <td>1.000000</td>\n",
              "      <td>-0.016503</td>\n",
              "      <td>-0.031063</td>\n",
              "      <td>0.001200</td>\n",
              "      <td>0.013563</td>\n",
              "      <td>-0.002400</td>\n",
              "      <td>-0.008268</td>\n",
              "      <td>-0.025005</td>\n",
              "      <td>0.001201</td>\n",
              "      <td>0.011458</td>\n",
              "      <td>0.001487</td>\n",
              "      <td>0.024802</td>\n",
              "      <td>0.025680</td>\n",
              "      <td>0.004582</td>\n",
              "      <td>0.002402</td>\n",
              "    </tr>\n",
              "    <tr>\n",
              "      <th>stays_in_weekend_nights</th>\n",
              "      <td>-0.023240</td>\n",
              "      <td>0.048336</td>\n",
              "      <td>0.020733</td>\n",
              "      <td>0.010332</td>\n",
              "      <td>-0.016503</td>\n",
              "      <td>1.000000</td>\n",
              "      <td>0.486529</td>\n",
              "      <td>0.071588</td>\n",
              "      <td>0.040147</td>\n",
              "      <td>0.020078</td>\n",
              "      <td>-0.056971</td>\n",
              "      <td>-0.002832</td>\n",
              "      <td>-0.028609</td>\n",
              "      <td>0.054920</td>\n",
              "      <td>0.140739</td>\n",
              "      <td>-0.064521</td>\n",
              "      <td>0.017026</td>\n",
              "      <td>-0.011077</td>\n",
              "      <td>0.056061</td>\n",
              "    </tr>\n",
              "    <tr>\n",
              "      <th>stays_in_week_nights</th>\n",
              "      <td>0.004442</td>\n",
              "      <td>0.124929</td>\n",
              "      <td>0.032345</td>\n",
              "      <td>0.013572</td>\n",
              "      <td>-0.031063</td>\n",
              "      <td>0.486529</td>\n",
              "      <td>1.000000</td>\n",
              "      <td>0.072459</td>\n",
              "      <td>0.039955</td>\n",
              "      <td>0.021007</td>\n",
              "      <td>-0.057406</td>\n",
              "      <td>-0.013370</td>\n",
              "      <td>-0.029795</td>\n",
              "      <td>0.081615</td>\n",
              "      <td>0.182382</td>\n",
              "      <td>-0.009302</td>\n",
              "      <td>0.036780</td>\n",
              "      <td>-0.016356</td>\n",
              "      <td>0.050248</td>\n",
              "    </tr>\n",
              "    <tr>\n",
              "      <th>adults</th>\n",
              "      <td>0.037876</td>\n",
              "      <td>0.073298</td>\n",
              "      <td>0.061511</td>\n",
              "      <td>0.003837</td>\n",
              "      <td>0.001200</td>\n",
              "      <td>0.071588</td>\n",
              "      <td>0.072459</td>\n",
              "      <td>1.000000</td>\n",
              "      <td>0.014657</td>\n",
              "      <td>0.013367</td>\n",
              "      <td>-0.073736</td>\n",
              "      <td>-0.003236</td>\n",
              "      <td>-0.055191</td>\n",
              "      <td>-0.051696</td>\n",
              "      <td>-0.035594</td>\n",
              "      <td>-0.022790</td>\n",
              "      <td>0.238001</td>\n",
              "      <td>0.036450</td>\n",
              "      <td>0.116924</td>\n",
              "    </tr>\n",
              "    <tr>\n",
              "      <th>children</th>\n",
              "      <td>0.005409</td>\n",
              "      <td>-0.049634</td>\n",
              "      <td>0.065415</td>\n",
              "      <td>-0.000708</td>\n",
              "      <td>0.013563</td>\n",
              "      <td>0.040147</td>\n",
              "      <td>0.039955</td>\n",
              "      <td>0.014657</td>\n",
              "      <td>1.000000</td>\n",
              "      <td>0.016753</td>\n",
              "      <td>-0.018959</td>\n",
              "      <td>-0.025078</td>\n",
              "      <td>-0.010186</td>\n",
              "      <td>0.055589</td>\n",
              "      <td>0.041066</td>\n",
              "      <td>-0.036412</td>\n",
              "      <td>0.335757</td>\n",
              "      <td>0.065300</td>\n",
              "      <td>0.068130</td>\n",
              "    </tr>\n",
              "    <tr>\n",
              "      <th>babies</th>\n",
              "      <td>-0.031974</td>\n",
              "      <td>-0.021911</td>\n",
              "      <td>-0.009764</td>\n",
              "      <td>0.007854</td>\n",
              "      <td>-0.002400</td>\n",
              "      <td>0.020078</td>\n",
              "      <td>0.021007</td>\n",
              "      <td>0.013367</td>\n",
              "      <td>0.016753</td>\n",
              "      <td>1.000000</td>\n",
              "      <td>-0.006895</td>\n",
              "      <td>-0.007149</td>\n",
              "      <td>-0.002678</td>\n",
              "      <td>0.094176</td>\n",
              "      <td>0.036184</td>\n",
              "      <td>-0.010877</td>\n",
              "      <td>0.025655</td>\n",
              "      <td>0.038931</td>\n",
              "      <td>0.091681</td>\n",
              "    </tr>\n",
              "    <tr>\n",
              "      <th>is_repeated_guest</th>\n",
              "      <td>-0.029883</td>\n",
              "      <td>-0.055339</td>\n",
              "      <td>-0.022335</td>\n",
              "      <td>-0.013073</td>\n",
              "      <td>-0.008268</td>\n",
              "      <td>-0.056971</td>\n",
              "      <td>-0.057406</td>\n",
              "      <td>-0.073736</td>\n",
              "      <td>-0.018959</td>\n",
              "      <td>-0.006895</td>\n",
              "      <td>1.000000</td>\n",
              "      <td>0.073243</td>\n",
              "      <td>0.395997</td>\n",
              "      <td>-0.000588</td>\n",
              "      <td>0.031527</td>\n",
              "      <td>-0.015816</td>\n",
              "      <td>-0.092396</td>\n",
              "      <td>0.028922</td>\n",
              "      <td>0.004258</td>\n",
              "    </tr>\n",
              "    <tr>\n",
              "      <th>previous_cancellations</th>\n",
              "      <td>0.118146</td>\n",
              "      <td>0.100451</td>\n",
              "      <td>-0.134077</td>\n",
              "      <td>0.042690</td>\n",
              "      <td>-0.025005</td>\n",
              "      <td>-0.002832</td>\n",
              "      <td>-0.013370</td>\n",
              "      <td>-0.003236</td>\n",
              "      <td>-0.025078</td>\n",
              "      <td>-0.007149</td>\n",
              "      <td>0.073243</td>\n",
              "      <td>1.000000</td>\n",
              "      <td>0.093517</td>\n",
              "      <td>-0.029394</td>\n",
              "      <td>-0.012488</td>\n",
              "      <td>0.005440</td>\n",
              "      <td>-0.072499</td>\n",
              "      <td>-0.022155</td>\n",
              "      <td>-0.061232</td>\n",
              "    </tr>\n",
              "    <tr>\n",
              "      <th>previous_bookings_not_canceled</th>\n",
              "      <td>-0.043391</td>\n",
              "      <td>-0.045930</td>\n",
              "      <td>0.015265</td>\n",
              "      <td>-0.025422</td>\n",
              "      <td>0.001201</td>\n",
              "      <td>-0.028609</td>\n",
              "      <td>-0.029795</td>\n",
              "      <td>-0.055191</td>\n",
              "      <td>-0.010186</td>\n",
              "      <td>-0.002678</td>\n",
              "      <td>0.395997</td>\n",
              "      <td>0.093517</td>\n",
              "      <td>1.000000</td>\n",
              "      <td>0.001432</td>\n",
              "      <td>0.023252</td>\n",
              "      <td>-0.006502</td>\n",
              "      <td>-0.041662</td>\n",
              "      <td>0.021037</td>\n",
              "      <td>0.017993</td>\n",
              "    </tr>\n",
              "    <tr>\n",
              "      <th>booking_changes</th>\n",
              "      <td>-0.131672</td>\n",
              "      <td>-0.000303</td>\n",
              "      <td>0.036561</td>\n",
              "      <td>0.008506</td>\n",
              "      <td>0.011458</td>\n",
              "      <td>0.054920</td>\n",
              "      <td>0.081615</td>\n",
              "      <td>-0.051696</td>\n",
              "      <td>0.055589</td>\n",
              "      <td>0.094176</td>\n",
              "      <td>-0.000588</td>\n",
              "      <td>-0.029394</td>\n",
              "      <td>0.001432</td>\n",
              "      <td>1.000000</td>\n",
              "      <td>0.067010</td>\n",
              "      <td>-0.009548</td>\n",
              "      <td>0.048302</td>\n",
              "      <td>0.059445</td>\n",
              "      <td>0.065536</td>\n",
              "    </tr>\n",
              "    <tr>\n",
              "      <th>agent</th>\n",
              "      <td>-0.083114</td>\n",
              "      <td>-0.069741</td>\n",
              "      <td>0.063457</td>\n",
              "      <td>-0.031201</td>\n",
              "      <td>0.001487</td>\n",
              "      <td>0.140739</td>\n",
              "      <td>0.182382</td>\n",
              "      <td>-0.035594</td>\n",
              "      <td>0.041066</td>\n",
              "      <td>0.036184</td>\n",
              "      <td>0.031527</td>\n",
              "      <td>-0.012488</td>\n",
              "      <td>0.023252</td>\n",
              "      <td>0.067010</td>\n",
              "      <td>1.000000</td>\n",
              "      <td>-0.055151</td>\n",
              "      <td>-0.024695</td>\n",
              "      <td>0.177353</td>\n",
              "      <td>0.034162</td>\n",
              "    </tr>\n",
              "    <tr>\n",
              "      <th>days_in_waiting_list</th>\n",
              "      <td>0.052519</td>\n",
              "      <td>0.170323</td>\n",
              "      <td>-0.061588</td>\n",
              "      <td>0.023791</td>\n",
              "      <td>0.024802</td>\n",
              "      <td>-0.064521</td>\n",
              "      <td>-0.009302</td>\n",
              "      <td>-0.022790</td>\n",
              "      <td>-0.036412</td>\n",
              "      <td>-0.010877</td>\n",
              "      <td>-0.015816</td>\n",
              "      <td>0.005440</td>\n",
              "      <td>-0.006502</td>\n",
              "      <td>-0.009548</td>\n",
              "      <td>-0.055151</td>\n",
              "      <td>1.000000</td>\n",
              "      <td>-0.051865</td>\n",
              "      <td>-0.032806</td>\n",
              "      <td>-0.092629</td>\n",
              "    </tr>\n",
              "    <tr>\n",
              "      <th>adr</th>\n",
              "      <td>0.023622</td>\n",
              "      <td>-0.111654</td>\n",
              "      <td>0.222079</td>\n",
              "      <td>0.062731</td>\n",
              "      <td>0.025680</td>\n",
              "      <td>0.017026</td>\n",
              "      <td>0.036780</td>\n",
              "      <td>0.238001</td>\n",
              "      <td>0.335757</td>\n",
              "      <td>0.025655</td>\n",
              "      <td>-0.092396</td>\n",
              "      <td>-0.072499</td>\n",
              "      <td>-0.041662</td>\n",
              "      <td>0.048302</td>\n",
              "      <td>-0.024695</td>\n",
              "      <td>-0.051865</td>\n",
              "      <td>1.000000</td>\n",
              "      <td>0.083765</td>\n",
              "      <td>0.166990</td>\n",
              "    </tr>\n",
              "    <tr>\n",
              "      <th>required_car_parking_spaces</th>\n",
              "      <td>-0.188536</td>\n",
              "      <td>-0.111352</td>\n",
              "      <td>-0.012977</td>\n",
              "      <td>-0.001386</td>\n",
              "      <td>0.004582</td>\n",
              "      <td>-0.011077</td>\n",
              "      <td>-0.016356</td>\n",
              "      <td>0.036450</td>\n",
              "      <td>0.065300</td>\n",
              "      <td>0.038931</td>\n",
              "      <td>0.028922</td>\n",
              "      <td>-0.022155</td>\n",
              "      <td>0.021037</td>\n",
              "      <td>0.059445</td>\n",
              "      <td>0.177353</td>\n",
              "      <td>-0.032806</td>\n",
              "      <td>0.083765</td>\n",
              "      <td>1.000000</td>\n",
              "      <td>0.089249</td>\n",
              "    </tr>\n",
              "    <tr>\n",
              "      <th>total_of_special_requests</th>\n",
              "      <td>-0.257982</td>\n",
              "      <td>-0.123112</td>\n",
              "      <td>0.121600</td>\n",
              "      <td>0.021503</td>\n",
              "      <td>0.002402</td>\n",
              "      <td>0.056061</td>\n",
              "      <td>0.050248</td>\n",
              "      <td>0.116924</td>\n",
              "      <td>0.068130</td>\n",
              "      <td>0.091681</td>\n",
              "      <td>0.004258</td>\n",
              "      <td>-0.061232</td>\n",
              "      <td>0.017993</td>\n",
              "      <td>0.065536</td>\n",
              "      <td>0.034162</td>\n",
              "      <td>-0.092629</td>\n",
              "      <td>0.166990</td>\n",
              "      <td>0.089249</td>\n",
              "      <td>1.000000</td>\n",
              "    </tr>\n",
              "  </tbody>\n",
              "</table>\n",
              "</div>\n",
              "    <div class=\"colab-df-buttons\">\n",
              "\n",
              "  <div class=\"colab-df-container\">\n",
              "    <button class=\"colab-df-convert\" onclick=\"convertToInteractive('df-57c479f5-dd7f-4f45-b36f-1f30fae6f48e')\"\n",
              "            title=\"Convert this dataframe to an interactive table.\"\n",
              "            style=\"display:none;\">\n",
              "\n",
              "  <svg xmlns=\"http://www.w3.org/2000/svg\" height=\"24px\" viewBox=\"0 -960 960 960\">\n",
              "    <path d=\"M120-120v-720h720v720H120Zm60-500h600v-160H180v160Zm220 220h160v-160H400v160Zm0 220h160v-160H400v160ZM180-400h160v-160H180v160Zm440 0h160v-160H620v160ZM180-180h160v-160H180v160Zm440 0h160v-160H620v160Z\"/>\n",
              "  </svg>\n",
              "    </button>\n",
              "\n",
              "  <style>\n",
              "    .colab-df-container {\n",
              "      display:flex;\n",
              "      gap: 12px;\n",
              "    }\n",
              "\n",
              "    .colab-df-convert {\n",
              "      background-color: #E8F0FE;\n",
              "      border: none;\n",
              "      border-radius: 50%;\n",
              "      cursor: pointer;\n",
              "      display: none;\n",
              "      fill: #1967D2;\n",
              "      height: 32px;\n",
              "      padding: 0 0 0 0;\n",
              "      width: 32px;\n",
              "    }\n",
              "\n",
              "    .colab-df-convert:hover {\n",
              "      background-color: #E2EBFA;\n",
              "      box-shadow: 0px 1px 2px rgba(60, 64, 67, 0.3), 0px 1px 3px 1px rgba(60, 64, 67, 0.15);\n",
              "      fill: #174EA6;\n",
              "    }\n",
              "\n",
              "    .colab-df-buttons div {\n",
              "      margin-bottom: 4px;\n",
              "    }\n",
              "\n",
              "    [theme=dark] .colab-df-convert {\n",
              "      background-color: #3B4455;\n",
              "      fill: #D2E3FC;\n",
              "    }\n",
              "\n",
              "    [theme=dark] .colab-df-convert:hover {\n",
              "      background-color: #434B5C;\n",
              "      box-shadow: 0px 1px 3px 1px rgba(0, 0, 0, 0.15);\n",
              "      filter: drop-shadow(0px 1px 2px rgba(0, 0, 0, 0.3));\n",
              "      fill: #FFFFFF;\n",
              "    }\n",
              "  </style>\n",
              "\n",
              "    <script>\n",
              "      const buttonEl =\n",
              "        document.querySelector('#df-57c479f5-dd7f-4f45-b36f-1f30fae6f48e button.colab-df-convert');\n",
              "      buttonEl.style.display =\n",
              "        google.colab.kernel.accessAllowed ? 'block' : 'none';\n",
              "\n",
              "      async function convertToInteractive(key) {\n",
              "        const element = document.querySelector('#df-57c479f5-dd7f-4f45-b36f-1f30fae6f48e');\n",
              "        const dataTable =\n",
              "          await google.colab.kernel.invokeFunction('convertToInteractive',\n",
              "                                                    [key], {});\n",
              "        if (!dataTable) return;\n",
              "\n",
              "        const docLinkHtml = 'Like what you see? Visit the ' +\n",
              "          '<a target=\"_blank\" href=https://colab.research.google.com/notebooks/data_table.ipynb>data table notebook</a>'\n",
              "          + ' to learn more about interactive tables.';\n",
              "        element.innerHTML = '';\n",
              "        dataTable['output_type'] = 'display_data';\n",
              "        await google.colab.output.renderOutput(dataTable, element);\n",
              "        const docLink = document.createElement('div');\n",
              "        docLink.innerHTML = docLinkHtml;\n",
              "        element.appendChild(docLink);\n",
              "      }\n",
              "    </script>\n",
              "  </div>\n",
              "\n",
              "\n",
              "<div id=\"df-e540e3f1-98d7-4926-a42a-24044e3183cd\">\n",
              "  <button class=\"colab-df-quickchart\" onclick=\"quickchart('df-e540e3f1-98d7-4926-a42a-24044e3183cd')\"\n",
              "            title=\"Suggest charts\"\n",
              "            style=\"display:none;\">\n",
              "\n",
              "<svg xmlns=\"http://www.w3.org/2000/svg\" height=\"24px\"viewBox=\"0 0 24 24\"\n",
              "     width=\"24px\">\n",
              "    <g>\n",
              "        <path d=\"M19 3H5c-1.1 0-2 .9-2 2v14c0 1.1.9 2 2 2h14c1.1 0 2-.9 2-2V5c0-1.1-.9-2-2-2zM9 17H7v-7h2v7zm4 0h-2V7h2v10zm4 0h-2v-4h2v4z\"/>\n",
              "    </g>\n",
              "</svg>\n",
              "  </button>\n",
              "\n",
              "<style>\n",
              "  .colab-df-quickchart {\n",
              "      --bg-color: #E8F0FE;\n",
              "      --fill-color: #1967D2;\n",
              "      --hover-bg-color: #E2EBFA;\n",
              "      --hover-fill-color: #174EA6;\n",
              "      --disabled-fill-color: #AAA;\n",
              "      --disabled-bg-color: #DDD;\n",
              "  }\n",
              "\n",
              "  [theme=dark] .colab-df-quickchart {\n",
              "      --bg-color: #3B4455;\n",
              "      --fill-color: #D2E3FC;\n",
              "      --hover-bg-color: #434B5C;\n",
              "      --hover-fill-color: #FFFFFF;\n",
              "      --disabled-bg-color: #3B4455;\n",
              "      --disabled-fill-color: #666;\n",
              "  }\n",
              "\n",
              "  .colab-df-quickchart {\n",
              "    background-color: var(--bg-color);\n",
              "    border: none;\n",
              "    border-radius: 50%;\n",
              "    cursor: pointer;\n",
              "    display: none;\n",
              "    fill: var(--fill-color);\n",
              "    height: 32px;\n",
              "    padding: 0;\n",
              "    width: 32px;\n",
              "  }\n",
              "\n",
              "  .colab-df-quickchart:hover {\n",
              "    background-color: var(--hover-bg-color);\n",
              "    box-shadow: 0 1px 2px rgba(60, 64, 67, 0.3), 0 1px 3px 1px rgba(60, 64, 67, 0.15);\n",
              "    fill: var(--button-hover-fill-color);\n",
              "  }\n",
              "\n",
              "  .colab-df-quickchart-complete:disabled,\n",
              "  .colab-df-quickchart-complete:disabled:hover {\n",
              "    background-color: var(--disabled-bg-color);\n",
              "    fill: var(--disabled-fill-color);\n",
              "    box-shadow: none;\n",
              "  }\n",
              "\n",
              "  .colab-df-spinner {\n",
              "    border: 2px solid var(--fill-color);\n",
              "    border-color: transparent;\n",
              "    border-bottom-color: var(--fill-color);\n",
              "    animation:\n",
              "      spin 1s steps(1) infinite;\n",
              "  }\n",
              "\n",
              "  @keyframes spin {\n",
              "    0% {\n",
              "      border-color: transparent;\n",
              "      border-bottom-color: var(--fill-color);\n",
              "      border-left-color: var(--fill-color);\n",
              "    }\n",
              "    20% {\n",
              "      border-color: transparent;\n",
              "      border-left-color: var(--fill-color);\n",
              "      border-top-color: var(--fill-color);\n",
              "    }\n",
              "    30% {\n",
              "      border-color: transparent;\n",
              "      border-left-color: var(--fill-color);\n",
              "      border-top-color: var(--fill-color);\n",
              "      border-right-color: var(--fill-color);\n",
              "    }\n",
              "    40% {\n",
              "      border-color: transparent;\n",
              "      border-right-color: var(--fill-color);\n",
              "      border-top-color: var(--fill-color);\n",
              "    }\n",
              "    60% {\n",
              "      border-color: transparent;\n",
              "      border-right-color: var(--fill-color);\n",
              "    }\n",
              "    80% {\n",
              "      border-color: transparent;\n",
              "      border-right-color: var(--fill-color);\n",
              "      border-bottom-color: var(--fill-color);\n",
              "    }\n",
              "    90% {\n",
              "      border-color: transparent;\n",
              "      border-bottom-color: var(--fill-color);\n",
              "    }\n",
              "  }\n",
              "</style>\n",
              "\n",
              "  <script>\n",
              "    async function quickchart(key) {\n",
              "      const quickchartButtonEl =\n",
              "        document.querySelector('#' + key + ' button');\n",
              "      quickchartButtonEl.disabled = true;  // To prevent multiple clicks.\n",
              "      quickchartButtonEl.classList.add('colab-df-spinner');\n",
              "      try {\n",
              "        const charts = await google.colab.kernel.invokeFunction(\n",
              "            'suggestCharts', [key], {});\n",
              "      } catch (error) {\n",
              "        console.error('Error during call to suggestCharts:', error);\n",
              "      }\n",
              "      quickchartButtonEl.classList.remove('colab-df-spinner');\n",
              "      quickchartButtonEl.classList.add('colab-df-quickchart-complete');\n",
              "    }\n",
              "    (() => {\n",
              "      let quickchartButtonEl =\n",
              "        document.querySelector('#df-e540e3f1-98d7-4926-a42a-24044e3183cd button');\n",
              "      quickchartButtonEl.style.display =\n",
              "        google.colab.kernel.accessAllowed ? 'block' : 'none';\n",
              "    })();\n",
              "  </script>\n",
              "</div>\n",
              "\n",
              "    </div>\n",
              "  </div>\n"
            ],
            "application/vnd.google.colaboratory.intrinsic+json": {
              "type": "dataframe",
              "summary": "{\n  \"name\": \"numercal_columns\",\n  \"rows\": 19,\n  \"fields\": [\n    {\n      \"column\": \"is_canceled\",\n      \"properties\": {\n        \"dtype\": \"number\",\n        \"std\": 0.25804663142340245,\n        \"min\": -0.2579820769208603,\n        \"max\": 1.0,\n        \"num_unique_values\": 19,\n        \"samples\": [\n          1.0,\n          -0.02323965579528706,\n          0.11814568003112104\n        ],\n        \"semantic_type\": \"\",\n        \"description\": \"\"\n      }\n    },\n    {\n      \"column\": \"lead_time\",\n      \"properties\": {\n        \"dtype\": \"number\",\n        \"std\": 0.24844678493907885,\n        \"min\": -0.1231122232354853,\n        \"max\": 1.0,\n        \"num_unique_values\": 19,\n        \"samples\": [\n          0.2782542913502729,\n          0.04833566511336082,\n          0.10045084448013887\n        ],\n        \"semantic_type\": \"\",\n        \"description\": \"\"\n      }\n    },\n    {\n      \"column\": \"arrival_date_year\",\n      \"properties\": {\n        \"dtype\": \"number\",\n        \"std\": 0.2728971285531771,\n        \"min\": -0.530489500590973,\n        \"max\": 1.0,\n        \"num_unique_values\": 19,\n        \"samples\": [\n          0.0043145624646967135,\n          0.02073282551647052,\n          -0.1340771952374837\n        ],\n        \"semantic_type\": \"\",\n        \"description\": \"\"\n      }\n    },\n    {\n      \"column\": \"arrival_date_week_number\",\n      \"properties\": {\n        \"dtype\": \"number\",\n        \"std\": 0.26631864287018564,\n        \"min\": -0.530489500590973,\n        \"max\": 1.0,\n        \"num_unique_values\": 19,\n        \"samples\": [\n          0.004557112739844029,\n          0.010331610259289664,\n          0.04269040816834693\n        ],\n        \"semantic_type\": \"\",\n        \"description\": \"\"\n      }\n    },\n    {\n      \"column\": \"arrival_date_day_of_month\",\n      \"properties\": {\n        \"dtype\": \"number\",\n        \"std\": 0.22950384305966387,\n        \"min\": -0.031062511768750443,\n        \"max\": 1.0,\n        \"num_unique_values\": 19,\n        \"samples\": [\n          -0.005401948053003606,\n          -0.01650328426032498,\n          -0.02500478767788146\n        ],\n        \"semantic_type\": \"\",\n        \"description\": \"\"\n      }\n    },\n    {\n      \"column\": \"stays_in_weekend_nights\",\n      \"properties\": {\n        \"dtype\": \"number\",\n        \"std\": 0.24928912844295475,\n        \"min\": -0.06452146791729971,\n        \"max\": 1.0,\n        \"num_unique_values\": 19,\n        \"samples\": [\n          -0.02323965579528706,\n          1.0,\n          -0.0028315135949602147\n        ],\n        \"semantic_type\": \"\",\n        \"description\": \"\"\n      }\n    },\n    {\n      \"column\": \"stays_in_week_nights\",\n      \"properties\": {\n        \"dtype\": \"number\",\n        \"std\": 0.24744561009461583,\n        \"min\": -0.05740645670274304,\n        \"max\": 1.0,\n        \"num_unique_values\": 19,\n        \"samples\": [\n          0.004441779530748308,\n          0.4865288701988886,\n          -0.013370385341252363\n        ],\n        \"semantic_type\": \"\",\n        \"description\": \"\"\n      }\n    },\n    {\n      \"column\": \"adults\",\n      \"properties\": {\n        \"dtype\": \"number\",\n        \"std\": 0.23425062658633306,\n        \"min\": -0.07373587177586942,\n        \"max\": 1.0,\n        \"num_unique_values\": 19,\n        \"samples\": [\n          0.03787592342866457,\n          0.07158798864028779,\n          -0.0032355574554393234\n        ],\n        \"semantic_type\": \"\",\n        \"description\": \"\"\n      }\n    },\n    {\n      \"column\": \"children\",\n      \"properties\": {\n        \"dtype\": \"number\",\n        \"std\": 0.23584792551184275,\n        \"min\": -0.04963424429885492,\n        \"max\": 1.0,\n        \"num_unique_values\": 19,\n        \"samples\": [\n          0.005409186616823522,\n          0.04014665470870158,\n          -0.025078288600025676\n        ],\n        \"semantic_type\": \"\",\n        \"description\": \"\"\n      }\n    },\n    {\n      \"column\": \"babies\",\n      \"properties\": {\n        \"dtype\": \"number\",\n        \"std\": 0.22837449597491302,\n        \"min\": -0.031973513628025405,\n        \"max\": 1.0,\n        \"num_unique_values\": 19,\n        \"samples\": [\n          -0.031973513628025405,\n          0.020078493659230385,\n          -0.00714919416430889\n        ],\n        \"semantic_type\": \"\",\n        \"description\": \"\"\n      }\n    },\n    {\n      \"column\": \"is_repeated_guest\",\n      \"properties\": {\n        \"dtype\": \"number\",\n        \"std\": 0.2503601560023003,\n        \"min\": -0.09239631086720668,\n        \"max\": 1.0,\n        \"num_unique_values\": 19,\n        \"samples\": [\n          -0.029883087257592658,\n          -0.0569713621699606,\n          0.07324315705616152\n        ],\n        \"semantic_type\": \"\",\n        \"description\": \"\"\n      }\n    },\n    {\n      \"column\": \"previous_cancellations\",\n      \"properties\": {\n        \"dtype\": \"number\",\n        \"std\": 0.23742989238169693,\n        \"min\": -0.1340771952374837,\n        \"max\": 1.0,\n        \"num_unique_values\": 19,\n        \"samples\": [\n          0.11814568003112104,\n          -0.0028315135949602147,\n          1.0\n        ],\n        \"semantic_type\": \"\",\n        \"description\": \"\"\n      }\n    },\n    {\n      \"column\": \"previous_bookings_not_canceled\",\n      \"properties\": {\n        \"dtype\": \"number\",\n        \"std\": 0.2463180634382762,\n        \"min\": -0.05519090785189774,\n        \"max\": 1.0,\n        \"num_unique_values\": 19,\n        \"samples\": [\n          -0.04339100019335117,\n          -0.028608865648456747,\n          0.09351748423758628\n        ],\n        \"semantic_type\": \"\",\n        \"description\": \"\"\n      }\n    },\n    {\n      \"column\": \"booking_changes\",\n      \"properties\": {\n        \"dtype\": \"number\",\n        \"std\": 0.23109113481267674,\n        \"min\": -0.13167228228788835,\n        \"max\": 1.0,\n        \"num_unique_values\": 19,\n        \"samples\": [\n          -0.13167228228788835,\n          0.05491968712363072,\n          -0.02939385318475143\n        ],\n        \"semantic_type\": \"\",\n        \"description\": \"\"\n      }\n    },\n    {\n      \"column\": \"agent\",\n      \"properties\": {\n        \"dtype\": \"number\",\n        \"std\": 0.2357306308517199,\n        \"min\": -0.08311415905369723,\n        \"max\": 1.0,\n        \"num_unique_values\": 19,\n        \"samples\": [\n          -0.08311415905369723,\n          0.140739142695587,\n          -0.012488034970264192\n        ],\n        \"semantic_type\": \"\",\n        \"description\": \"\"\n      }\n    },\n    {\n      \"column\": \"days_in_waiting_list\",\n      \"properties\": {\n        \"dtype\": \"number\",\n        \"std\": 0.23856912852156345,\n        \"min\": -0.09262859939648375,\n        \"max\": 1.0,\n        \"num_unique_values\": 19,\n        \"samples\": [\n          0.05251867266809877,\n          -0.06452146791729971,\n          0.005440234590869518\n        ],\n        \"semantic_type\": \"\",\n        \"description\": \"\"\n      }\n    },\n    {\n      \"column\": \"adr\",\n      \"properties\": {\n        \"dtype\": \"number\",\n        \"std\": 0.2479194707138966,\n        \"min\": -0.11165384191863989,\n        \"max\": 1.0,\n        \"num_unique_values\": 19,\n        \"samples\": [\n          0.023622425356618768,\n          0.017025538043143208,\n          -0.07249870757191215\n        ],\n        \"semantic_type\": \"\",\n        \"description\": \"\"\n      }\n    },\n    {\n      \"column\": \"required_car_parking_spaces\",\n      \"properties\": {\n        \"dtype\": \"number\",\n        \"std\": 0.23939715058295274,\n        \"min\": -0.18853608319783846,\n        \"max\": 1.0,\n        \"num_unique_values\": 19,\n        \"samples\": [\n          -0.18853608319783846,\n          -0.01107706975012853,\n          -0.022154740047499854\n        ],\n        \"semantic_type\": \"\",\n        \"description\": \"\"\n      }\n    },\n    {\n      \"column\": \"total_of_special_requests\",\n      \"properties\": {\n        \"dtype\": \"number\",\n        \"std\": 0.24543557697135623,\n        \"min\": -0.2579820769208603,\n        \"max\": 1.0,\n        \"num_unique_values\": 19,\n        \"samples\": [\n          -0.2579820769208603,\n          0.056060913925218926,\n          -0.0612321089557674\n        ],\n        \"semantic_type\": \"\",\n        \"description\": \"\"\n      }\n    }\n  ]\n}"
            }
          },
          "metadata": {},
          "execution_count": 85
        }
      ]
    },
    {
      "cell_type": "code",
      "source": [
        "plt.figure(figsize=(15,10))\n",
        "sns.heatmap(numercal_columns.corr(),annot=True)"
      ],
      "metadata": {
        "id": "7avn-ZmPyDGW",
        "colab": {
          "base_uri": "https://localhost:8080/",
          "height": 1000
        },
        "outputId": "f07d04ea-b297-4657-812d-f70762d9cd43"
      },
      "execution_count": null,
      "outputs": [
        {
          "output_type": "execute_result",
          "data": {
            "text/plain": [
              "<Axes: >"
            ]
          },
          "metadata": {},
          "execution_count": 86
        },
        {
          "output_type": "display_data",
          "data": {
            "text/plain": [
              "<Figure size 1500x1000 with 2 Axes>"
            ],
            "image/png": "[encoded data removed]"
          },
          "metadata": {}
        }
      ]
    },
    {
      "cell_type": "markdown",
      "source": [
        "from this we can state that the some of the columns are strongly positive correlated and some of the negatively correlated"
      ],
      "metadata": {
        "id": "v_F62WRhy3Qq"
      }
    },
    {
      "cell_type": "code",
      "source": [
        "plt.bar(x=data['is_canceled'].values,height=data['is_canceled'].index)"
      ],
      "metadata": {
        "id": "ZFM2uSly0ObI",
        "colab": {
          "base_uri": "https://localhost:8080/",
          "height": 447
        },
        "outputId": "502dfc51-f64a-447d-fc5b-edb04d724abe"
      },
      "execution_count": null,
      "outputs": [
        {
          "output_type": "execute_result",
          "data": {
            "text/plain": [
              "<BarContainer object of 103050 artists>"
            ]
          },
          "metadata": {},
          "execution_count": 88
        },
        {
          "output_type": "display_data",
          "data": {
            "text/plain": [
              "<Figure size 640x480 with 1 Axes>"
            ],
            "image/png": "[encoded data removed]"
          },
          "metadata": {}
        }
      ]
    },
    {
      "cell_type": "code",
      "source": [
        "data['arrival_date_year'].value_counts()"
      ],
      "metadata": {
        "colab": {
          "base_uri": "https://localhost:8080/"
        },
        "id": "tRzOf1k91z02",
        "outputId": "3f3da0e6-be87-4107-d0f4-a21345058185"
      },
      "execution_count": null,
      "outputs": [
        {
          "output_type": "execute_result",
          "data": {
            "text/plain": [
              "arrival_date_year\n",
              "2016    49130\n",
              "2017    35023\n",
              "2015    18897\n",
              "Name: count, dtype: int64"
            ]
          },
          "metadata": {},
          "execution_count": 92
        }
      ]
    },
    {
      "cell_type": "code",
      "source": [
        "plt.bar(data['arrival_date_year'].value_counts().index,data['arrival_date_year'].value_counts())"
      ],
      "metadata": {
        "colab": {
          "base_uri": "https://localhost:8080/",
          "height": 447
        },
        "id": "qaAWMk8K4TXd",
        "outputId": "184ca5f6-753d-4e7d-d12b-1481b4cbebee"
      },
      "execution_count": null,
      "outputs": [
        {
          "output_type": "execute_result",
          "data": {
            "text/plain": [
              "<BarContainer object of 3 artists>"
            ]
          },
          "metadata": {},
          "execution_count": 94
        },
        {
          "output_type": "display_data",
          "data": {
            "text/plain": [
              "<Figure size 640x480 with 1 Axes>"
            ],
            "image/png": "[encoded data removed]"
          },
          "metadata": {}
        }
      ]
    },
    {
      "cell_type": "markdown",
      "source": [
        "from this we can state that the order comming from the 2016 is more than any other year"
      ],
      "metadata": {
        "id": "narjOvG84_CQ"
      }
    },
    {
      "cell_type": "code",
      "source": [
        "plt.bar(data['is_repeated_guest'].value_counts().index,data['is_repeated_guest'].value_counts())"
      ],
      "metadata": {
        "colab": {
          "base_uri": "https://localhost:8080/",
          "height": 447
        },
        "id": "WEEOwjre5j0f",
        "outputId": "67a5608f-30aa-434d-d88d-23c16faadee1"
      },
      "execution_count": null,
      "outputs": [
        {
          "output_type": "execute_result",
          "data": {
            "text/plain": [
              "<BarContainer object of 2 artists>"
            ]
          },
          "metadata": {},
          "execution_count": 99
        },
        {
          "output_type": "display_data",
          "data": {
            "text/plain": [
              "<Figure size 640x480 with 1 Axes>"
            ],
            "image/png": "[encoded data removed]"
          },
          "metadata": {}
        }
      ]
    },
    {
      "cell_type": "markdown",
      "source": [
        "from this we can conclude that the almost 95% of the new customer comming to hotel is new and not old customers so according that we to chage our bussiness strategies"
      ],
      "metadata": {
        "id": "3gv5ZKwa6OQc"
      }
    },
    {
      "cell_type": "code",
      "source": [
        "data['meal'].unique()"
      ],
      "metadata": {
        "colab": {
          "base_uri": "https://localhost:8080/"
        },
        "id": "y5Tw1chl6IT0",
        "outputId": "1a87d025-3154-433d-8452-ed0e1d1ed484"
      },
      "execution_count": null,
      "outputs": [
        {
          "output_type": "execute_result",
          "data": {
            "text/plain": [
              "array(['BB', 'FB', 'HB', 'SC', 'Undefined'], dtype=object)"
            ]
          },
          "metadata": {},
          "execution_count": 100
        }
      ]
    },
    {
      "cell_type": "code",
      "source": [
        "plt.bar(data['meal'].value_counts().index,data['meal'].value_counts())"
      ],
      "metadata": {
        "colab": {
          "base_uri": "https://localhost:8080/",
          "height": 447
        },
        "id": "kc91CzP87Kz7",
        "outputId": "366bbc5e-b7b5-495e-d1fd-cd698d5f1a11"
      },
      "execution_count": null,
      "outputs": [
        {
          "output_type": "execute_result",
          "data": {
            "text/plain": [
              "<BarContainer object of 5 artists>"
            ]
          },
          "metadata": {},
          "execution_count": 101
        },
        {
          "output_type": "display_data",
          "data": {
            "text/plain": [
              "<Figure size 640x480 with 1 Axes>"
            ],
            "image/png": "[encoded data removed]"
          },
          "metadata": {}
        }
      ]
    },
    {
      "cell_type": "markdown",
      "source": [
        "**from this we can state that BB is most famous meal where FB is least famous meal**"
      ],
      "metadata": {
        "id": "0zb3Dnx07UqT"
      }
    },
    {
      "cell_type": "code",
      "source": [
        "plt.pie(data['customer_type'].value_counts(),labels=data['customer_type'].value_counts().index,autopct='%1.1f%%')"
      ],
      "metadata": {
        "colab": {
          "base_uri": "https://localhost:8080/",
          "height": 614
        },
        "id": "AablMqwE7Scc",
        "outputId": "8228d692-454c-4636-bd0c-28e7c819d835"
      },
      "execution_count": null,
      "outputs": [
        {
          "output_type": "execute_result",
          "data": {
            "text/plain": [
              "([<matplotlib.patches.Wedge at 0x7fcc1c046bc0>,\n",
              "  <matplotlib.patches.Wedge at 0x7fcc1c046aa0>,\n",
              "  <matplotlib.patches.Wedge at 0x7fcc1c190310>,\n",
              "  <matplotlib.patches.Wedge at 0x7fcc1c1909a0>],\n",
              " [Text(-0.7918326363853393, 0.7635450713317735, 'Transient'),\n",
              "  Text(0.6788911481754875, -0.865509566052836, 'Transient-Party'),\n",
              "  Text(1.0871485037699717, -0.1676547963844521, 'Contract'),\n",
              "  Text(1.09988320670739, -0.01602908615824815, 'Group')],\n",
              " [Text(-0.4319087107556396, 0.416479129817331, '75.6%'),\n",
              "  Text(0.37030426264117494, -0.4720961269379105, '20.0%'),\n",
              "  Text(0.592990092965439, -0.0914480707551557, '3.9%'),\n",
              "  Text(0.5999362945676673, -0.00874313790449899, '0.5%')])"
            ]
          },
          "metadata": {},
          "execution_count": 105
        },
        {
          "output_type": "display_data",
          "data": {
            "text/plain": [
              "<Figure size 640x480 with 1 Axes>"
            ],
            "image/png": "[encoded data removed]"
          },
          "metadata": {}
        }
      ]
    },
    {
      "cell_type": "markdown",
      "source": [
        "from this we can say that the Transient are 75% of them"
      ],
      "metadata": {
        "id": "FJEGwOOq8BnQ"
      }
    },
    {
      "cell_type": "code",
      "source": [
        "len(data['agent'].value_counts())"
      ],
      "metadata": {
        "colab": {
          "base_uri": "https://localhost:8080/"
        },
        "id": "3x0PtiPT7sK4",
        "outputId": "3346b253-fd3e-4553-f22e-0f8c4b3880e2"
      },
      "execution_count": null,
      "outputs": [
        {
          "output_type": "execute_result",
          "data": {
            "text/plain": [
              "333"
            ]
          },
          "metadata": {},
          "execution_count": 107
        }
      ]
    },
    {
      "cell_type": "code",
      "source": [
        "plt.figure(figsize=(15,10))\n",
        "plt.pie(data['distribution_channel'].value_counts(),labels=data['distribution_channel'].value_counts().index,autopct='%1.1f%%')"
      ],
      "metadata": {
        "colab": {
          "base_uri": "https://localhost:8080/",
          "height": 1000
        },
        "id": "lFTt7p3m9H8w",
        "outputId": "552d034c-3045-47be-b642-311cc6400679"
      },
      "execution_count": null,
      "outputs": [
        {
          "output_type": "execute_result",
          "data": {
            "text/plain": [
              "([<matplotlib.patches.Wedge at 0x7fcc1b2d4880>,\n",
              "  <matplotlib.patches.Wedge at 0x7fcc1b2d4760>,\n",
              "  <matplotlib.patches.Wedge at 0x7fcc1b2d5420>,\n",
              "  <matplotlib.patches.Wedge at 0x7fcc1b2d5ab0>,\n",
              "  <matplotlib.patches.Wedge at 0x7fcc1b2d6140>],\n",
              " [Text(-1.0645772508897193, 0.2769030098935145, 'TA/TO'),\n",
              "  Text(1.052507167022641, -0.3197321744303739, 'Direct'),\n",
              "  Text(1.0988192070339013, -0.050954393857530776, 'Corporate'),\n",
              "  Text(1.0999805635202475, -0.006539103736674494, 'GDS'),\n",
              "  Text(1.099999997963006, -6.694316269591279e-05, 'Undefined')],\n",
              " [Text(-0.5806785004853013, 0.15103800539646245, '91.9%'),\n",
              "  Text(0.5740948183759859, -0.17439936787111301, '6.8%'),\n",
              "  Text(0.5993559311094007, -0.02779330574047133, '1.1%'),\n",
              "  Text(0.5999893982837713, -0.003566783856367905, '0.2%'),\n",
              "  Text(0.5999999988889123, -3.651445237958879e-05, '0.0%')])"
            ]
          },
          "metadata": {},
          "execution_count": 112
        },
        {
          "output_type": "display_data",
          "data": {
            "text/plain": [
              "<Figure size 1500x1000 with 1 Axes>"
            ],
            "image/png": "[encoded data removed]"
          },
          "metadata": {}
        }
      ]
    },
    {
      "cell_type": "markdown",
      "source": [
        "almost 90% of the cutsomer are having booking as TA/TO"
      ],
      "metadata": {
        "id": "mmy1Ki8y9uJ1"
      }
    },
    {
      "cell_type": "code",
      "source": [
        "plt.figure(figsize=(15,10))\n",
        "plt.bar(data['arrival_date_month'].value_counts().index,data['arrival_date_month'].value_counts())\n",
        "plt.xticks(rotation=90)\n",
        "plt.xlabel('month')\n",
        "plt.ylabel('count')\n",
        "plt.title('month wise count of customers')"
      ],
      "metadata": {
        "colab": {
          "base_uri": "https://localhost:8080/",
          "height": 952
        },
        "id": "cqEQUPkw9tVi",
        "outputId": "359b9e4e-7f82-439a-bf8d-3125e4301d36"
      },
      "execution_count": null,
      "outputs": [
        {
          "output_type": "execute_result",
          "data": {
            "text/plain": [
              "Text(0.5, 1.0, 'month wise count of customers')"
            ]
          },
          "metadata": {},
          "execution_count": 114
        },
        {
          "output_type": "display_data",
          "data": {
            "text/plain": [
              "<Figure size 1500x1000 with 1 Axes>"
            ],
            "image/png": "[encoded data removed]"
          },
          "metadata": {}
        }
      ]
    },
    {
      "cell_type": "markdown",
      "source": [
        "from this we can state that the customers are comming more at the august,july,may  where to much less customers at the start of the year"
      ],
      "metadata": {
        "id": "PqFLE3m__yPU"
      }
    },
    {
      "cell_type": "code",
      "source": [
        "plt.pie(data['required_car_parking_spaces'].value_counts(),labels=data['required_car_parking_spaces'].value_counts().index,autopct='%1.1f%%')"
      ],
      "metadata": {
        "colab": {
          "base_uri": "https://localhost:8080/",
          "height": 614
        },
        "id": "-x5dcPKf9dAY",
        "outputId": "0c014b4b-700c-46cd-fce1-dfe31a41f478"
      },
      "execution_count": null,
      "outputs": [
        {
          "output_type": "execute_result",
          "data": {
            "text/plain": [
              "([<matplotlib.patches.Wedge at 0x7fcc9a7a00a0>,\n",
              "  <matplotlib.patches.Wedge at 0x7fcc9a7a3940>,\n",
              "  <matplotlib.patches.Wedge at 0x7fcc9a7a1930>,\n",
              "  <matplotlib.patches.Wedge at 0x7fcc9a7a2d40>],\n",
              " [Text(-1.0848074364795282, 0.1821889836370866, '0'),\n",
              "  Text(1.0846794285121903, -0.18294954868069144, '1'),\n",
              "  Text(1.0999996545056472, -0.0008718299473734089, '2'),\n",
              "  Text(1.099999995406079, -0.00010053171655245107, '3')],\n",
              " [Text(-0.5917131471706516, 0.09937580925659269, '94.7%'),\n",
              "  Text(0.5916433246430128, -0.09979066291674077, '5.3%'),\n",
              "  Text(0.5999998115485348, -0.00047554360765822293, '0.0%'),\n",
              "  Text(0.599999997494225, -5.48354817558824e-05, '0.0%')])"
            ]
          },
          "metadata": {},
          "execution_count": 115
        },
        {
          "output_type": "display_data",
          "data": {
            "text/plain": [
              "<Figure size 640x480 with 1 Axes>"
            ],
            "image/png": "[encoded data removed]"
          },
          "metadata": {}
        }
      ]
    },
    {
      "cell_type": "markdown",
      "source": [
        "from this we can state that around the 95 % don't go for the parking only 5% customers go for parking from this we can change and take bussiness decisions"
      ],
      "metadata": {
        "id": "CjuVN-OUAm4Z"
      }
    },
    {
      "cell_type": "code",
      "source": [
        "weekend=data['stays_in_weekend_nights'].sum()\n",
        "weekday=data['stays_in_week_nights'].sum()"
      ],
      "metadata": {
        "id": "JCIeLErBAi_H"
      },
      "execution_count": null,
      "outputs": []
    },
    {
      "cell_type": "code",
      "source": [
        "day_df=pd.DataFrame({'weekend':[weekend],'weekday':[weekday]})\n",
        "day_df"
      ],
      "metadata": {
        "colab": {
          "base_uri": "https://localhost:8080/",
          "height": 89
        },
        "id": "TNYxTtSBBn-D",
        "outputId": "775fa209-ff8f-4780-cef0-e5997efc4b72"
      },
      "execution_count": null,
      "outputs": [
        {
          "output_type": "execute_result",
          "data": {
            "text/plain": [
              "   weekend  weekday\n",
              "0   100770   266833"
            ],
            "text/html": [
              "\n",
              "  <div id=\"df-aaddb3fc-e69e-47b6-a308-f08ebc166f2c\" class=\"colab-df-container\">\n",
              "    <div>\n",
              "<style scoped>\n",
              "    .dataframe tbody tr th:only-of-type {\n",
              "        vertical-align: middle;\n",
              "    }\n",
              "\n",
              "    .dataframe tbody tr th {\n",
              "        vertical-align: top;\n",
              "    }\n",
              "\n",
              "    .dataframe thead th {\n",
              "        text-align: right;\n",
              "    }\n",
              "</style>\n",
              "<table border=\"1\" class=\"dataframe\">\n",
              "  <thead>\n",
              "    <tr style=\"text-align: right;\">\n",
              "      <th></th>\n",
              "      <th>weekend</th>\n",
              "      <th>weekday</th>\n",
              "    </tr>\n",
              "  </thead>\n",
              "  <tbody>\n",
              "    <tr>\n",
              "      <th>0</th>\n",
              "      <td>100770</td>\n",
              "      <td>266833</td>\n",
              "    </tr>\n",
              "  </tbody>\n",
              "</table>\n",
              "</div>\n",
              "    <div class=\"colab-df-buttons\">\n",
              "\n",
              "  <div class=\"colab-df-container\">\n",
              "    <button class=\"colab-df-convert\" onclick=\"convertToInteractive('df-aaddb3fc-e69e-47b6-a308-f08ebc166f2c')\"\n",
              "            title=\"Convert this dataframe to an interactive table.\"\n",
              "            style=\"display:none;\">\n",
              "\n",
              "  <svg xmlns=\"http://www.w3.org/2000/svg\" height=\"24px\" viewBox=\"0 -960 960 960\">\n",
              "    <path d=\"M120-120v-720h720v720H120Zm60-500h600v-160H180v160Zm220 220h160v-160H400v160Zm0 220h160v-160H400v160ZM180-400h160v-160H180v160Zm440 0h160v-160H620v160ZM180-180h160v-160H180v160Zm440 0h160v-160H620v160Z\"/>\n",
              "  </svg>\n",
              "    </button>\n",
              "\n",
              "  <style>\n",
              "    .colab-df-container {\n",
              "      display:flex;\n",
              "      gap: 12px;\n",
              "    }\n",
              "\n",
              "    .colab-df-convert {\n",
              "      background-color: #E8F0FE;\n",
              "      border: none;\n",
              "      border-radius: 50%;\n",
              "      cursor: pointer;\n",
              "      display: none;\n",
              "      fill: #1967D2;\n",
              "      height: 32px;\n",
              "      padding: 0 0 0 0;\n",
              "      width: 32px;\n",
              "    }\n",
              "\n",
              "    .colab-df-convert:hover {\n",
              "      background-color: #E2EBFA;\n",
              "      box-shadow: 0px 1px 2px rgba(60, 64, 67, 0.3), 0px 1px 3px 1px rgba(60, 64, 67, 0.15);\n",
              "      fill: #174EA6;\n",
              "    }\n",
              "\n",
              "    .colab-df-buttons div {\n",
              "      margin-bottom: 4px;\n",
              "    }\n",
              "\n",
              "    [theme=dark] .colab-df-convert {\n",
              "      background-color: #3B4455;\n",
              "      fill: #D2E3FC;\n",
              "    }\n",
              "\n",
              "    [theme=dark] .colab-df-convert:hover {\n",
              "      background-color: #434B5C;\n",
              "      box-shadow: 0px 1px 3px 1px rgba(0, 0, 0, 0.15);\n",
              "      filter: drop-shadow(0px 1px 2px rgba(0, 0, 0, 0.3));\n",
              "      fill: #FFFFFF;\n",
              "    }\n",
              "  </style>\n",
              "\n",
              "    <script>\n",
              "      const buttonEl =\n",
              "        document.querySelector('#df-aaddb3fc-e69e-47b6-a308-f08ebc166f2c button.colab-df-convert');\n",
              "      buttonEl.style.display =\n",
              "        google.colab.kernel.accessAllowed ? 'block' : 'none';\n",
              "\n",
              "      async function convertToInteractive(key) {\n",
              "        const element = document.querySelector('#df-aaddb3fc-e69e-47b6-a308-f08ebc166f2c');\n",
              "        const dataTable =\n",
              "          await google.colab.kernel.invokeFunction('convertToInteractive',\n",
              "                                                    [key], {});\n",
              "        if (!dataTable) return;\n",
              "\n",
              "        const docLinkHtml = 'Like what you see? Visit the ' +\n",
              "          '<a target=\"_blank\" href=https://colab.research.google.com/notebooks/data_table.ipynb>data table notebook</a>'\n",
              "          + ' to learn more about interactive tables.';\n",
              "        element.innerHTML = '';\n",
              "        dataTable['output_type'] = 'display_data';\n",
              "        await google.colab.output.renderOutput(dataTable, element);\n",
              "        const docLink = document.createElement('div');\n",
              "        docLink.innerHTML = docLinkHtml;\n",
              "        element.appendChild(docLink);\n",
              "      }\n",
              "    </script>\n",
              "  </div>\n",
              "\n",
              "\n",
              "  <div id=\"id_40a027c2-7c9e-4296-9f3c-af2133c4a648\">\n",
              "    <style>\n",
              "      .colab-df-generate {\n",
              "        background-color: #E8F0FE;\n",
              "        border: none;\n",
              "        border-radius: 50%;\n",
              "        cursor: pointer;\n",
              "        display: none;\n",
              "        fill: #1967D2;\n",
              "        height: 32px;\n",
              "        padding: 0 0 0 0;\n",
              "        width: 32px;\n",
              "      }\n",
              "\n",
              "      .colab-df-generate:hover {\n",
              "        background-color: #E2EBFA;\n",
              "        box-shadow: 0px 1px 2px rgba(60, 64, 67, 0.3), 0px 1px 3px 1px rgba(60, 64, 67, 0.15);\n",
              "        fill: #174EA6;\n",
              "      }\n",
              "\n",
              "      [theme=dark] .colab-df-generate {\n",
              "        background-color: #3B4455;\n",
              "        fill: #D2E3FC;\n",
              "      }\n",
              "\n",
              "      [theme=dark] .colab-df-generate:hover {\n",
              "        background-color: #434B5C;\n",
              "        box-shadow: 0px 1px 3px 1px rgba(0, 0, 0, 0.15);\n",
              "        filter: drop-shadow(0px 1px 2px rgba(0, 0, 0, 0.3));\n",
              "        fill: #FFFFFF;\n",
              "      }\n",
              "    </style>\n",
              "    <button class=\"colab-df-generate\" onclick=\"generateWithVariable('day_df')\"\n",
              "            title=\"Generate code using this dataframe.\"\n",
              "            style=\"display:none;\">\n",
              "\n",
              "  <svg xmlns=\"http://www.w3.org/2000/svg\" height=\"24px\"viewBox=\"0 0 24 24\"\n",
              "       width=\"24px\">\n",
              "    <path d=\"M7,19H8.4L18.45,9,17,7.55,7,17.6ZM5,21V16.75L18.45,3.32a2,2,0,0,1,2.83,0l1.4,1.43a1.91,1.91,0,0,1,.58,1.4,1.91,1.91,0,0,1-.58,1.4L9.25,21ZM18.45,9,17,7.55Zm-12,3A5.31,5.31,0,0,0,4.9,8.1,5.31,5.31,0,0,0,1,6.5,5.31,5.31,0,0,0,4.9,4.9,5.31,5.31,0,0,0,6.5,1,5.31,5.31,0,0,0,8.1,4.9,5.31,5.31,0,0,0,12,6.5,5.46,5.46,0,0,0,6.5,12Z\"/>\n",
              "  </svg>\n",
              "    </button>\n",
              "    <script>\n",
              "      (() => {\n",
              "      const buttonEl =\n",
              "        document.querySelector('#id_40a027c2-7c9e-4296-9f3c-af2133c4a648 button.colab-df-generate');\n",
              "      buttonEl.style.display =\n",
              "        google.colab.kernel.accessAllowed ? 'block' : 'none';\n",
              "\n",
              "      buttonEl.onclick = () => {\n",
              "        google.colab.notebook.generateWithVariable('day_df');\n",
              "      }\n",
              "      })();\n",
              "    </script>\n",
              "  </div>\n",
              "\n",
              "    </div>\n",
              "  </div>\n"
            ],
            "application/vnd.google.colaboratory.intrinsic+json": {
              "type": "dataframe",
              "variable_name": "day_df",
              "summary": "{\n  \"name\": \"day_df\",\n  \"rows\": 1,\n  \"fields\": [\n    {\n      \"column\": \"weekend\",\n      \"properties\": {\n        \"dtype\": \"number\",\n        \"std\": null,\n        \"min\": 100770,\n        \"max\": 100770,\n        \"num_unique_values\": 1,\n        \"samples\": [\n          100770\n        ],\n        \"semantic_type\": \"\",\n        \"description\": \"\"\n      }\n    },\n    {\n      \"column\": \"weekday\",\n      \"properties\": {\n        \"dtype\": \"number\",\n        \"std\": null,\n        \"min\": 266833,\n        \"max\": 266833,\n        \"num_unique_values\": 1,\n        \"samples\": [\n          266833\n        ],\n        \"semantic_type\": \"\",\n        \"description\": \"\"\n      }\n    }\n  ]\n}"
            }
          },
          "metadata": {},
          "execution_count": 119
        }
      ]
    },
    {
      "cell_type": "code",
      "source": [
        "day_df_transposed=day_df.transpose()\n",
        "day_df_transposed"
      ],
      "metadata": {
        "colab": {
          "base_uri": "https://localhost:8080/",
          "height": 125
        },
        "id": "k4sHXSS6COKA",
        "outputId": "9be006d9-31cd-4461-cb30-e5e0849922ac"
      },
      "execution_count": null,
      "outputs": [
        {
          "output_type": "execute_result",
          "data": {
            "text/plain": [
              "              0\n",
              "weekend  100770\n",
              "weekday  266833"
            ],
            "text/html": [
              "\n",
              "  <div id=\"df-c97fdd72-d88e-4934-9cda-d5cb19afb84f\" class=\"colab-df-container\">\n",
              "    <div>\n",
              "<style scoped>\n",
              "    .dataframe tbody tr th:only-of-type {\n",
              "        vertical-align: middle;\n",
              "    }\n",
              "\n",
              "    .dataframe tbody tr th {\n",
              "        vertical-align: top;\n",
              "    }\n",
              "\n",
              "    .dataframe thead th {\n",
              "        text-align: right;\n",
              "    }\n",
              "</style>\n",
              "<table border=\"1\" class=\"dataframe\">\n",
              "  <thead>\n",
              "    <tr style=\"text-align: right;\">\n",
              "      <th></th>\n",
              "      <th>0</th>\n",
              "    </tr>\n",
              "  </thead>\n",
              "  <tbody>\n",
              "    <tr>\n",
              "      <th>weekend</th>\n",
              "      <td>100770</td>\n",
              "    </tr>\n",
              "    <tr>\n",
              "      <th>weekday</th>\n",
              "      <td>266833</td>\n",
              "    </tr>\n",
              "  </tbody>\n",
              "</table>\n",
              "</div>\n",
              "    <div class=\"colab-df-buttons\">\n",
              "\n",
              "  <div class=\"colab-df-container\">\n",
              "    <button class=\"colab-df-convert\" onclick=\"convertToInteractive('df-c97fdd72-d88e-4934-9cda-d5cb19afb84f')\"\n",
              "            title=\"Convert this dataframe to an interactive table.\"\n",
              "            style=\"display:none;\">\n",
              "\n",
              "  <svg xmlns=\"http://www.w3.org/2000/svg\" height=\"24px\" viewBox=\"0 -960 960 960\">\n",
              "    <path d=\"M120-120v-720h720v720H120Zm60-500h600v-160H180v160Zm220 220h160v-160H400v160Zm0 220h160v-160H400v160ZM180-400h160v-160H180v160Zm440 0h160v-160H620v160ZM180-180h160v-160H180v160Zm440 0h160v-160H620v160Z\"/>\n",
              "  </svg>\n",
              "    </button>\n",
              "\n",
              "  <style>\n",
              "    .colab-df-container {\n",
              "      display:flex;\n",
              "      gap: 12px;\n",
              "    }\n",
              "\n",
              "    .colab-df-convert {\n",
              "      background-color: #E8F0FE;\n",
              "      border: none;\n",
              "      border-radius: 50%;\n",
              "      cursor: pointer;\n",
              "      display: none;\n",
              "      fill: #1967D2;\n",
              "      height: 32px;\n",
              "      padding: 0 0 0 0;\n",
              "      width: 32px;\n",
              "    }\n",
              "\n",
              "    .colab-df-convert:hover {\n",
              "      background-color: #E2EBFA;\n",
              "      box-shadow: 0px 1px 2px rgba(60, 64, 67, 0.3), 0px 1px 3px 1px rgba(60, 64, 67, 0.15);\n",
              "      fill: #174EA6;\n",
              "    }\n",
              "\n",
              "    .colab-df-buttons div {\n",
              "      margin-bottom: 4px;\n",
              "    }\n",
              "\n",
              "    [theme=dark] .colab-df-convert {\n",
              "      background-color: #3B4455;\n",
              "      fill: #D2E3FC;\n",
              "    }\n",
              "\n",
              "    [theme=dark] .colab-df-convert:hover {\n",
              "      background-color: #434B5C;\n",
              "      box-shadow: 0px 1px 3px 1px rgba(0, 0, 0, 0.15);\n",
              "      filter: drop-shadow(0px 1px 2px rgba(0, 0, 0, 0.3));\n",
              "      fill: #FFFFFF;\n",
              "    }\n",
              "  </style>\n",
              "\n",
              "    <script>\n",
              "      const buttonEl =\n",
              "        document.querySelector('#df-c97fdd72-d88e-4934-9cda-d5cb19afb84f button.colab-df-convert');\n",
              "      buttonEl.style.display =\n",
              "        google.colab.kernel.accessAllowed ? 'block' : 'none';\n",
              "\n",
              "      async function convertToInteractive(key) {\n",
              "        const element = document.querySelector('#df-c97fdd72-d88e-4934-9cda-d5cb19afb84f');\n",
              "        const dataTable =\n",
              "          await google.colab.kernel.invokeFunction('convertToInteractive',\n",
              "                                                    [key], {});\n",
              "        if (!dataTable) return;\n",
              "\n",
              "        const docLinkHtml = 'Like what you see? Visit the ' +\n",
              "          '<a target=\"_blank\" href=https://colab.research.google.com/notebooks/data_table.ipynb>data table notebook</a>'\n",
              "          + ' to learn more about interactive tables.';\n",
              "        element.innerHTML = '';\n",
              "        dataTable['output_type'] = 'display_data';\n",
              "        await google.colab.output.renderOutput(dataTable, element);\n",
              "        const docLink = document.createElement('div');\n",
              "        docLink.innerHTML = docLinkHtml;\n",
              "        element.appendChild(docLink);\n",
              "      }\n",
              "    </script>\n",
              "  </div>\n",
              "\n",
              "\n",
              "<div id=\"df-f3e4b848-e1d0-4b4e-b471-1ee0f63d3652\">\n",
              "  <button class=\"colab-df-quickchart\" onclick=\"quickchart('df-f3e4b848-e1d0-4b4e-b471-1ee0f63d3652')\"\n",
              "            title=\"Suggest charts\"\n",
              "            style=\"display:none;\">\n",
              "\n",
              "<svg xmlns=\"http://www.w3.org/2000/svg\" height=\"24px\"viewBox=\"0 0 24 24\"\n",
              "     width=\"24px\">\n",
              "    <g>\n",
              "        <path d=\"M19 3H5c-1.1 0-2 .9-2 2v14c0 1.1.9 2 2 2h14c1.1 0 2-.9 2-2V5c0-1.1-.9-2-2-2zM9 17H7v-7h2v7zm4 0h-2V7h2v10zm4 0h-2v-4h2v4z\"/>\n",
              "    </g>\n",
              "</svg>\n",
              "  </button>\n",
              "\n",
              "<style>\n",
              "  .colab-df-quickchart {\n",
              "      --bg-color: #E8F0FE;\n",
              "      --fill-color: #1967D2;\n",
              "      --hover-bg-color: #E2EBFA;\n",
              "      --hover-fill-color: #174EA6;\n",
              "      --disabled-fill-color: #AAA;\n",
              "      --disabled-bg-color: #DDD;\n",
              "  }\n",
              "\n",
              "  [theme=dark] .colab-df-quickchart {\n",
              "      --bg-color: #3B4455;\n",
              "      --fill-color: #D2E3FC;\n",
              "      --hover-bg-color: #434B5C;\n",
              "      --hover-fill-color: #FFFFFF;\n",
              "      --disabled-bg-color: #3B4455;\n",
              "      --disabled-fill-color: #666;\n",
              "  }\n",
              "\n",
              "  .colab-df-quickchart {\n",
              "    background-color: var(--bg-color);\n",
              "    border: none;\n",
              "    border-radius: 50%;\n",
              "    cursor: pointer;\n",
              "    display: none;\n",
              "    fill: var(--fill-color);\n",
              "    height: 32px;\n",
              "    padding: 0;\n",
              "    width: 32px;\n",
              "  }\n",
              "\n",
              "  .colab-df-quickchart:hover {\n",
              "    background-color: var(--hover-bg-color);\n",
              "    box-shadow: 0 1px 2px rgba(60, 64, 67, 0.3), 0 1px 3px 1px rgba(60, 64, 67, 0.15);\n",
              "    fill: var(--button-hover-fill-color);\n",
              "  }\n",
              "\n",
              "  .colab-df-quickchart-complete:disabled,\n",
              "  .colab-df-quickchart-complete:disabled:hover {\n",
              "    background-color: var(--disabled-bg-color);\n",
              "    fill: var(--disabled-fill-color);\n",
              "    box-shadow: none;\n",
              "  }\n",
              "\n",
              "  .colab-df-spinner {\n",
              "    border: 2px solid var(--fill-color);\n",
              "    border-color: transparent;\n",
              "    border-bottom-color: var(--fill-color);\n",
              "    animation:\n",
              "      spin 1s steps(1) infinite;\n",
              "  }\n",
              "\n",
              "  @keyframes spin {\n",
              "    0% {\n",
              "      border-color: transparent;\n",
              "      border-bottom-color: var(--fill-color);\n",
              "      border-left-color: var(--fill-color);\n",
              "    }\n",
              "    20% {\n",
              "      border-color: transparent;\n",
              "      border-left-color: var(--fill-color);\n",
              "      border-top-color: var(--fill-color);\n",
              "    }\n",
              "    30% {\n",
              "      border-color: transparent;\n",
              "      border-left-color: var(--fill-color);\n",
              "      border-top-color: var(--fill-color);\n",
              "      border-right-color: var(--fill-color);\n",
              "    }\n",
              "    40% {\n",
              "      border-color: transparent;\n",
              "      border-right-color: var(--fill-color);\n",
              "      border-top-color: var(--fill-color);\n",
              "    }\n",
              "    60% {\n",
              "      border-color: transparent;\n",
              "      border-right-color: var(--fill-color);\n",
              "    }\n",
              "    80% {\n",
              "      border-color: transparent;\n",
              "      border-right-color: var(--fill-color);\n",
              "      border-bottom-color: var(--fill-color);\n",
              "    }\n",
              "    90% {\n",
              "      border-color: transparent;\n",
              "      border-bottom-color: var(--fill-color);\n",
              "    }\n",
              "  }\n",
              "</style>\n",
              "\n",
              "  <script>\n",
              "    async function quickchart(key) {\n",
              "      const quickchartButtonEl =\n",
              "        document.querySelector('#' + key + ' button');\n",
              "      quickchartButtonEl.disabled = true;  // To prevent multiple clicks.\n",
              "      quickchartButtonEl.classList.add('colab-df-spinner');\n",
              "      try {\n",
              "        const charts = await google.colab.kernel.invokeFunction(\n",
              "            'suggestCharts', [key], {});\n",
              "      } catch (error) {\n",
              "        console.error('Error during call to suggestCharts:', error);\n",
              "      }\n",
              "      quickchartButtonEl.classList.remove('colab-df-spinner');\n",
              "      quickchartButtonEl.classList.add('colab-df-quickchart-complete');\n",
              "    }\n",
              "    (() => {\n",
              "      let quickchartButtonEl =\n",
              "        document.querySelector('#df-f3e4b848-e1d0-4b4e-b471-1ee0f63d3652 button');\n",
              "      quickchartButtonEl.style.display =\n",
              "        google.colab.kernel.accessAllowed ? 'block' : 'none';\n",
              "    })();\n",
              "  </script>\n",
              "</div>\n",
              "\n",
              "  <div id=\"id_1a263c0e-8b4d-476b-9af3-cf1de4cf1023\">\n",
              "    <style>\n",
              "      .colab-df-generate {\n",
              "        background-color: #E8F0FE;\n",
              "        border: none;\n",
              "        border-radius: 50%;\n",
              "        cursor: pointer;\n",
              "        display: none;\n",
              "        fill: #1967D2;\n",
              "        height: 32px;\n",
              "        padding: 0 0 0 0;\n",
              "        width: 32px;\n",
              "      }\n",
              "\n",
              "      .colab-df-generate:hover {\n",
              "        background-color: #E2EBFA;\n",
              "        box-shadow: 0px 1px 2px rgba(60, 64, 67, 0.3), 0px 1px 3px 1px rgba(60, 64, 67, 0.15);\n",
              "        fill: #174EA6;\n",
              "      }\n",
              "\n",
              "      [theme=dark] .colab-df-generate {\n",
              "        background-color: #3B4455;\n",
              "        fill: #D2E3FC;\n",
              "      }\n",
              "\n",
              "      [theme=dark] .colab-df-generate:hover {\n",
              "        background-color: #434B5C;\n",
              "        box-shadow: 0px 1px 3px 1px rgba(0, 0, 0, 0.15);\n",
              "        filter: drop-shadow(0px 1px 2px rgba(0, 0, 0, 0.3));\n",
              "        fill: #FFFFFF;\n",
              "      }\n",
              "    </style>\n",
              "    <button class=\"colab-df-generate\" onclick=\"generateWithVariable('day_df_transposed')\"\n",
              "            title=\"Generate code using this dataframe.\"\n",
              "            style=\"display:none;\">\n",
              "\n",
              "  <svg xmlns=\"http://www.w3.org/2000/svg\" height=\"24px\"viewBox=\"0 0 24 24\"\n",
              "       width=\"24px\">\n",
              "    <path d=\"M7,19H8.4L18.45,9,17,7.55,7,17.6ZM5,21V16.75L18.45,3.32a2,2,0,0,1,2.83,0l1.4,1.43a1.91,1.91,0,0,1,.58,1.4,1.91,1.91,0,0,1-.58,1.4L9.25,21ZM18.45,9,17,7.55Zm-12,3A5.31,5.31,0,0,0,4.9,8.1,5.31,5.31,0,0,0,1,6.5,5.31,5.31,0,0,0,4.9,4.9,5.31,5.31,0,0,0,6.5,1,5.31,5.31,0,0,0,8.1,4.9,5.31,5.31,0,0,0,12,6.5,5.46,5.46,0,0,0,6.5,12Z\"/>\n",
              "  </svg>\n",
              "    </button>\n",
              "    <script>\n",
              "      (() => {\n",
              "      const buttonEl =\n",
              "        document.querySelector('#id_1a263c0e-8b4d-476b-9af3-cf1de4cf1023 button.colab-df-generate');\n",
              "      buttonEl.style.display =\n",
              "        google.colab.kernel.accessAllowed ? 'block' : 'none';\n",
              "\n",
              "      buttonEl.onclick = () => {\n",
              "        google.colab.notebook.generateWithVariable('day_df_transposed');\n",
              "      }\n",
              "      })();\n",
              "    </script>\n",
              "  </div>\n",
              "\n",
              "    </div>\n",
              "  </div>\n"
            ],
            "application/vnd.google.colaboratory.intrinsic+json": {
              "type": "dataframe",
              "variable_name": "day_df_transposed",
              "summary": "{\n  \"name\": \"day_df_transposed\",\n  \"rows\": 2,\n  \"fields\": [\n    {\n      \"column\": 0,\n      \"properties\": {\n        \"dtype\": \"number\",\n        \"std\": 117424,\n        \"min\": 100770,\n        \"max\": 266833,\n        \"num_unique_values\": 2,\n        \"samples\": [\n          266833,\n          100770\n        ],\n        \"semantic_type\": \"\",\n        \"description\": \"\"\n      }\n    }\n  ]\n}"
            }
          },
          "metadata": {},
          "execution_count": 120
        }
      ]
    },
    {
      "cell_type": "code",
      "source": [
        "plt.bar(day_df_transposed.index,day_df_transposed[0])"
      ],
      "metadata": {
        "colab": {
          "base_uri": "https://localhost:8080/",
          "height": 447
        },
        "id": "RimlLpqMBuJ3",
        "outputId": "ab0ed912-da08-4061-aed2-cf28a761d938"
      },
      "execution_count": null,
      "outputs": [
        {
          "output_type": "execute_result",
          "data": {
            "text/plain": [
              "<BarContainer object of 2 artists>"
            ]
          },
          "metadata": {},
          "execution_count": 124
        },
        {
          "output_type": "display_data",
          "data": {
            "text/plain": [
              "<Figure size 640x480 with 1 Axes>"
            ],
            "image/png": "[encoded data removed]"
          },
          "metadata": {}
        }
      ]
    },
    {
      "cell_type": "markdown",
      "source": [
        "from this we can state that the customers stary in hotel when it is weekdays where not much in that of the weekend"
      ],
      "metadata": {
        "id": "kr01iZ_CCml9"
      }
    },
    {
      "cell_type": "markdown",
      "source": [
        "# **Conclusion**\n",
        "\n",
        "In conclusion, this EDA has provided valuable insights into the hotel's operations, customer behavior, and revenue patterns. These findings can guide data-driven decision-making to optimize hotel performance, enhance customer experiences, and drive business growth. Implementing the recommendations based on these insights will likely result in improved operational efficiency and increased profitability."
      ],
      "metadata": {
        "id": "T6PNxwZXDfnx"
      }
    }
  ]
}